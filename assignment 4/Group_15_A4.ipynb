{
  "cells": [
    {
      "cell_type": "markdown",
      "metadata": {
        "id": "OHUHsaYZf29e"
      },
      "source": [
        "# Lab 4: Probing the capabilities of LLMs\n",
        "\n",
        "Unlike previous assignments in this course, our primary goal in this lab is not to use NLP tools and techniques model language *per se*, but rather to investigate properties of language models themselves, since large language models (LLMs) are \"black boxes\" whose inner workings cannot be directly observed.\n",
        "\n",
        "In particular, you will utilize and interpret the outputs of language models to **probe** features of those models--and in particular, how closely (or not) they resemble human language use/knowledge. We will design and implement probes for masked language modeling in BERT, in order to build on our knowledge from Lab 3, but these techniques are very generally applicable to models of all sorts, including generative models like GPT-3.\n",
        "\n",
        "\n"
      ]
    },
    {
      "cell_type": "markdown",
      "metadata": {
        "id": "7QdVKyOPkdq2"
      },
      "source": [
        "Masked Language Modeling is essentially a game of \"fill in the blank\". The model is given an input text of which a portion is \"masked\", and trained to predict what the masked element is given the surrounding context (both before and after the mask). Your job is to use these predictions to reason about how the model itself works."
      ]
    },
    {
      "cell_type": "markdown",
      "source": [
        "# Rules\n",
        "* The assignment should submitted to **Blackboard** as `.ipynb`. Only **one submission per group**.\n",
        "\n",
        "* The **filename** should be the group number, e.g., `01.ipynb` or `31.ipynb`.\n",
        "\n",
        "* The questions marked **Extra** or **Optional** are an additional challenge for those interested in going the extra mile. There are no points for them.\n",
        "\n",
        "**Rules for implementation**\n",
        "\n",
        "* You should **write your answers in this iPython Notebook**. (See http://ipython.org/notebook.html for reference material.) If you have problems, please contact your teaching assistant.\n",
        "\n",
        "* Use only **one cell for markdown** answers!    \n",
        "\n",
        "    * You do **not need to submit any code** for this lab, but you are free to leave any code you might run in your submission, so long as it does not interfere with readability of your written responses.\n",
        "    * For text-based questions, put your solution in the `█████ YOUR ANSWER HERE █████` cell and keep the header.\n",
        "\n",
        "* Don't change or delete any initially provided cells, either text or code, unless explicitly instructed to do so.\n",
        "* Don't change the names of provided functions and variables or arguments of the functions.\n",
        "* Leave the output of your code in the output cells.\n",
        "* Test your code and **make sure we can run your notebook** in the colab environment.\n",
        "* Don't forget to fill in the contribution information.\n",
        "\n",
        "<font color=\"red\">You following these rules helps us to grade the submissions relatively efficiently. If these rules are violated, a submission will be subject to penalty points.</font>  "
      ],
      "metadata": {
        "id": "B-HM0RPfrDyF"
      }
    },
    {
      "cell_type": "markdown",
      "source": [
        "# <font color=\"red\">Contributions</font>\n",
        "\n",
        "~~Delete this text and write instead of it:~~\n",
        "* ~~a list of group members names (NOT student IDs)~~\n",
        "* ~~who contributed to which exercises (you don't need to be very detailed)~~"
      ],
      "metadata": {
        "id": "NGpWAnS_rf-j"
      }
    },
    {
      "cell_type": "markdown",
      "metadata": {
        "id": "hamhG9qukptp"
      },
      "source": [
        "# Setup"
      ]
    },
    {
      "cell_type": "markdown",
      "metadata": {
        "id": "sMIYAasISpXT"
      },
      "source": [
        "BERT, which you are already familiar with, is pre-trained on a masked language modeling task. We will use this model to make predictions about what \"fills in the blank\" in a masked language task. As before, we will need the transformers package to use BERT."
      ]
    },
    {
      "cell_type": "code",
      "execution_count": 1,
      "metadata": {
        "id": "eaGaDGcQhwd2",
        "colab": {
          "base_uri": "https://localhost:8080/"
        },
        "outputId": "4b4200ff-9032-4f20-b850-eadf45b247bb"
      },
      "outputs": [
        {
          "output_type": "stream",
          "name": "stdout",
          "text": [
            "4.41.2\n"
          ]
        }
      ],
      "source": [
        "# !pip install transformers\n",
        "import transformers\n",
        "print(transformers.__version__) # 4.41.2"
      ]
    },
    {
      "cell_type": "markdown",
      "metadata": {
        "id": "jTZrGWI3T58X"
      },
      "source": [
        "Then, we need to instantiate the tokenizer and the masked learning model."
      ]
    },
    {
      "cell_type": "code",
      "execution_count": 2,
      "metadata": {
        "id": "WpBhMZbKT-vK",
        "colab": {
          "base_uri": "https://localhost:8080/",
          "height": 388,
          "referenced_widgets": [
            "c1616b9c0f084a1bbc25f954b9907c69",
            "8f3fb20c75e3482b9779b1cb00021740",
            "764161d716254fc3830c20f383bf7e7b",
            "85da69d12c5b462d92e9ce564d66119d",
            "a0c33115576543638abf75018b0cffa9",
            "720fcc0f13394070a98bf051e0a10be5",
            "a4a3bf97dd9b4af3bad4f653c41d7502",
            "4b2458ffb2214f24b6bb5151fc87290d",
            "55887b44f85e44b683cb68689391414c",
            "0f233b851ede4b299dc29cd5c42334c1",
            "0fc626efdef34a999bd5aab70a265efe",
            "74a459c280c6435e8caec57e9cae5394",
            "9cade3d9c1cc4c8c9af977274cdf4f44",
            "f135332fb82549dbb66b4e84033914ce",
            "4fea42c0136b41469433eed6ea7463e4",
            "a7e3d59f66bf46059262b0b9bd910520",
            "b485515b44e24285b79ff9b76deb4aa9",
            "8859e15effa34a98a2738d8866a9f2c3",
            "d9c45ce9807948eea39a119bed8da60c",
            "0aedf86425d543fb85e80d632cbf259d",
            "3b65f897016f446397c6ce89a727c48f",
            "6eab39a5450e46539e17b69ec1278277",
            "cab36f00e30e41c3b0fff47e9ae1129e",
            "5e0565db1e17404eb06ed69620339808",
            "7dcc7315945d45aaa4560c3dae8eea16",
            "c180f0b87acc4b4fb6c9ca3e704dde38",
            "a83804753bd342159b955b6410de38ad",
            "07511e97cf814398a2459887166d6b4b",
            "ff360d8c70ef467a840f8bd191cd6362",
            "0a6853ca08d3497c8321920b2f223a2a",
            "6573787c90e549ef93bfa305aab05dd6",
            "09a60ec56be54fd9a6814668c785a510",
            "17045f59f4534f2e9689d8f2cef02074",
            "ee8fff2269594487bdaf58af60416e7c",
            "7ef76055cd074c3d987be025555a6b47",
            "7b0b5e3026b04a53b8c7bc9c25179292",
            "4a4f47f1965f4589875297dc4cbae634",
            "2d86c8d098114ae88424f1394bf33dd6",
            "8f9c55c66dc04ad3bc42f3981eb4b2b5",
            "0cffb38b571c4ee68c56caa9022f8964",
            "46c02ddd0d3e46cda342a082ffd7d630",
            "05fe57fd700241c19ac4ca9f6b67f300",
            "d03e56bee7254976b47aec4ce7a3c934",
            "1214d919e23f42f8829dbb2e9b891e21",
            "e01a6d3e55f8486c8354e02b9dfc9d9f",
            "b9c3762b898841509efc052113e44983",
            "9bc16543d8e34e3c85e24934570f59ad",
            "a2de05aea4c54568ac6cebd8d7058236",
            "1b0dfd71c0524c7a8a1db77b32962320",
            "98743208925c4b17bd6697930ca1c639",
            "90e283f98df943089f025d2cbca9815c",
            "c77f2d0b1d9646c4ac38c23d9b0f0dc3",
            "49f0312f837e4815b85376802555d936",
            "2c1aeef4f7d341109a781f3529ab6a03",
            "29bf785a00f8482cae3c2ebec9e1081b"
          ]
        },
        "outputId": "812f4d10-2cd2-43dc-ce1f-46a06d7a2888"
      },
      "outputs": [
        {
          "output_type": "stream",
          "name": "stderr",
          "text": [
            "/usr/local/lib/python3.10/dist-packages/huggingface_hub/utils/_token.py:89: UserWarning: \n",
            "The secret `HF_TOKEN` does not exist in your Colab secrets.\n",
            "To authenticate with the Hugging Face Hub, create a token in your settings tab (https://huggingface.co/settings/tokens), set it as secret in your Google Colab and restart your session.\n",
            "You will be able to reuse this secret in all of your notebooks.\n",
            "Please note that authentication is recommended but still optional to access public models or datasets.\n",
            "  warnings.warn(\n"
          ]
        },
        {
          "output_type": "display_data",
          "data": {
            "text/plain": [
              "tokenizer_config.json:   0%|          | 0.00/48.0 [00:00<?, ?B/s]"
            ],
            "application/vnd.jupyter.widget-view+json": {
              "version_major": 2,
              "version_minor": 0,
              "model_id": "c1616b9c0f084a1bbc25f954b9907c69"
            }
          },
          "metadata": {}
        },
        {
          "output_type": "display_data",
          "data": {
            "text/plain": [
              "vocab.txt:   0%|          | 0.00/232k [00:00<?, ?B/s]"
            ],
            "application/vnd.jupyter.widget-view+json": {
              "version_major": 2,
              "version_minor": 0,
              "model_id": "74a459c280c6435e8caec57e9cae5394"
            }
          },
          "metadata": {}
        },
        {
          "output_type": "display_data",
          "data": {
            "text/plain": [
              "tokenizer.json:   0%|          | 0.00/466k [00:00<?, ?B/s]"
            ],
            "application/vnd.jupyter.widget-view+json": {
              "version_major": 2,
              "version_minor": 0,
              "model_id": "cab36f00e30e41c3b0fff47e9ae1129e"
            }
          },
          "metadata": {}
        },
        {
          "output_type": "stream",
          "name": "stderr",
          "text": [
            "/usr/local/lib/python3.10/dist-packages/huggingface_hub/file_download.py:1132: FutureWarning: `resume_download` is deprecated and will be removed in version 1.0.0. Downloads always resume when possible. If you want to force a new download, use `force_download=True`.\n",
            "  warnings.warn(\n"
          ]
        },
        {
          "output_type": "display_data",
          "data": {
            "text/plain": [
              "config.json:   0%|          | 0.00/570 [00:00<?, ?B/s]"
            ],
            "application/vnd.jupyter.widget-view+json": {
              "version_major": 2,
              "version_minor": 0,
              "model_id": "ee8fff2269594487bdaf58af60416e7c"
            }
          },
          "metadata": {}
        },
        {
          "output_type": "display_data",
          "data": {
            "text/plain": [
              "model.safetensors:   0%|          | 0.00/440M [00:00<?, ?B/s]"
            ],
            "application/vnd.jupyter.widget-view+json": {
              "version_major": 2,
              "version_minor": 0,
              "model_id": "e01a6d3e55f8486c8354e02b9dfc9d9f"
            }
          },
          "metadata": {}
        },
        {
          "output_type": "stream",
          "name": "stderr",
          "text": [
            "Some weights of the model checkpoint at bert-base-uncased were not used when initializing BertForMaskedLM: ['bert.pooler.dense.bias', 'bert.pooler.dense.weight', 'cls.seq_relationship.bias', 'cls.seq_relationship.weight']\n",
            "- This IS expected if you are initializing BertForMaskedLM from the checkpoint of a model trained on another task or with another architecture (e.g. initializing a BertForSequenceClassification model from a BertForPreTraining model).\n",
            "- This IS NOT expected if you are initializing BertForMaskedLM from the checkpoint of a model that you expect to be exactly identical (initializing a BertForSequenceClassification model from a BertForSequenceClassification model).\n"
          ]
        }
      ],
      "source": [
        "import torch\n",
        "from transformers import BertTokenizer, BertModel, BertForMaskedLM, RobertaTokenizer, RobertaModel, RobertaForMaskedLM\n",
        "\n",
        "seed = 5\n",
        "torch.manual_seed(seed)\n",
        "torch.cuda.manual_seed_all(seed)\n",
        "\n",
        "bert_tokenizer = BertTokenizer.from_pretrained('bert-base-uncased')\n",
        "bert_model = BertForMaskedLM.from_pretrained('bert-base-uncased')\n",
        "\n",
        "#bert_model.eval()"
      ]
    },
    {
      "cell_type": "markdown",
      "metadata": {
        "id": "DkHva4MwbvEO"
      },
      "source": [
        "# Dealing with masked sentences"
      ]
    },
    {
      "cell_type": "markdown",
      "metadata": {
        "id": "H3qSWsukVRAX"
      },
      "source": [
        "Next, we want to define some methods to allow us to see the probability of particular candidate tokens to \"fill in the blank\" in some text. We will use the token [MASK] to denote the blank.\n",
        "\n",
        "The class ```MaskedSentence``` takes a sentence with a [MASK] token and uses softmax to turn the weights of all possible predicted values for the mask into probabilities. The class has two additional methods:\n",
        "\n",
        "* The function ```get_masked_token_probability``` takes a string  ```token``` and prints the likelihood that BERT assigns to [MASK] being replaced in the text with ```token```.\n",
        "* The function ```predict_masked_sentence``` prints the top *k* (5 by default) predictions for [MASK] with their probabilities."
      ]
    },
    {
      "cell_type": "code",
      "execution_count": 3,
      "metadata": {
        "id": "n0yOYp_PiUmy"
      },
      "outputs": [],
      "source": [
        "# adapted from code by Yuchen Liu\n",
        "\n",
        "class MaskedSentence:\n",
        "\n",
        "  \"\"\"\n",
        "  A tokenized sentence with a masked word\n",
        "  Note: [MASK] is the default mask token for BERT, other MLMs may have different defaults\n",
        "  \"\"\"\n",
        "\n",
        "  def __init__(self, text, model=bert_model, tokenizer=bert_tokenizer, mask_token=\"[MASK]\"):\n",
        "\n",
        "    # Tokenize text and obtain predictions for mask\n",
        "\n",
        "    self.tokenizer = tokenizer\n",
        "    self.mask = mask_token\n",
        "\n",
        "    text = \"[CLS] %s [SEP]\"%text\n",
        "    tokenized_text = self.tokenizer.tokenize(text)\n",
        "    masked_index = tokenized_text.index(mask_token)\n",
        "    indexed_tokens = self.tokenizer.convert_tokens_to_ids(tokenized_text)\n",
        "    tokens_tensor = torch.tensor([indexed_tokens])\n",
        "\n",
        "    with torch.no_grad():\n",
        "        outputs = model(tokens_tensor)\n",
        "        predictions = outputs[0]\n",
        "\n",
        "    # Turn predictions into a probability distribution using softmax\n",
        "\n",
        "    self.probs = torch.nn.functional.softmax(predictions[0, masked_index], dim=-1)\n",
        "\n",
        "  def get_masked_token_probability(self, token):\n",
        "\n",
        "    # prints probability of mask being replaced by token\n",
        "\n",
        "    token_id = self.tokenizer.convert_tokens_to_ids(token)\n",
        "    token_prob = self.probs[token_id]\n",
        "\n",
        "    print(f\"{self.mask}: {token},  | probability:, {float(token_prob)}, \\n\")\n",
        "\n",
        "  def predict_masked_sent(self, top_k=5):\n",
        "\n",
        "    # prints k most probable replacements for token\n",
        "\n",
        "    top_k_weights, top_k_indices = torch.topk(self.probs, top_k, sorted=True)\n",
        "\n",
        "    for i, pred_idx in enumerate(top_k_indices):\n",
        "        predicted_token = self.tokenizer.convert_ids_to_tokens([pred_idx])[0]\n",
        "        token_weight = top_k_weights[i]\n",
        "        print(f\"{self.mask}: {predicted_token}, | probability:, {float(token_weight)}\")\n"
      ]
    },
    {
      "cell_type": "markdown",
      "metadata": {
        "id": "QJMBDzCybVBZ"
      },
      "source": [
        "Now, let's test these methods on a string with a mask."
      ]
    },
    {
      "cell_type": "code",
      "execution_count": 4,
      "metadata": {
        "id": "Zh_yRQdybc1w",
        "colab": {
          "base_uri": "https://localhost:8080/"
        },
        "outputId": "fa1a275c-df0b-43fb-d917-c6b81004f0a8"
      },
      "outputs": [
        {
          "output_type": "stream",
          "name": "stdout",
          "text": [
            "[MASK]: stage,  | probability:, 0.0009108720696531236, \n",
            "\n",
            "[MASK]: game, | probability:, 0.22936248779296875\n",
            "[MASK]: team, | probability:, 0.2215639054775238\n",
            "[MASK]: player, | probability:, 0.1818789690732956\n",
            "[MASK]: champion, | probability:, 0.02110450714826584\n",
            "[MASK]: winner, | probability:, 0.012764733284711838\n"
          ]
        }
      ],
      "source": [
        "test_sentence = MaskedSentence(\"All the world’s a [MASK], and all the men and women merely players.\")\n",
        "test_sentence.get_masked_token_probability(\"stage\")\n",
        "test_sentence.predict_masked_sent(top_k=5)"
      ]
    },
    {
      "cell_type": "markdown",
      "metadata": {
        "id": "KNrjlvxslo1n"
      },
      "source": [
        "We see that the model assigns a probability of about 0.0009 to *stage*, and the highest-probability token is *game* (0.229)."
      ]
    },
    {
      "cell_type": "markdown",
      "metadata": {
        "id": "qk_WOo8Vm3GJ"
      },
      "source": [
        "# Testing linguistic knowledge in MLMs"
      ]
    },
    {
      "cell_type": "markdown",
      "metadata": {
        "id": "sq9DicHynuN7"
      },
      "source": [
        "A major outstanding question in the study of large language models in general is how well (or poorly) the models are able to replicate aspects of humans' implicit linguistic knowledge and linguistic reasoning. One way to test this is to see how the model predicts a target word.\n",
        "\n",
        "For example, consider the ways we could fill in the blank in the sentence *If cats were herbivores, they would probably eat _________.* This sentence is an example of what linguists call a **counterfactual conditional**: a description of what would happen if some hypothetical (but contrary to reality) condition were met. A speaker of English could recognize that this sentence is describing a hypothetical situation in which cats eat only plants, so the most logical continuation would be a word that describes edible plants, like *vegetables* or *carrots*."
      ]
    },
    {
      "cell_type": "markdown",
      "metadata": {
        "id": "0yxjbZD-sMbF"
      },
      "source": [
        "Let's see what BERT predicts as the likeliest possible predictions for the mask:"
      ]
    },
    {
      "cell_type": "code",
      "execution_count": 5,
      "metadata": {
        "id": "KNcWeescpF3N",
        "colab": {
          "base_uri": "https://localhost:8080/"
        },
        "outputId": "0c6a3936-6299-4ab0-90e7-54f8d983595e"
      },
      "outputs": [
        {
          "output_type": "stream",
          "name": "stdout",
          "text": [
            "[MASK]: bird, | probability:, 0.07395214587450027\n",
            "[MASK]: bee, | probability:, 0.055763211101293564\n",
            "[MASK]: fly, | probability:, 0.044657859951257706\n",
            "[MASK]: fruit, | probability:, 0.03475882112979889\n",
            "[MASK]: flower, | probability:, 0.03056127019226551\n"
          ]
        }
      ],
      "source": [
        "cats_sent = MaskedSentence(\"time flies like an arrow and fruit flies like a [MASK].\")\n",
        "cats_sent.predict_masked_sent(top_k=5)\n",
        "\n",
        "\n",
        "#\"time flies like an arrow and fruit flies like a [MASK].\"\n",
        "#\"If cats were herbivores, they would probably eat [MASK].\"\n",
        "#\"herbivores eat plants. cats are not herbivores. However, if cats were herbivores, they would probably eat [MASK].\""
      ]
    },
    {
      "cell_type": "markdown",
      "source": [],
      "metadata": {
        "id": "3zsQP_-DK8xm"
      }
    },
    {
      "cell_type": "markdown",
      "metadata": {
        "id": "huems7ZIpHGj"
      },
      "source": [
        "We see that BERT's top 5 predictions for the mask are *them, humans, it*, *animals*, and *meat*. On one hand, all of these predictions result in grammatical (syntactically well-formed) sentences, but they are either not very contentful (*them*, *it*) or nonsensical (*humans*, *meat*, *animals*)---none human-like. By contrast, the probabilities of *vegetables* and *carrots* are both relatively low:"
      ]
    },
    {
      "cell_type": "code",
      "execution_count": null,
      "metadata": {
        "id": "X2i9q69wQ2OM",
        "colab": {
          "base_uri": "https://localhost:8080/"
        },
        "outputId": "a1a3b13d-5341-4dd3-f17a-3235a0791836"
      },
      "outputs": [
        {
          "output_type": "stream",
          "name": "stdout",
          "text": [
            "[MASK]: vegetables,  | probability:, 0.0011069991160184145, \n",
            "\n",
            "[MASK]: carrots,  | probability:, 2.656224978636601e-06, \n",
            "\n"
          ]
        }
      ],
      "source": [
        "cats_sent.get_masked_token_probability(\"vegetables\")\n",
        "cats_sent.get_masked_token_probability(\"carrots\")"
      ]
    },
    {
      "cell_type": "markdown",
      "metadata": {
        "id": "uCHgrC7Hsl19"
      },
      "source": [
        "# Ex 1 [1pt] Evaluating counterfactual conditionals in BERT\n",
        "\n",
        "Provide a possible explanation, in 150-200 words, as to why BERT gives such non-human like results for this counterfactual conditional sentence. Your explanation should address the following questions: Do you think this is an arbitrary feature of this one sentence? Or does it reveal something more general about BERT? How could you go about testing whether your explanation is correct, using the class defined above?\n"
      ]
    },
    {
      "cell_type": "markdown",
      "source": [
        "<font color=\"red\">█████ YOUR ANSWER HERE █████</font>\n",
        "\n",
        "According to a recent paper (arXiv:2305.16572), there are a few factors which contribute to this behavior. The paper tests the capacity of pre-trained models including GPT3 and BERT on predicting the consequences of counterfactual conditionals. They find BERT to perform the worst in general and when compared to GPT3. The authors show that models which have a stronger grasp of relevant world knowledge are better equipped to manage counterfactuals. They also find combining relevant world knowledge with simple lexical triggers produce better predictions. The authors further show that, compared to GPT3, a model like BERT largely relies on simple lexical triggers in its predictions of counterfactuals. Based on this paper, we can attribute BERT's poor performance on counterfactuals to a lower grasp of world knowledge and stronger reliance on only structural cues. We can test this by feeding the relevant knowledge to BERT and then prompting it to predict the most likely words. For example, if we modify the sentence above to \"Herbivores eat plants. cats are not herbivores. However, if cats were herbivores, they would probably eat [MASK].\", the likelihood of the masked word being \"plants\" increases to 61%. When we review the BERT paper (Devlin et al. 2019) we can see that fine-tuning the pre-trained model on the prediction task given in these examples of counterfactuals is very likely to improve the performance of the model."
      ],
      "metadata": {
        "id": "BOepmgwStHI0"
      }
    },
    {
      "cell_type": "markdown",
      "metadata": {
        "id": "lddRei19VrMz"
      },
      "source": [
        "# Ex2 [4pt] Design your own BERT probe experiment"
      ]
    },
    {
      "cell_type": "markdown",
      "metadata": {
        "id": "HQG1STzfeM4M"
      },
      "source": [
        "We can reason about the capabilities of an LLM simply by choosing carefully designed inputs and evaluating the model's corresponding outputs. If we have test many inputs with some shared property, such as a particular syntactic structure, we can start to generalize about BERT's behaviour with text that has that property. For example, we can investigate the question of whether or not BERT predicts continuations of counterfactual conditionals which are consistent with the hypothetical scenario presented in the *if*-clause of the conditional by evaluating what happens when we give it many such conditionals as inputs.\n",
        "\n",
        "Your primary task for this final lab is to design a small experiment that tests, using the same kinds of techniques as above, the capabilities of BERT in a particular domain of your choice. To give you some ideas, here are a few suggestions of possible general domains that could be worth investigating, although the actual question you investigate should be small enough that it can be tested with a relatively modest selection of sentences. You are also free to come up with your own idea:\n",
        "\n",
        "* The interpretation of pronouns (can BERT recognize which individual a pronoun like *it* is referring to when there are multiple possible options?)\n",
        "* Does BERT fall for so-called \"semantic illusions\", in which it fails to recognize an inaccuracy in text, such as answering the question \"How many of each animal did Moses take on the ark?\" with \"2\"? (The Biblical story is about Noah, not Moses.)\n",
        "* Bias: Does BERT make predictions which are more consistent with gender, racial, or other stereotypes?\n",
        "* World knowledge: Does BERT make predictions which correspond with the way the world actually is?"
      ]
    },
    {
      "cell_type": "markdown",
      "metadata": {
        "id": "_mvDWwhTfc5D"
      },
      "source": [
        "Your description of your experiment should have the following parts and be approximately equivalent in length to 1 typed page (roughly 500 words, in addition to your test sentences):\n",
        "\n",
        "\n",
        "\n",
        "*   **Research Question**: A clear formulation of the question you intend to investigate. It should be small and precise enough that it can reasonably be investigated using the functions defined above.\n",
        "*   **Hypothesis**: The answer to the research question that you predict to be true, and *why you have that specific expectation*.\n",
        "*   **At least 10 test sentences**, with a description of which of their properties are relevant. Be very clear about what, specifically, you are testing, and how the results will bear on your hypothesis.\n",
        "*   **Test** your sentences and see what outputs you get. Do these provide evidence for or against your hypothesis? Why do you think you got the results you did?  \n",
        "\n",
        "*   **Discuss** whether, given your own linguistic intuitions, the behaviour of BERT approximates that of a human language user with respect to your research question. If it is not human-like, how could the model be improved (in terms of training data, architecture, etc.) to achieve better results?\n",
        "* **OPTIONAL**: Try investigating your research question in some other models (see https://huggingface.co/models for some options). You will likely need to adapt your probes for other kinds of models--for instance, a probe you test in a dialogue-based interface like ChatGPT will be different than those you designed for BERT. Some models, like [RoBERTa](https://huggingface.co/FacebookAI/roberta-base), are built upon the BERT architecture, so they are compatible with the code above (see example below--note that RoBERTa tokenizes slightly differently from BERT)."
      ]
    },
    {
      "cell_type": "code",
      "source": [
        "roberta_tokenizer = RobertaTokenizer.from_pretrained('roberta-base')\n",
        "roberta_model = RobertaForMaskedLM.from_pretrained('roberta-base')\n",
        "\n",
        "#Note 1: RoBERTa's default mask token is <mask>\n",
        "#Note 2: Most tokens in RoBERTa begin with the unusual character Ġ.\n",
        "#This is an artefact of the tokenization process, which includes the space preceding words.\n",
        "#To get the probability of a token \"word\",\n",
        "#we need to give get_masked_token_probability \"Ġword\"\n",
        "\n",
        "roberta_test_sentence = MaskedSentence(\"All the world’s a <mask>, and all the men and women merely players.\", model=roberta_model, tokenizer=roberta_tokenizer, mask_token='<mask>')\n",
        "roberta_test_sentence.get_masked_token_probability(\"Ġstage\")\n",
        "roberta_test_sentence.predict_masked_sent(top_k=5)"
      ],
      "metadata": {
        "id": "6u0UmEwIj4nn"
      },
      "execution_count": null,
      "outputs": []
    },
    {
      "cell_type": "markdown",
      "source": [
        "<font color=\"red\">█████ YOUR ANSWER HERE █████</font>\n",
        "\n",
        "**Research Question:**\n",
        "To what extent does BERT demonstrate proficiency in understanding and solving mathematical computations?\n",
        "Our motivation is that BERT being a text-based, unimodal, model may fail to recognize mathematical constructs in its pre-training stage. We faced a similar issue with ChatGPT. We may, a priori, theorize that a transformer model trained on text is likely to fail at recognizing mathematical constructs because they differ markedly from linguistic constructs. Thus, if BERT treats numbers as contextualized word vectors, it’s likely to fail at mathematical tasks unless it is fine-tuned at such tasks.  \n",
        "\n",
        "**Hypothesis:**\n",
        "Since BERT is trained to recognize linguistic constructs and treats all its inputs as contextualized word embeddings, it’s likely to fail at mathematical tasks unless it’s fine-tuned to handle such tasks.\n",
        "Given that the exercise asks for at least 10 test sentences, we will hypothesize that BERT will fail at more than 2 mathematical tasks out of 10. Thus, our confidence level is 80%.\n",
        "\n",
        "**At least 10 test sentences**\n",
        "\n",
        "The sentences below test different aspects of mathematics, from basic math to sequences and slightly more complicated mathematical problems. To ensure that BERT's results pertain to knowledge of mathematics and not simply linguistic knowledge, we vary the test sentences to capture the specific mathematical results as shown in examples 6, 7, 9, and 10 below.\n",
        "\n",
        "1.\tSimple arithmetic in a story format: “If Sarah has three candles and she buys four more candles, she will own [MASK] candles.”\n",
        "2.\tSimple arithmetic in a numerical format: “Sarah bought 2 grams of apples and later bought 3 more grams of apples. In total, Sarah bought [MASK] grams of apples.\"\n",
        "3.\tDirect numerical example: \"the result of adding two to two is [MASK].\"\n",
        "4.\tTesting a numerical sequence with no gaps: \"If three follows after two, then four follows after [MASK].\"\n",
        "5.\tTesting a numerical sequence with a gap: \"If three follows after two, then ten follows after [MASK].\"\n",
        "6.\tRecognizing mathematics with no ambiguities: \"If three is a number, then twenty is a [MASK].\"\n",
        "7.\tRecognizing mathematics with ambiguities: \"If three is a number, then car is a [MASK].\"\n",
        "8.\tTesting a slightly more complicated mathematical problem: \"Robert earned 20 euros. He spent 5 euros on apples and was given 10 euros. Robert ended up with [MASK] euros.\"\n",
        "9.\tGeneral mathematical facts with a forward sequence: \"a circle is a 2 dimensional object while a sphere is a [MASK] dimensional object.\"\n",
        "10.\tGeneral mathematical facts with a backward sequence: \"a circle is a 2 dimensional object while a line is a [MASK] dimensional object.\"\n",
        "\n",
        "**Test**\n",
        "We tested BERT’s ability to recognize mathematical constructs and mathematical problems with the above sentences. We computed the probability distribution of the most likely masked words for each test sentence. BERT failed at all 10 sentences. We found that although it may appear that BERT is able to correctly predict the most likely masked word in the ninth sentence, it only does so because of the linguistic structure of the sentence and not by recognizing any mathematical patterns. This observation is validated by realizing that BERT produces almost the probability distribution for the tenth sentence.  \n",
        "\n",
        "**Discuss**\n",
        "The results confirm our hypothesis that BERT, being a language model, is unable to recognize mathematical constructs or even mathematical facts. We believe, however, that it’s possible for fine-tuning to make BERT better able at handling mathematical tasks. Pre-trained models such as BERT are particularly good at recognizing linguistics patterns given their training on a very large corpus. However, they often need additional fine-tuning to handle specific tasks.\n",
        "\n"
      ],
      "metadata": {
        "id": "hcehahWutEdk"
      }
    },
    {
      "cell_type": "markdown",
      "metadata": {
        "id": "upqe9EP2tBD8"
      },
      "source": [
        "# Acknowledgments\n",
        "\n",
        "Concept and lab designed by Tom Roberts. BERT MLM script was heavily based on work by Yuchen Lin. Counterfactual example adapted from [Li, Yu, and Ettinger (2023)](https://aclanthology.org/2023.acl-short.70.pdf)."
      ]
    }
  ],
  "metadata": {
    "colab": {
      "provenance": [],
      "toc_visible": true
    },
    "kernelspec": {
      "display_name": "Python 3",
      "name": "python3"
    },
    "language_info": {
      "codemirror_mode": {
        "name": "ipython",
        "version": 3
      },
      "file_extension": ".py",
      "mimetype": "text/x-python",
      "name": "python",
      "nbconvert_exporter": "python",
      "pygments_lexer": "ipython3",
      "version": "3.11.5"
    },
    "widgets": {
      "application/vnd.jupyter.widget-state+json": {
        "c1616b9c0f084a1bbc25f954b9907c69": {
          "model_module": "@jupyter-widgets/controls",
          "model_name": "HBoxModel",
          "model_module_version": "1.5.0",
          "state": {
            "_dom_classes": [],
            "_model_module": "@jupyter-widgets/controls",
            "_model_module_version": "1.5.0",
            "_model_name": "HBoxModel",
            "_view_count": null,
            "_view_module": "@jupyter-widgets/controls",
            "_view_module_version": "1.5.0",
            "_view_name": "HBoxView",
            "box_style": "",
            "children": [
              "IPY_MODEL_8f3fb20c75e3482b9779b1cb00021740",
              "IPY_MODEL_764161d716254fc3830c20f383bf7e7b",
              "IPY_MODEL_85da69d12c5b462d92e9ce564d66119d"
            ],
            "layout": "IPY_MODEL_a0c33115576543638abf75018b0cffa9"
          }
        },
        "8f3fb20c75e3482b9779b1cb00021740": {
          "model_module": "@jupyter-widgets/controls",
          "model_name": "HTMLModel",
          "model_module_version": "1.5.0",
          "state": {
            "_dom_classes": [],
            "_model_module": "@jupyter-widgets/controls",
            "_model_module_version": "1.5.0",
            "_model_name": "HTMLModel",
            "_view_count": null,
            "_view_module": "@jupyter-widgets/controls",
            "_view_module_version": "1.5.0",
            "_view_name": "HTMLView",
            "description": "",
            "description_tooltip": null,
            "layout": "IPY_MODEL_720fcc0f13394070a98bf051e0a10be5",
            "placeholder": "​",
            "style": "IPY_MODEL_a4a3bf97dd9b4af3bad4f653c41d7502",
            "value": "tokenizer_config.json: 100%"
          }
        },
        "764161d716254fc3830c20f383bf7e7b": {
          "model_module": "@jupyter-widgets/controls",
          "model_name": "FloatProgressModel",
          "model_module_version": "1.5.0",
          "state": {
            "_dom_classes": [],
            "_model_module": "@jupyter-widgets/controls",
            "_model_module_version": "1.5.0",
            "_model_name": "FloatProgressModel",
            "_view_count": null,
            "_view_module": "@jupyter-widgets/controls",
            "_view_module_version": "1.5.0",
            "_view_name": "ProgressView",
            "bar_style": "success",
            "description": "",
            "description_tooltip": null,
            "layout": "IPY_MODEL_4b2458ffb2214f24b6bb5151fc87290d",
            "max": 48,
            "min": 0,
            "orientation": "horizontal",
            "style": "IPY_MODEL_55887b44f85e44b683cb68689391414c",
            "value": 48
          }
        },
        "85da69d12c5b462d92e9ce564d66119d": {
          "model_module": "@jupyter-widgets/controls",
          "model_name": "HTMLModel",
          "model_module_version": "1.5.0",
          "state": {
            "_dom_classes": [],
            "_model_module": "@jupyter-widgets/controls",
            "_model_module_version": "1.5.0",
            "_model_name": "HTMLModel",
            "_view_count": null,
            "_view_module": "@jupyter-widgets/controls",
            "_view_module_version": "1.5.0",
            "_view_name": "HTMLView",
            "description": "",
            "description_tooltip": null,
            "layout": "IPY_MODEL_0f233b851ede4b299dc29cd5c42334c1",
            "placeholder": "​",
            "style": "IPY_MODEL_0fc626efdef34a999bd5aab70a265efe",
            "value": " 48.0/48.0 [00:00&lt;00:00, 2.34kB/s]"
          }
        },
        "a0c33115576543638abf75018b0cffa9": {
          "model_module": "@jupyter-widgets/base",
          "model_name": "LayoutModel",
          "model_module_version": "1.2.0",
          "state": {
            "_model_module": "@jupyter-widgets/base",
            "_model_module_version": "1.2.0",
            "_model_name": "LayoutModel",
            "_view_count": null,
            "_view_module": "@jupyter-widgets/base",
            "_view_module_version": "1.2.0",
            "_view_name": "LayoutView",
            "align_content": null,
            "align_items": null,
            "align_self": null,
            "border": null,
            "bottom": null,
            "display": null,
            "flex": null,
            "flex_flow": null,
            "grid_area": null,
            "grid_auto_columns": null,
            "grid_auto_flow": null,
            "grid_auto_rows": null,
            "grid_column": null,
            "grid_gap": null,
            "grid_row": null,
            "grid_template_areas": null,
            "grid_template_columns": null,
            "grid_template_rows": null,
            "height": null,
            "justify_content": null,
            "justify_items": null,
            "left": null,
            "margin": null,
            "max_height": null,
            "max_width": null,
            "min_height": null,
            "min_width": null,
            "object_fit": null,
            "object_position": null,
            "order": null,
            "overflow": null,
            "overflow_x": null,
            "overflow_y": null,
            "padding": null,
            "right": null,
            "top": null,
            "visibility": null,
            "width": null
          }
        },
        "720fcc0f13394070a98bf051e0a10be5": {
          "model_module": "@jupyter-widgets/base",
          "model_name": "LayoutModel",
          "model_module_version": "1.2.0",
          "state": {
            "_model_module": "@jupyter-widgets/base",
            "_model_module_version": "1.2.0",
            "_model_name": "LayoutModel",
            "_view_count": null,
            "_view_module": "@jupyter-widgets/base",
            "_view_module_version": "1.2.0",
            "_view_name": "LayoutView",
            "align_content": null,
            "align_items": null,
            "align_self": null,
            "border": null,
            "bottom": null,
            "display": null,
            "flex": null,
            "flex_flow": null,
            "grid_area": null,
            "grid_auto_columns": null,
            "grid_auto_flow": null,
            "grid_auto_rows": null,
            "grid_column": null,
            "grid_gap": null,
            "grid_row": null,
            "grid_template_areas": null,
            "grid_template_columns": null,
            "grid_template_rows": null,
            "height": null,
            "justify_content": null,
            "justify_items": null,
            "left": null,
            "margin": null,
            "max_height": null,
            "max_width": null,
            "min_height": null,
            "min_width": null,
            "object_fit": null,
            "object_position": null,
            "order": null,
            "overflow": null,
            "overflow_x": null,
            "overflow_y": null,
            "padding": null,
            "right": null,
            "top": null,
            "visibility": null,
            "width": null
          }
        },
        "a4a3bf97dd9b4af3bad4f653c41d7502": {
          "model_module": "@jupyter-widgets/controls",
          "model_name": "DescriptionStyleModel",
          "model_module_version": "1.5.0",
          "state": {
            "_model_module": "@jupyter-widgets/controls",
            "_model_module_version": "1.5.0",
            "_model_name": "DescriptionStyleModel",
            "_view_count": null,
            "_view_module": "@jupyter-widgets/base",
            "_view_module_version": "1.2.0",
            "_view_name": "StyleView",
            "description_width": ""
          }
        },
        "4b2458ffb2214f24b6bb5151fc87290d": {
          "model_module": "@jupyter-widgets/base",
          "model_name": "LayoutModel",
          "model_module_version": "1.2.0",
          "state": {
            "_model_module": "@jupyter-widgets/base",
            "_model_module_version": "1.2.0",
            "_model_name": "LayoutModel",
            "_view_count": null,
            "_view_module": "@jupyter-widgets/base",
            "_view_module_version": "1.2.0",
            "_view_name": "LayoutView",
            "align_content": null,
            "align_items": null,
            "align_self": null,
            "border": null,
            "bottom": null,
            "display": null,
            "flex": null,
            "flex_flow": null,
            "grid_area": null,
            "grid_auto_columns": null,
            "grid_auto_flow": null,
            "grid_auto_rows": null,
            "grid_column": null,
            "grid_gap": null,
            "grid_row": null,
            "grid_template_areas": null,
            "grid_template_columns": null,
            "grid_template_rows": null,
            "height": null,
            "justify_content": null,
            "justify_items": null,
            "left": null,
            "margin": null,
            "max_height": null,
            "max_width": null,
            "min_height": null,
            "min_width": null,
            "object_fit": null,
            "object_position": null,
            "order": null,
            "overflow": null,
            "overflow_x": null,
            "overflow_y": null,
            "padding": null,
            "right": null,
            "top": null,
            "visibility": null,
            "width": null
          }
        },
        "55887b44f85e44b683cb68689391414c": {
          "model_module": "@jupyter-widgets/controls",
          "model_name": "ProgressStyleModel",
          "model_module_version": "1.5.0",
          "state": {
            "_model_module": "@jupyter-widgets/controls",
            "_model_module_version": "1.5.0",
            "_model_name": "ProgressStyleModel",
            "_view_count": null,
            "_view_module": "@jupyter-widgets/base",
            "_view_module_version": "1.2.0",
            "_view_name": "StyleView",
            "bar_color": null,
            "description_width": ""
          }
        },
        "0f233b851ede4b299dc29cd5c42334c1": {
          "model_module": "@jupyter-widgets/base",
          "model_name": "LayoutModel",
          "model_module_version": "1.2.0",
          "state": {
            "_model_module": "@jupyter-widgets/base",
            "_model_module_version": "1.2.0",
            "_model_name": "LayoutModel",
            "_view_count": null,
            "_view_module": "@jupyter-widgets/base",
            "_view_module_version": "1.2.0",
            "_view_name": "LayoutView",
            "align_content": null,
            "align_items": null,
            "align_self": null,
            "border": null,
            "bottom": null,
            "display": null,
            "flex": null,
            "flex_flow": null,
            "grid_area": null,
            "grid_auto_columns": null,
            "grid_auto_flow": null,
            "grid_auto_rows": null,
            "grid_column": null,
            "grid_gap": null,
            "grid_row": null,
            "grid_template_areas": null,
            "grid_template_columns": null,
            "grid_template_rows": null,
            "height": null,
            "justify_content": null,
            "justify_items": null,
            "left": null,
            "margin": null,
            "max_height": null,
            "max_width": null,
            "min_height": null,
            "min_width": null,
            "object_fit": null,
            "object_position": null,
            "order": null,
            "overflow": null,
            "overflow_x": null,
            "overflow_y": null,
            "padding": null,
            "right": null,
            "top": null,
            "visibility": null,
            "width": null
          }
        },
        "0fc626efdef34a999bd5aab70a265efe": {
          "model_module": "@jupyter-widgets/controls",
          "model_name": "DescriptionStyleModel",
          "model_module_version": "1.5.0",
          "state": {
            "_model_module": "@jupyter-widgets/controls",
            "_model_module_version": "1.5.0",
            "_model_name": "DescriptionStyleModel",
            "_view_count": null,
            "_view_module": "@jupyter-widgets/base",
            "_view_module_version": "1.2.0",
            "_view_name": "StyleView",
            "description_width": ""
          }
        },
        "74a459c280c6435e8caec57e9cae5394": {
          "model_module": "@jupyter-widgets/controls",
          "model_name": "HBoxModel",
          "model_module_version": "1.5.0",
          "state": {
            "_dom_classes": [],
            "_model_module": "@jupyter-widgets/controls",
            "_model_module_version": "1.5.0",
            "_model_name": "HBoxModel",
            "_view_count": null,
            "_view_module": "@jupyter-widgets/controls",
            "_view_module_version": "1.5.0",
            "_view_name": "HBoxView",
            "box_style": "",
            "children": [
              "IPY_MODEL_9cade3d9c1cc4c8c9af977274cdf4f44",
              "IPY_MODEL_f135332fb82549dbb66b4e84033914ce",
              "IPY_MODEL_4fea42c0136b41469433eed6ea7463e4"
            ],
            "layout": "IPY_MODEL_a7e3d59f66bf46059262b0b9bd910520"
          }
        },
        "9cade3d9c1cc4c8c9af977274cdf4f44": {
          "model_module": "@jupyter-widgets/controls",
          "model_name": "HTMLModel",
          "model_module_version": "1.5.0",
          "state": {
            "_dom_classes": [],
            "_model_module": "@jupyter-widgets/controls",
            "_model_module_version": "1.5.0",
            "_model_name": "HTMLModel",
            "_view_count": null,
            "_view_module": "@jupyter-widgets/controls",
            "_view_module_version": "1.5.0",
            "_view_name": "HTMLView",
            "description": "",
            "description_tooltip": null,
            "layout": "IPY_MODEL_b485515b44e24285b79ff9b76deb4aa9",
            "placeholder": "​",
            "style": "IPY_MODEL_8859e15effa34a98a2738d8866a9f2c3",
            "value": "vocab.txt: 100%"
          }
        },
        "f135332fb82549dbb66b4e84033914ce": {
          "model_module": "@jupyter-widgets/controls",
          "model_name": "FloatProgressModel",
          "model_module_version": "1.5.0",
          "state": {
            "_dom_classes": [],
            "_model_module": "@jupyter-widgets/controls",
            "_model_module_version": "1.5.0",
            "_model_name": "FloatProgressModel",
            "_view_count": null,
            "_view_module": "@jupyter-widgets/controls",
            "_view_module_version": "1.5.0",
            "_view_name": "ProgressView",
            "bar_style": "success",
            "description": "",
            "description_tooltip": null,
            "layout": "IPY_MODEL_d9c45ce9807948eea39a119bed8da60c",
            "max": 231508,
            "min": 0,
            "orientation": "horizontal",
            "style": "IPY_MODEL_0aedf86425d543fb85e80d632cbf259d",
            "value": 231508
          }
        },
        "4fea42c0136b41469433eed6ea7463e4": {
          "model_module": "@jupyter-widgets/controls",
          "model_name": "HTMLModel",
          "model_module_version": "1.5.0",
          "state": {
            "_dom_classes": [],
            "_model_module": "@jupyter-widgets/controls",
            "_model_module_version": "1.5.0",
            "_model_name": "HTMLModel",
            "_view_count": null,
            "_view_module": "@jupyter-widgets/controls",
            "_view_module_version": "1.5.0",
            "_view_name": "HTMLView",
            "description": "",
            "description_tooltip": null,
            "layout": "IPY_MODEL_3b65f897016f446397c6ce89a727c48f",
            "placeholder": "​",
            "style": "IPY_MODEL_6eab39a5450e46539e17b69ec1278277",
            "value": " 232k/232k [00:00&lt;00:00, 7.62MB/s]"
          }
        },
        "a7e3d59f66bf46059262b0b9bd910520": {
          "model_module": "@jupyter-widgets/base",
          "model_name": "LayoutModel",
          "model_module_version": "1.2.0",
          "state": {
            "_model_module": "@jupyter-widgets/base",
            "_model_module_version": "1.2.0",
            "_model_name": "LayoutModel",
            "_view_count": null,
            "_view_module": "@jupyter-widgets/base",
            "_view_module_version": "1.2.0",
            "_view_name": "LayoutView",
            "align_content": null,
            "align_items": null,
            "align_self": null,
            "border": null,
            "bottom": null,
            "display": null,
            "flex": null,
            "flex_flow": null,
            "grid_area": null,
            "grid_auto_columns": null,
            "grid_auto_flow": null,
            "grid_auto_rows": null,
            "grid_column": null,
            "grid_gap": null,
            "grid_row": null,
            "grid_template_areas": null,
            "grid_template_columns": null,
            "grid_template_rows": null,
            "height": null,
            "justify_content": null,
            "justify_items": null,
            "left": null,
            "margin": null,
            "max_height": null,
            "max_width": null,
            "min_height": null,
            "min_width": null,
            "object_fit": null,
            "object_position": null,
            "order": null,
            "overflow": null,
            "overflow_x": null,
            "overflow_y": null,
            "padding": null,
            "right": null,
            "top": null,
            "visibility": null,
            "width": null
          }
        },
        "b485515b44e24285b79ff9b76deb4aa9": {
          "model_module": "@jupyter-widgets/base",
          "model_name": "LayoutModel",
          "model_module_version": "1.2.0",
          "state": {
            "_model_module": "@jupyter-widgets/base",
            "_model_module_version": "1.2.0",
            "_model_name": "LayoutModel",
            "_view_count": null,
            "_view_module": "@jupyter-widgets/base",
            "_view_module_version": "1.2.0",
            "_view_name": "LayoutView",
            "align_content": null,
            "align_items": null,
            "align_self": null,
            "border": null,
            "bottom": null,
            "display": null,
            "flex": null,
            "flex_flow": null,
            "grid_area": null,
            "grid_auto_columns": null,
            "grid_auto_flow": null,
            "grid_auto_rows": null,
            "grid_column": null,
            "grid_gap": null,
            "grid_row": null,
            "grid_template_areas": null,
            "grid_template_columns": null,
            "grid_template_rows": null,
            "height": null,
            "justify_content": null,
            "justify_items": null,
            "left": null,
            "margin": null,
            "max_height": null,
            "max_width": null,
            "min_height": null,
            "min_width": null,
            "object_fit": null,
            "object_position": null,
            "order": null,
            "overflow": null,
            "overflow_x": null,
            "overflow_y": null,
            "padding": null,
            "right": null,
            "top": null,
            "visibility": null,
            "width": null
          }
        },
        "8859e15effa34a98a2738d8866a9f2c3": {
          "model_module": "@jupyter-widgets/controls",
          "model_name": "DescriptionStyleModel",
          "model_module_version": "1.5.0",
          "state": {
            "_model_module": "@jupyter-widgets/controls",
            "_model_module_version": "1.5.0",
            "_model_name": "DescriptionStyleModel",
            "_view_count": null,
            "_view_module": "@jupyter-widgets/base",
            "_view_module_version": "1.2.0",
            "_view_name": "StyleView",
            "description_width": ""
          }
        },
        "d9c45ce9807948eea39a119bed8da60c": {
          "model_module": "@jupyter-widgets/base",
          "model_name": "LayoutModel",
          "model_module_version": "1.2.0",
          "state": {
            "_model_module": "@jupyter-widgets/base",
            "_model_module_version": "1.2.0",
            "_model_name": "LayoutModel",
            "_view_count": null,
            "_view_module": "@jupyter-widgets/base",
            "_view_module_version": "1.2.0",
            "_view_name": "LayoutView",
            "align_content": null,
            "align_items": null,
            "align_self": null,
            "border": null,
            "bottom": null,
            "display": null,
            "flex": null,
            "flex_flow": null,
            "grid_area": null,
            "grid_auto_columns": null,
            "grid_auto_flow": null,
            "grid_auto_rows": null,
            "grid_column": null,
            "grid_gap": null,
            "grid_row": null,
            "grid_template_areas": null,
            "grid_template_columns": null,
            "grid_template_rows": null,
            "height": null,
            "justify_content": null,
            "justify_items": null,
            "left": null,
            "margin": null,
            "max_height": null,
            "max_width": null,
            "min_height": null,
            "min_width": null,
            "object_fit": null,
            "object_position": null,
            "order": null,
            "overflow": null,
            "overflow_x": null,
            "overflow_y": null,
            "padding": null,
            "right": null,
            "top": null,
            "visibility": null,
            "width": null
          }
        },
        "0aedf86425d543fb85e80d632cbf259d": {
          "model_module": "@jupyter-widgets/controls",
          "model_name": "ProgressStyleModel",
          "model_module_version": "1.5.0",
          "state": {
            "_model_module": "@jupyter-widgets/controls",
            "_model_module_version": "1.5.0",
            "_model_name": "ProgressStyleModel",
            "_view_count": null,
            "_view_module": "@jupyter-widgets/base",
            "_view_module_version": "1.2.0",
            "_view_name": "StyleView",
            "bar_color": null,
            "description_width": ""
          }
        },
        "3b65f897016f446397c6ce89a727c48f": {
          "model_module": "@jupyter-widgets/base",
          "model_name": "LayoutModel",
          "model_module_version": "1.2.0",
          "state": {
            "_model_module": "@jupyter-widgets/base",
            "_model_module_version": "1.2.0",
            "_model_name": "LayoutModel",
            "_view_count": null,
            "_view_module": "@jupyter-widgets/base",
            "_view_module_version": "1.2.0",
            "_view_name": "LayoutView",
            "align_content": null,
            "align_items": null,
            "align_self": null,
            "border": null,
            "bottom": null,
            "display": null,
            "flex": null,
            "flex_flow": null,
            "grid_area": null,
            "grid_auto_columns": null,
            "grid_auto_flow": null,
            "grid_auto_rows": null,
            "grid_column": null,
            "grid_gap": null,
            "grid_row": null,
            "grid_template_areas": null,
            "grid_template_columns": null,
            "grid_template_rows": null,
            "height": null,
            "justify_content": null,
            "justify_items": null,
            "left": null,
            "margin": null,
            "max_height": null,
            "max_width": null,
            "min_height": null,
            "min_width": null,
            "object_fit": null,
            "object_position": null,
            "order": null,
            "overflow": null,
            "overflow_x": null,
            "overflow_y": null,
            "padding": null,
            "right": null,
            "top": null,
            "visibility": null,
            "width": null
          }
        },
        "6eab39a5450e46539e17b69ec1278277": {
          "model_module": "@jupyter-widgets/controls",
          "model_name": "DescriptionStyleModel",
          "model_module_version": "1.5.0",
          "state": {
            "_model_module": "@jupyter-widgets/controls",
            "_model_module_version": "1.5.0",
            "_model_name": "DescriptionStyleModel",
            "_view_count": null,
            "_view_module": "@jupyter-widgets/base",
            "_view_module_version": "1.2.0",
            "_view_name": "StyleView",
            "description_width": ""
          }
        },
        "cab36f00e30e41c3b0fff47e9ae1129e": {
          "model_module": "@jupyter-widgets/controls",
          "model_name": "HBoxModel",
          "model_module_version": "1.5.0",
          "state": {
            "_dom_classes": [],
            "_model_module": "@jupyter-widgets/controls",
            "_model_module_version": "1.5.0",
            "_model_name": "HBoxModel",
            "_view_count": null,
            "_view_module": "@jupyter-widgets/controls",
            "_view_module_version": "1.5.0",
            "_view_name": "HBoxView",
            "box_style": "",
            "children": [
              "IPY_MODEL_5e0565db1e17404eb06ed69620339808",
              "IPY_MODEL_7dcc7315945d45aaa4560c3dae8eea16",
              "IPY_MODEL_c180f0b87acc4b4fb6c9ca3e704dde38"
            ],
            "layout": "IPY_MODEL_a83804753bd342159b955b6410de38ad"
          }
        },
        "5e0565db1e17404eb06ed69620339808": {
          "model_module": "@jupyter-widgets/controls",
          "model_name": "HTMLModel",
          "model_module_version": "1.5.0",
          "state": {
            "_dom_classes": [],
            "_model_module": "@jupyter-widgets/controls",
            "_model_module_version": "1.5.0",
            "_model_name": "HTMLModel",
            "_view_count": null,
            "_view_module": "@jupyter-widgets/controls",
            "_view_module_version": "1.5.0",
            "_view_name": "HTMLView",
            "description": "",
            "description_tooltip": null,
            "layout": "IPY_MODEL_07511e97cf814398a2459887166d6b4b",
            "placeholder": "​",
            "style": "IPY_MODEL_ff360d8c70ef467a840f8bd191cd6362",
            "value": "tokenizer.json: 100%"
          }
        },
        "7dcc7315945d45aaa4560c3dae8eea16": {
          "model_module": "@jupyter-widgets/controls",
          "model_name": "FloatProgressModel",
          "model_module_version": "1.5.0",
          "state": {
            "_dom_classes": [],
            "_model_module": "@jupyter-widgets/controls",
            "_model_module_version": "1.5.0",
            "_model_name": "FloatProgressModel",
            "_view_count": null,
            "_view_module": "@jupyter-widgets/controls",
            "_view_module_version": "1.5.0",
            "_view_name": "ProgressView",
            "bar_style": "success",
            "description": "",
            "description_tooltip": null,
            "layout": "IPY_MODEL_0a6853ca08d3497c8321920b2f223a2a",
            "max": 466062,
            "min": 0,
            "orientation": "horizontal",
            "style": "IPY_MODEL_6573787c90e549ef93bfa305aab05dd6",
            "value": 466062
          }
        },
        "c180f0b87acc4b4fb6c9ca3e704dde38": {
          "model_module": "@jupyter-widgets/controls",
          "model_name": "HTMLModel",
          "model_module_version": "1.5.0",
          "state": {
            "_dom_classes": [],
            "_model_module": "@jupyter-widgets/controls",
            "_model_module_version": "1.5.0",
            "_model_name": "HTMLModel",
            "_view_count": null,
            "_view_module": "@jupyter-widgets/controls",
            "_view_module_version": "1.5.0",
            "_view_name": "HTMLView",
            "description": "",
            "description_tooltip": null,
            "layout": "IPY_MODEL_09a60ec56be54fd9a6814668c785a510",
            "placeholder": "​",
            "style": "IPY_MODEL_17045f59f4534f2e9689d8f2cef02074",
            "value": " 466k/466k [00:00&lt;00:00, 19.7MB/s]"
          }
        },
        "a83804753bd342159b955b6410de38ad": {
          "model_module": "@jupyter-widgets/base",
          "model_name": "LayoutModel",
          "model_module_version": "1.2.0",
          "state": {
            "_model_module": "@jupyter-widgets/base",
            "_model_module_version": "1.2.0",
            "_model_name": "LayoutModel",
            "_view_count": null,
            "_view_module": "@jupyter-widgets/base",
            "_view_module_version": "1.2.0",
            "_view_name": "LayoutView",
            "align_content": null,
            "align_items": null,
            "align_self": null,
            "border": null,
            "bottom": null,
            "display": null,
            "flex": null,
            "flex_flow": null,
            "grid_area": null,
            "grid_auto_columns": null,
            "grid_auto_flow": null,
            "grid_auto_rows": null,
            "grid_column": null,
            "grid_gap": null,
            "grid_row": null,
            "grid_template_areas": null,
            "grid_template_columns": null,
            "grid_template_rows": null,
            "height": null,
            "justify_content": null,
            "justify_items": null,
            "left": null,
            "margin": null,
            "max_height": null,
            "max_width": null,
            "min_height": null,
            "min_width": null,
            "object_fit": null,
            "object_position": null,
            "order": null,
            "overflow": null,
            "overflow_x": null,
            "overflow_y": null,
            "padding": null,
            "right": null,
            "top": null,
            "visibility": null,
            "width": null
          }
        },
        "07511e97cf814398a2459887166d6b4b": {
          "model_module": "@jupyter-widgets/base",
          "model_name": "LayoutModel",
          "model_module_version": "1.2.0",
          "state": {
            "_model_module": "@jupyter-widgets/base",
            "_model_module_version": "1.2.0",
            "_model_name": "LayoutModel",
            "_view_count": null,
            "_view_module": "@jupyter-widgets/base",
            "_view_module_version": "1.2.0",
            "_view_name": "LayoutView",
            "align_content": null,
            "align_items": null,
            "align_self": null,
            "border": null,
            "bottom": null,
            "display": null,
            "flex": null,
            "flex_flow": null,
            "grid_area": null,
            "grid_auto_columns": null,
            "grid_auto_flow": null,
            "grid_auto_rows": null,
            "grid_column": null,
            "grid_gap": null,
            "grid_row": null,
            "grid_template_areas": null,
            "grid_template_columns": null,
            "grid_template_rows": null,
            "height": null,
            "justify_content": null,
            "justify_items": null,
            "left": null,
            "margin": null,
            "max_height": null,
            "max_width": null,
            "min_height": null,
            "min_width": null,
            "object_fit": null,
            "object_position": null,
            "order": null,
            "overflow": null,
            "overflow_x": null,
            "overflow_y": null,
            "padding": null,
            "right": null,
            "top": null,
            "visibility": null,
            "width": null
          }
        },
        "ff360d8c70ef467a840f8bd191cd6362": {
          "model_module": "@jupyter-widgets/controls",
          "model_name": "DescriptionStyleModel",
          "model_module_version": "1.5.0",
          "state": {
            "_model_module": "@jupyter-widgets/controls",
            "_model_module_version": "1.5.0",
            "_model_name": "DescriptionStyleModel",
            "_view_count": null,
            "_view_module": "@jupyter-widgets/base",
            "_view_module_version": "1.2.0",
            "_view_name": "StyleView",
            "description_width": ""
          }
        },
        "0a6853ca08d3497c8321920b2f223a2a": {
          "model_module": "@jupyter-widgets/base",
          "model_name": "LayoutModel",
          "model_module_version": "1.2.0",
          "state": {
            "_model_module": "@jupyter-widgets/base",
            "_model_module_version": "1.2.0",
            "_model_name": "LayoutModel",
            "_view_count": null,
            "_view_module": "@jupyter-widgets/base",
            "_view_module_version": "1.2.0",
            "_view_name": "LayoutView",
            "align_content": null,
            "align_items": null,
            "align_self": null,
            "border": null,
            "bottom": null,
            "display": null,
            "flex": null,
            "flex_flow": null,
            "grid_area": null,
            "grid_auto_columns": null,
            "grid_auto_flow": null,
            "grid_auto_rows": null,
            "grid_column": null,
            "grid_gap": null,
            "grid_row": null,
            "grid_template_areas": null,
            "grid_template_columns": null,
            "grid_template_rows": null,
            "height": null,
            "justify_content": null,
            "justify_items": null,
            "left": null,
            "margin": null,
            "max_height": null,
            "max_width": null,
            "min_height": null,
            "min_width": null,
            "object_fit": null,
            "object_position": null,
            "order": null,
            "overflow": null,
            "overflow_x": null,
            "overflow_y": null,
            "padding": null,
            "right": null,
            "top": null,
            "visibility": null,
            "width": null
          }
        },
        "6573787c90e549ef93bfa305aab05dd6": {
          "model_module": "@jupyter-widgets/controls",
          "model_name": "ProgressStyleModel",
          "model_module_version": "1.5.0",
          "state": {
            "_model_module": "@jupyter-widgets/controls",
            "_model_module_version": "1.5.0",
            "_model_name": "ProgressStyleModel",
            "_view_count": null,
            "_view_module": "@jupyter-widgets/base",
            "_view_module_version": "1.2.0",
            "_view_name": "StyleView",
            "bar_color": null,
            "description_width": ""
          }
        },
        "09a60ec56be54fd9a6814668c785a510": {
          "model_module": "@jupyter-widgets/base",
          "model_name": "LayoutModel",
          "model_module_version": "1.2.0",
          "state": {
            "_model_module": "@jupyter-widgets/base",
            "_model_module_version": "1.2.0",
            "_model_name": "LayoutModel",
            "_view_count": null,
            "_view_module": "@jupyter-widgets/base",
            "_view_module_version": "1.2.0",
            "_view_name": "LayoutView",
            "align_content": null,
            "align_items": null,
            "align_self": null,
            "border": null,
            "bottom": null,
            "display": null,
            "flex": null,
            "flex_flow": null,
            "grid_area": null,
            "grid_auto_columns": null,
            "grid_auto_flow": null,
            "grid_auto_rows": null,
            "grid_column": null,
            "grid_gap": null,
            "grid_row": null,
            "grid_template_areas": null,
            "grid_template_columns": null,
            "grid_template_rows": null,
            "height": null,
            "justify_content": null,
            "justify_items": null,
            "left": null,
            "margin": null,
            "max_height": null,
            "max_width": null,
            "min_height": null,
            "min_width": null,
            "object_fit": null,
            "object_position": null,
            "order": null,
            "overflow": null,
            "overflow_x": null,
            "overflow_y": null,
            "padding": null,
            "right": null,
            "top": null,
            "visibility": null,
            "width": null
          }
        },
        "17045f59f4534f2e9689d8f2cef02074": {
          "model_module": "@jupyter-widgets/controls",
          "model_name": "DescriptionStyleModel",
          "model_module_version": "1.5.0",
          "state": {
            "_model_module": "@jupyter-widgets/controls",
            "_model_module_version": "1.5.0",
            "_model_name": "DescriptionStyleModel",
            "_view_count": null,
            "_view_module": "@jupyter-widgets/base",
            "_view_module_version": "1.2.0",
            "_view_name": "StyleView",
            "description_width": ""
          }
        },
        "ee8fff2269594487bdaf58af60416e7c": {
          "model_module": "@jupyter-widgets/controls",
          "model_name": "HBoxModel",
          "model_module_version": "1.5.0",
          "state": {
            "_dom_classes": [],
            "_model_module": "@jupyter-widgets/controls",
            "_model_module_version": "1.5.0",
            "_model_name": "HBoxModel",
            "_view_count": null,
            "_view_module": "@jupyter-widgets/controls",
            "_view_module_version": "1.5.0",
            "_view_name": "HBoxView",
            "box_style": "",
            "children": [
              "IPY_MODEL_7ef76055cd074c3d987be025555a6b47",
              "IPY_MODEL_7b0b5e3026b04a53b8c7bc9c25179292",
              "IPY_MODEL_4a4f47f1965f4589875297dc4cbae634"
            ],
            "layout": "IPY_MODEL_2d86c8d098114ae88424f1394bf33dd6"
          }
        },
        "7ef76055cd074c3d987be025555a6b47": {
          "model_module": "@jupyter-widgets/controls",
          "model_name": "HTMLModel",
          "model_module_version": "1.5.0",
          "state": {
            "_dom_classes": [],
            "_model_module": "@jupyter-widgets/controls",
            "_model_module_version": "1.5.0",
            "_model_name": "HTMLModel",
            "_view_count": null,
            "_view_module": "@jupyter-widgets/controls",
            "_view_module_version": "1.5.0",
            "_view_name": "HTMLView",
            "description": "",
            "description_tooltip": null,
            "layout": "IPY_MODEL_8f9c55c66dc04ad3bc42f3981eb4b2b5",
            "placeholder": "​",
            "style": "IPY_MODEL_0cffb38b571c4ee68c56caa9022f8964",
            "value": "config.json: 100%"
          }
        },
        "7b0b5e3026b04a53b8c7bc9c25179292": {
          "model_module": "@jupyter-widgets/controls",
          "model_name": "FloatProgressModel",
          "model_module_version": "1.5.0",
          "state": {
            "_dom_classes": [],
            "_model_module": "@jupyter-widgets/controls",
            "_model_module_version": "1.5.0",
            "_model_name": "FloatProgressModel",
            "_view_count": null,
            "_view_module": "@jupyter-widgets/controls",
            "_view_module_version": "1.5.0",
            "_view_name": "ProgressView",
            "bar_style": "success",
            "description": "",
            "description_tooltip": null,
            "layout": "IPY_MODEL_46c02ddd0d3e46cda342a082ffd7d630",
            "max": 570,
            "min": 0,
            "orientation": "horizontal",
            "style": "IPY_MODEL_05fe57fd700241c19ac4ca9f6b67f300",
            "value": 570
          }
        },
        "4a4f47f1965f4589875297dc4cbae634": {
          "model_module": "@jupyter-widgets/controls",
          "model_name": "HTMLModel",
          "model_module_version": "1.5.0",
          "state": {
            "_dom_classes": [],
            "_model_module": "@jupyter-widgets/controls",
            "_model_module_version": "1.5.0",
            "_model_name": "HTMLModel",
            "_view_count": null,
            "_view_module": "@jupyter-widgets/controls",
            "_view_module_version": "1.5.0",
            "_view_name": "HTMLView",
            "description": "",
            "description_tooltip": null,
            "layout": "IPY_MODEL_d03e56bee7254976b47aec4ce7a3c934",
            "placeholder": "​",
            "style": "IPY_MODEL_1214d919e23f42f8829dbb2e9b891e21",
            "value": " 570/570 [00:00&lt;00:00, 24.1kB/s]"
          }
        },
        "2d86c8d098114ae88424f1394bf33dd6": {
          "model_module": "@jupyter-widgets/base",
          "model_name": "LayoutModel",
          "model_module_version": "1.2.0",
          "state": {
            "_model_module": "@jupyter-widgets/base",
            "_model_module_version": "1.2.0",
            "_model_name": "LayoutModel",
            "_view_count": null,
            "_view_module": "@jupyter-widgets/base",
            "_view_module_version": "1.2.0",
            "_view_name": "LayoutView",
            "align_content": null,
            "align_items": null,
            "align_self": null,
            "border": null,
            "bottom": null,
            "display": null,
            "flex": null,
            "flex_flow": null,
            "grid_area": null,
            "grid_auto_columns": null,
            "grid_auto_flow": null,
            "grid_auto_rows": null,
            "grid_column": null,
            "grid_gap": null,
            "grid_row": null,
            "grid_template_areas": null,
            "grid_template_columns": null,
            "grid_template_rows": null,
            "height": null,
            "justify_content": null,
            "justify_items": null,
            "left": null,
            "margin": null,
            "max_height": null,
            "max_width": null,
            "min_height": null,
            "min_width": null,
            "object_fit": null,
            "object_position": null,
            "order": null,
            "overflow": null,
            "overflow_x": null,
            "overflow_y": null,
            "padding": null,
            "right": null,
            "top": null,
            "visibility": null,
            "width": null
          }
        },
        "8f9c55c66dc04ad3bc42f3981eb4b2b5": {
          "model_module": "@jupyter-widgets/base",
          "model_name": "LayoutModel",
          "model_module_version": "1.2.0",
          "state": {
            "_model_module": "@jupyter-widgets/base",
            "_model_module_version": "1.2.0",
            "_model_name": "LayoutModel",
            "_view_count": null,
            "_view_module": "@jupyter-widgets/base",
            "_view_module_version": "1.2.0",
            "_view_name": "LayoutView",
            "align_content": null,
            "align_items": null,
            "align_self": null,
            "border": null,
            "bottom": null,
            "display": null,
            "flex": null,
            "flex_flow": null,
            "grid_area": null,
            "grid_auto_columns": null,
            "grid_auto_flow": null,
            "grid_auto_rows": null,
            "grid_column": null,
            "grid_gap": null,
            "grid_row": null,
            "grid_template_areas": null,
            "grid_template_columns": null,
            "grid_template_rows": null,
            "height": null,
            "justify_content": null,
            "justify_items": null,
            "left": null,
            "margin": null,
            "max_height": null,
            "max_width": null,
            "min_height": null,
            "min_width": null,
            "object_fit": null,
            "object_position": null,
            "order": null,
            "overflow": null,
            "overflow_x": null,
            "overflow_y": null,
            "padding": null,
            "right": null,
            "top": null,
            "visibility": null,
            "width": null
          }
        },
        "0cffb38b571c4ee68c56caa9022f8964": {
          "model_module": "@jupyter-widgets/controls",
          "model_name": "DescriptionStyleModel",
          "model_module_version": "1.5.0",
          "state": {
            "_model_module": "@jupyter-widgets/controls",
            "_model_module_version": "1.5.0",
            "_model_name": "DescriptionStyleModel",
            "_view_count": null,
            "_view_module": "@jupyter-widgets/base",
            "_view_module_version": "1.2.0",
            "_view_name": "StyleView",
            "description_width": ""
          }
        },
        "46c02ddd0d3e46cda342a082ffd7d630": {
          "model_module": "@jupyter-widgets/base",
          "model_name": "LayoutModel",
          "model_module_version": "1.2.0",
          "state": {
            "_model_module": "@jupyter-widgets/base",
            "_model_module_version": "1.2.0",
            "_model_name": "LayoutModel",
            "_view_count": null,
            "_view_module": "@jupyter-widgets/base",
            "_view_module_version": "1.2.0",
            "_view_name": "LayoutView",
            "align_content": null,
            "align_items": null,
            "align_self": null,
            "border": null,
            "bottom": null,
            "display": null,
            "flex": null,
            "flex_flow": null,
            "grid_area": null,
            "grid_auto_columns": null,
            "grid_auto_flow": null,
            "grid_auto_rows": null,
            "grid_column": null,
            "grid_gap": null,
            "grid_row": null,
            "grid_template_areas": null,
            "grid_template_columns": null,
            "grid_template_rows": null,
            "height": null,
            "justify_content": null,
            "justify_items": null,
            "left": null,
            "margin": null,
            "max_height": null,
            "max_width": null,
            "min_height": null,
            "min_width": null,
            "object_fit": null,
            "object_position": null,
            "order": null,
            "overflow": null,
            "overflow_x": null,
            "overflow_y": null,
            "padding": null,
            "right": null,
            "top": null,
            "visibility": null,
            "width": null
          }
        },
        "05fe57fd700241c19ac4ca9f6b67f300": {
          "model_module": "@jupyter-widgets/controls",
          "model_name": "ProgressStyleModel",
          "model_module_version": "1.5.0",
          "state": {
            "_model_module": "@jupyter-widgets/controls",
            "_model_module_version": "1.5.0",
            "_model_name": "ProgressStyleModel",
            "_view_count": null,
            "_view_module": "@jupyter-widgets/base",
            "_view_module_version": "1.2.0",
            "_view_name": "StyleView",
            "bar_color": null,
            "description_width": ""
          }
        },
        "d03e56bee7254976b47aec4ce7a3c934": {
          "model_module": "@jupyter-widgets/base",
          "model_name": "LayoutModel",
          "model_module_version": "1.2.0",
          "state": {
            "_model_module": "@jupyter-widgets/base",
            "_model_module_version": "1.2.0",
            "_model_name": "LayoutModel",
            "_view_count": null,
            "_view_module": "@jupyter-widgets/base",
            "_view_module_version": "1.2.0",
            "_view_name": "LayoutView",
            "align_content": null,
            "align_items": null,
            "align_self": null,
            "border": null,
            "bottom": null,
            "display": null,
            "flex": null,
            "flex_flow": null,
            "grid_area": null,
            "grid_auto_columns": null,
            "grid_auto_flow": null,
            "grid_auto_rows": null,
            "grid_column": null,
            "grid_gap": null,
            "grid_row": null,
            "grid_template_areas": null,
            "grid_template_columns": null,
            "grid_template_rows": null,
            "height": null,
            "justify_content": null,
            "justify_items": null,
            "left": null,
            "margin": null,
            "max_height": null,
            "max_width": null,
            "min_height": null,
            "min_width": null,
            "object_fit": null,
            "object_position": null,
            "order": null,
            "overflow": null,
            "overflow_x": null,
            "overflow_y": null,
            "padding": null,
            "right": null,
            "top": null,
            "visibility": null,
            "width": null
          }
        },
        "1214d919e23f42f8829dbb2e9b891e21": {
          "model_module": "@jupyter-widgets/controls",
          "model_name": "DescriptionStyleModel",
          "model_module_version": "1.5.0",
          "state": {
            "_model_module": "@jupyter-widgets/controls",
            "_model_module_version": "1.5.0",
            "_model_name": "DescriptionStyleModel",
            "_view_count": null,
            "_view_module": "@jupyter-widgets/base",
            "_view_module_version": "1.2.0",
            "_view_name": "StyleView",
            "description_width": ""
          }
        },
        "e01a6d3e55f8486c8354e02b9dfc9d9f": {
          "model_module": "@jupyter-widgets/controls",
          "model_name": "HBoxModel",
          "model_module_version": "1.5.0",
          "state": {
            "_dom_classes": [],
            "_model_module": "@jupyter-widgets/controls",
            "_model_module_version": "1.5.0",
            "_model_name": "HBoxModel",
            "_view_count": null,
            "_view_module": "@jupyter-widgets/controls",
            "_view_module_version": "1.5.0",
            "_view_name": "HBoxView",
            "box_style": "",
            "children": [
              "IPY_MODEL_b9c3762b898841509efc052113e44983",
              "IPY_MODEL_9bc16543d8e34e3c85e24934570f59ad",
              "IPY_MODEL_a2de05aea4c54568ac6cebd8d7058236"
            ],
            "layout": "IPY_MODEL_1b0dfd71c0524c7a8a1db77b32962320"
          }
        },
        "b9c3762b898841509efc052113e44983": {
          "model_module": "@jupyter-widgets/controls",
          "model_name": "HTMLModel",
          "model_module_version": "1.5.0",
          "state": {
            "_dom_classes": [],
            "_model_module": "@jupyter-widgets/controls",
            "_model_module_version": "1.5.0",
            "_model_name": "HTMLModel",
            "_view_count": null,
            "_view_module": "@jupyter-widgets/controls",
            "_view_module_version": "1.5.0",
            "_view_name": "HTMLView",
            "description": "",
            "description_tooltip": null,
            "layout": "IPY_MODEL_98743208925c4b17bd6697930ca1c639",
            "placeholder": "​",
            "style": "IPY_MODEL_90e283f98df943089f025d2cbca9815c",
            "value": "model.safetensors: 100%"
          }
        },
        "9bc16543d8e34e3c85e24934570f59ad": {
          "model_module": "@jupyter-widgets/controls",
          "model_name": "FloatProgressModel",
          "model_module_version": "1.5.0",
          "state": {
            "_dom_classes": [],
            "_model_module": "@jupyter-widgets/controls",
            "_model_module_version": "1.5.0",
            "_model_name": "FloatProgressModel",
            "_view_count": null,
            "_view_module": "@jupyter-widgets/controls",
            "_view_module_version": "1.5.0",
            "_view_name": "ProgressView",
            "bar_style": "success",
            "description": "",
            "description_tooltip": null,
            "layout": "IPY_MODEL_c77f2d0b1d9646c4ac38c23d9b0f0dc3",
            "max": 440449768,
            "min": 0,
            "orientation": "horizontal",
            "style": "IPY_MODEL_49f0312f837e4815b85376802555d936",
            "value": 440449768
          }
        },
        "a2de05aea4c54568ac6cebd8d7058236": {
          "model_module": "@jupyter-widgets/controls",
          "model_name": "HTMLModel",
          "model_module_version": "1.5.0",
          "state": {
            "_dom_classes": [],
            "_model_module": "@jupyter-widgets/controls",
            "_model_module_version": "1.5.0",
            "_model_name": "HTMLModel",
            "_view_count": null,
            "_view_module": "@jupyter-widgets/controls",
            "_view_module_version": "1.5.0",
            "_view_name": "HTMLView",
            "description": "",
            "description_tooltip": null,
            "layout": "IPY_MODEL_2c1aeef4f7d341109a781f3529ab6a03",
            "placeholder": "​",
            "style": "IPY_MODEL_29bf785a00f8482cae3c2ebec9e1081b",
            "value": " 440M/440M [00:01&lt;00:00, 273MB/s]"
          }
        },
        "1b0dfd71c0524c7a8a1db77b32962320": {
          "model_module": "@jupyter-widgets/base",
          "model_name": "LayoutModel",
          "model_module_version": "1.2.0",
          "state": {
            "_model_module": "@jupyter-widgets/base",
            "_model_module_version": "1.2.0",
            "_model_name": "LayoutModel",
            "_view_count": null,
            "_view_module": "@jupyter-widgets/base",
            "_view_module_version": "1.2.0",
            "_view_name": "LayoutView",
            "align_content": null,
            "align_items": null,
            "align_self": null,
            "border": null,
            "bottom": null,
            "display": null,
            "flex": null,
            "flex_flow": null,
            "grid_area": null,
            "grid_auto_columns": null,
            "grid_auto_flow": null,
            "grid_auto_rows": null,
            "grid_column": null,
            "grid_gap": null,
            "grid_row": null,
            "grid_template_areas": null,
            "grid_template_columns": null,
            "grid_template_rows": null,
            "height": null,
            "justify_content": null,
            "justify_items": null,
            "left": null,
            "margin": null,
            "max_height": null,
            "max_width": null,
            "min_height": null,
            "min_width": null,
            "object_fit": null,
            "object_position": null,
            "order": null,
            "overflow": null,
            "overflow_x": null,
            "overflow_y": null,
            "padding": null,
            "right": null,
            "top": null,
            "visibility": null,
            "width": null
          }
        },
        "98743208925c4b17bd6697930ca1c639": {
          "model_module": "@jupyter-widgets/base",
          "model_name": "LayoutModel",
          "model_module_version": "1.2.0",
          "state": {
            "_model_module": "@jupyter-widgets/base",
            "_model_module_version": "1.2.0",
            "_model_name": "LayoutModel",
            "_view_count": null,
            "_view_module": "@jupyter-widgets/base",
            "_view_module_version": "1.2.0",
            "_view_name": "LayoutView",
            "align_content": null,
            "align_items": null,
            "align_self": null,
            "border": null,
            "bottom": null,
            "display": null,
            "flex": null,
            "flex_flow": null,
            "grid_area": null,
            "grid_auto_columns": null,
            "grid_auto_flow": null,
            "grid_auto_rows": null,
            "grid_column": null,
            "grid_gap": null,
            "grid_row": null,
            "grid_template_areas": null,
            "grid_template_columns": null,
            "grid_template_rows": null,
            "height": null,
            "justify_content": null,
            "justify_items": null,
            "left": null,
            "margin": null,
            "max_height": null,
            "max_width": null,
            "min_height": null,
            "min_width": null,
            "object_fit": null,
            "object_position": null,
            "order": null,
            "overflow": null,
            "overflow_x": null,
            "overflow_y": null,
            "padding": null,
            "right": null,
            "top": null,
            "visibility": null,
            "width": null
          }
        },
        "90e283f98df943089f025d2cbca9815c": {
          "model_module": "@jupyter-widgets/controls",
          "model_name": "DescriptionStyleModel",
          "model_module_version": "1.5.0",
          "state": {
            "_model_module": "@jupyter-widgets/controls",
            "_model_module_version": "1.5.0",
            "_model_name": "DescriptionStyleModel",
            "_view_count": null,
            "_view_module": "@jupyter-widgets/base",
            "_view_module_version": "1.2.0",
            "_view_name": "StyleView",
            "description_width": ""
          }
        },
        "c77f2d0b1d9646c4ac38c23d9b0f0dc3": {
          "model_module": "@jupyter-widgets/base",
          "model_name": "LayoutModel",
          "model_module_version": "1.2.0",
          "state": {
            "_model_module": "@jupyter-widgets/base",
            "_model_module_version": "1.2.0",
            "_model_name": "LayoutModel",
            "_view_count": null,
            "_view_module": "@jupyter-widgets/base",
            "_view_module_version": "1.2.0",
            "_view_name": "LayoutView",
            "align_content": null,
            "align_items": null,
            "align_self": null,
            "border": null,
            "bottom": null,
            "display": null,
            "flex": null,
            "flex_flow": null,
            "grid_area": null,
            "grid_auto_columns": null,
            "grid_auto_flow": null,
            "grid_auto_rows": null,
            "grid_column": null,
            "grid_gap": null,
            "grid_row": null,
            "grid_template_areas": null,
            "grid_template_columns": null,
            "grid_template_rows": null,
            "height": null,
            "justify_content": null,
            "justify_items": null,
            "left": null,
            "margin": null,
            "max_height": null,
            "max_width": null,
            "min_height": null,
            "min_width": null,
            "object_fit": null,
            "object_position": null,
            "order": null,
            "overflow": null,
            "overflow_x": null,
            "overflow_y": null,
            "padding": null,
            "right": null,
            "top": null,
            "visibility": null,
            "width": null
          }
        },
        "49f0312f837e4815b85376802555d936": {
          "model_module": "@jupyter-widgets/controls",
          "model_name": "ProgressStyleModel",
          "model_module_version": "1.5.0",
          "state": {
            "_model_module": "@jupyter-widgets/controls",
            "_model_module_version": "1.5.0",
            "_model_name": "ProgressStyleModel",
            "_view_count": null,
            "_view_module": "@jupyter-widgets/base",
            "_view_module_version": "1.2.0",
            "_view_name": "StyleView",
            "bar_color": null,
            "description_width": ""
          }
        },
        "2c1aeef4f7d341109a781f3529ab6a03": {
          "model_module": "@jupyter-widgets/base",
          "model_name": "LayoutModel",
          "model_module_version": "1.2.0",
          "state": {
            "_model_module": "@jupyter-widgets/base",
            "_model_module_version": "1.2.0",
            "_model_name": "LayoutModel",
            "_view_count": null,
            "_view_module": "@jupyter-widgets/base",
            "_view_module_version": "1.2.0",
            "_view_name": "LayoutView",
            "align_content": null,
            "align_items": null,
            "align_self": null,
            "border": null,
            "bottom": null,
            "display": null,
            "flex": null,
            "flex_flow": null,
            "grid_area": null,
            "grid_auto_columns": null,
            "grid_auto_flow": null,
            "grid_auto_rows": null,
            "grid_column": null,
            "grid_gap": null,
            "grid_row": null,
            "grid_template_areas": null,
            "grid_template_columns": null,
            "grid_template_rows": null,
            "height": null,
            "justify_content": null,
            "justify_items": null,
            "left": null,
            "margin": null,
            "max_height": null,
            "max_width": null,
            "min_height": null,
            "min_width": null,
            "object_fit": null,
            "object_position": null,
            "order": null,
            "overflow": null,
            "overflow_x": null,
            "overflow_y": null,
            "padding": null,
            "right": null,
            "top": null,
            "visibility": null,
            "width": null
          }
        },
        "29bf785a00f8482cae3c2ebec9e1081b": {
          "model_module": "@jupyter-widgets/controls",
          "model_name": "DescriptionStyleModel",
          "model_module_version": "1.5.0",
          "state": {
            "_model_module": "@jupyter-widgets/controls",
            "_model_module_version": "1.5.0",
            "_model_name": "DescriptionStyleModel",
            "_view_count": null,
            "_view_module": "@jupyter-widgets/base",
            "_view_module_version": "1.2.0",
            "_view_name": "StyleView",
            "description_width": ""
          }
        }
      }
    }
  },
  "nbformat": 4,
  "nbformat_minor": 0
}