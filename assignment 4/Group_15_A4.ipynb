{
  "cells": [
    {
      "cell_type": "markdown",
      "metadata": {
        "id": "OHUHsaYZf29e"
      },
      "source": [
        "# Lab 4: Probing the capabilities of LLMs\n",
        "\n",
        "Unlike previous assignments in this course, our primary goal in this lab is not to use NLP tools and techniques model language *per se*, but rather to investigate properties of language models themselves, since large language models (LLMs) are \"black boxes\" whose inner workings cannot be directly observed.\n",
        "\n",
        "In particular, you will utilize and interpret the outputs of language models to **probe** features of those models--and in particular, how closely (or not) they resemble human language use/knowledge. We will design and implement probes for masked language modeling in BERT, in order to build on our knowledge from Lab 3, but these techniques are very generally applicable to models of all sorts, including generative models like GPT-3.\n",
        "\n",
        "\n"
      ]
    },
    {
      "cell_type": "markdown",
      "metadata": {
        "id": "7QdVKyOPkdq2"
      },
      "source": [
        "Masked Language Modeling is essentially a game of \"fill in the blank\". The model is given an input text of which a portion is \"masked\", and trained to predict what the masked element is given the surrounding context (both before and after the mask). Your job is to use these predictions to reason about how the model itself works."
      ]
    },
    {
      "cell_type": "markdown",
      "metadata": {
        "id": "B-HM0RPfrDyF"
      },
      "source": [
        "# Rules\n",
        "* The assignment should submitted to **Blackboard** as `.ipynb`. Only **one submission per group**.\n",
        "\n",
        "* The **filename** should be the group number, e.g., `01.ipynb` or `31.ipynb`.\n",
        "\n",
        "* The questions marked **Extra** or **Optional** are an additional challenge for those interested in going the extra mile. There are no points for them.\n",
        "\n",
        "**Rules for implementation**\n",
        "\n",
        "* You should **write your answers in this iPython Notebook**. (See http://ipython.org/notebook.html for reference material.) If you have problems, please contact your teaching assistant.\n",
        "\n",
        "* Use only **one cell for markdown** answers!    \n",
        "\n",
        "    * You do **not need to submit any code** for this lab, but you are free to leave any code you might run in your submission, so long as it does not interfere with readability of your written responses.\n",
        "    * For text-based questions, put your solution in the `█████ YOUR ANSWER HERE █████` cell and keep the header.\n",
        "\n",
        "* Don't change or delete any initially provided cells, either text or code, unless explicitly instructed to do so.\n",
        "* Don't change the names of provided functions and variables or arguments of the functions.\n",
        "* Leave the output of your code in the output cells.\n",
        "* Test your code and **make sure we can run your notebook** in the colab environment.\n",
        "* Don't forget to fill in the contribution information.\n",
        "\n",
        "<font color=\"red\">You following these rules helps us to grade the submissions relatively efficiently. If these rules are violated, a submission will be subject to penalty points.</font>  "
      ]
    },
    {
      "cell_type": "markdown",
      "metadata": {
        "id": "NGpWAnS_rf-j"
      },
      "source": [
        "# <font color=\"red\">Contributions</font>\n",
        "\n",
        "* Jaffar Husain, Martino Fabiani, Justus Brands.\n",
        "* Each contributed equally to exercises 1 and 2."
      ]
    },
    {
      "cell_type": "markdown",
      "metadata": {
        "id": "hamhG9qukptp"
      },
      "source": [
        "# Setup"
      ]
    },
    {
      "cell_type": "markdown",
      "metadata": {
        "id": "sMIYAasISpXT"
      },
      "source": [
        "BERT, which you are already familiar with, is pre-trained on a masked language modeling task. We will use this model to make predictions about what \"fills in the blank\" in a masked language task. As before, we will need the transformers package to use BERT."
      ]
    },
    {
      "cell_type": "code",
      "execution_count": 1,
      "metadata": {
        "colab": {
          "base_uri": "https://localhost:8080/"
        },
        "id": "eaGaDGcQhwd2",
        "outputId": "6d380655-8ae6-4a56-c0dd-73fc1de0dcd3"
      },
      "outputs": [
        {
          "output_type": "stream",
          "name": "stdout",
          "text": [
            "4.41.2\n"
          ]
        }
      ],
      "source": [
        "# !pip install transformers\n",
        "import transformers\n",
        "print(transformers.__version__) # 4.41.2"
      ]
    },
    {
      "cell_type": "markdown",
      "metadata": {
        "id": "jTZrGWI3T58X"
      },
      "source": [
        "Then, we need to instantiate the tokenizer and the masked learning model."
      ]
    },
    {
      "cell_type": "code",
      "execution_count": 2,
      "metadata": {
        "colab": {
          "base_uri": "https://localhost:8080/",
          "height": 388,
          "referenced_widgets": [
            "eb1bec3830b744f199c93d7d4ad3b265",
            "1349c41bf4884d818c21dc20474fcdb5",
            "fc03289f23af4933912cdce8d63d0686",
            "39515334dc84458c99c0c511f4f2ddfd",
            "21acdacd0cf8434ba0ee374e28a0fc6d",
            "9fab7d6150764feca5a0fb6831409a47",
            "d8acfa4b723f4134bfd5f74d4be60d66",
            "8c2c1b564fdb4881b90f498139325c1e",
            "5e405d276c864861a40d6442f0291da6",
            "35a95f7c0749472f8e8898d09f538120",
            "3421d5a6a41d41168ff7c18fa2b62e97",
            "3004591bfc7445b081ea53d772479bc5",
            "bc71a1a48e2748138187d04e3178a64a",
            "c3f4d6affb3a47fcb2edf13d3d839399",
            "a42af1c38e374935b4a7f25e1df29ced",
            "22665c5a116e4194939f10fa70361632",
            "ed6fb9342cab4a1f80905f8e168c1982",
            "4ff4e28a04094eb8837ead17cde4ee04",
            "b9cdd91690aa4c9db285152e71cd092b",
            "ff2aca53d97b4372911e94830f616dc5",
            "6443d234a32f43bc84521af3cac47e60",
            "7f56c43cc5d44807821bfa8d05c1262d",
            "0f14cc35346544dba5f8703b5f65ca75",
            "c6af4c396edd4c6d8441791ec9c6ff23",
            "f83c3e8fa140445d80f01a3b0390b6e2",
            "d04337dda69147869e0575e3cc553852",
            "f39484b66f36430a8abb3655a0e2926f",
            "f2cfe8161a534ead971e5b765c117d0d",
            "da538ef82b79471e83f7510f5f5073d6",
            "5dae45aaa1d94b3e9365c7cb42e04cea",
            "1ccaf958de474809a653f92b9da5d206",
            "18f7becd7d2047e887ac19957266328b",
            "438b1a9dc8b14b7c98e7b8c878a6dbc4",
            "c4dce3616246487ab4da56fd2323514b",
            "409cc5f9be57477e9fbf7854d5b194a5",
            "34e83ef669a54b298229b326e29074e4",
            "72acc0b9e4094efbbe9a42644e3b21a6",
            "0c4dc13e59654ecd98a87c81c3d795b5",
            "647f1d165f1a49c68ee9b37f09e9dfc2",
            "57f1acfdfc3a46d4b7ec90a28f2ba361",
            "2370cf4e3b7d493491722e236ab2b444",
            "7645aa629bc249f59b17457ff9f3687c",
            "88b4aeffbf0e4e94b710cf8bbdc067e6",
            "5eb542b2881943399247dabcd0a4ff9b",
            "2d3d3496be5d4a95af9a42c452633a82",
            "0d46d4ce51da4ef98cc0e38aa3884fd7",
            "9d4c9e887e1645d096279a4440108aa3",
            "e40fb4f668854c798178c7c07de13276",
            "530df4e0cc4d495cbcc657af73f6d714",
            "1821c757c7134cf48653a7b42837f7fd",
            "f20121a037fa425986c3d2ac85ed2155",
            "ea5eba4ffbda49ef9fcf053e27248d96",
            "b4b02c38595442df92e6cd1ea6fc85de",
            "3611ed2ff7134380ab998c54cb3cb903",
            "7530f793df804f65bef5a7e068a64d82"
          ]
        },
        "id": "WpBhMZbKT-vK",
        "outputId": "dfbc2949-3dc8-41c8-d14c-2939cdd6b904"
      },
      "outputs": [
        {
          "output_type": "stream",
          "name": "stderr",
          "text": [
            "/usr/local/lib/python3.10/dist-packages/huggingface_hub/utils/_token.py:89: UserWarning: \n",
            "The secret `HF_TOKEN` does not exist in your Colab secrets.\n",
            "To authenticate with the Hugging Face Hub, create a token in your settings tab (https://huggingface.co/settings/tokens), set it as secret in your Google Colab and restart your session.\n",
            "You will be able to reuse this secret in all of your notebooks.\n",
            "Please note that authentication is recommended but still optional to access public models or datasets.\n",
            "  warnings.warn(\n"
          ]
        },
        {
          "output_type": "display_data",
          "data": {
            "text/plain": [
              "tokenizer_config.json:   0%|          | 0.00/48.0 [00:00<?, ?B/s]"
            ],
            "application/vnd.jupyter.widget-view+json": {
              "version_major": 2,
              "version_minor": 0,
              "model_id": "eb1bec3830b744f199c93d7d4ad3b265"
            }
          },
          "metadata": {}
        },
        {
          "output_type": "display_data",
          "data": {
            "text/plain": [
              "vocab.txt:   0%|          | 0.00/232k [00:00<?, ?B/s]"
            ],
            "application/vnd.jupyter.widget-view+json": {
              "version_major": 2,
              "version_minor": 0,
              "model_id": "3004591bfc7445b081ea53d772479bc5"
            }
          },
          "metadata": {}
        },
        {
          "output_type": "display_data",
          "data": {
            "text/plain": [
              "tokenizer.json:   0%|          | 0.00/466k [00:00<?, ?B/s]"
            ],
            "application/vnd.jupyter.widget-view+json": {
              "version_major": 2,
              "version_minor": 0,
              "model_id": "0f14cc35346544dba5f8703b5f65ca75"
            }
          },
          "metadata": {}
        },
        {
          "output_type": "stream",
          "name": "stderr",
          "text": [
            "/usr/local/lib/python3.10/dist-packages/huggingface_hub/file_download.py:1132: FutureWarning: `resume_download` is deprecated and will be removed in version 1.0.0. Downloads always resume when possible. If you want to force a new download, use `force_download=True`.\n",
            "  warnings.warn(\n"
          ]
        },
        {
          "output_type": "display_data",
          "data": {
            "text/plain": [
              "config.json:   0%|          | 0.00/570 [00:00<?, ?B/s]"
            ],
            "application/vnd.jupyter.widget-view+json": {
              "version_major": 2,
              "version_minor": 0,
              "model_id": "c4dce3616246487ab4da56fd2323514b"
            }
          },
          "metadata": {}
        },
        {
          "output_type": "display_data",
          "data": {
            "text/plain": [
              "model.safetensors:   0%|          | 0.00/440M [00:00<?, ?B/s]"
            ],
            "application/vnd.jupyter.widget-view+json": {
              "version_major": 2,
              "version_minor": 0,
              "model_id": "2d3d3496be5d4a95af9a42c452633a82"
            }
          },
          "metadata": {}
        },
        {
          "output_type": "stream",
          "name": "stderr",
          "text": [
            "Some weights of the model checkpoint at bert-base-uncased were not used when initializing BertForMaskedLM: ['bert.pooler.dense.bias', 'bert.pooler.dense.weight', 'cls.seq_relationship.bias', 'cls.seq_relationship.weight']\n",
            "- This IS expected if you are initializing BertForMaskedLM from the checkpoint of a model trained on another task or with another architecture (e.g. initializing a BertForSequenceClassification model from a BertForPreTraining model).\n",
            "- This IS NOT expected if you are initializing BertForMaskedLM from the checkpoint of a model that you expect to be exactly identical (initializing a BertForSequenceClassification model from a BertForSequenceClassification model).\n"
          ]
        }
      ],
      "source": [
        "import torch\n",
        "from transformers import BertTokenizer, BertModel, BertForMaskedLM, RobertaTokenizer, RobertaModel, RobertaForMaskedLM\n",
        "\n",
        "seed = 5\n",
        "torch.manual_seed(seed)\n",
        "torch.cuda.manual_seed_all(seed)\n",
        "\n",
        "bert_tokenizer = BertTokenizer.from_pretrained('bert-base-uncased')\n",
        "bert_model = BertForMaskedLM.from_pretrained('bert-base-uncased')\n",
        "\n",
        "#bert_model.eval()"
      ]
    },
    {
      "cell_type": "markdown",
      "metadata": {
        "id": "DkHva4MwbvEO"
      },
      "source": [
        "# Dealing with masked sentences"
      ]
    },
    {
      "cell_type": "markdown",
      "metadata": {
        "id": "H3qSWsukVRAX"
      },
      "source": [
        "Next, we want to define some methods to allow us to see the probability of particular candidate tokens to \"fill in the blank\" in some text. We will use the token [MASK] to denote the blank.\n",
        "\n",
        "The class ```MaskedSentence``` takes a sentence with a [MASK] token and uses softmax to turn the weights of all possible predicted values for the mask into probabilities. The class has two additional methods:\n",
        "\n",
        "* The function ```get_masked_token_probability``` takes a string  ```token``` and prints the likelihood that BERT assigns to [MASK] being replaced in the text with ```token```.\n",
        "* The function ```predict_masked_sentence``` prints the top *k* (5 by default) predictions for [MASK] with their probabilities."
      ]
    },
    {
      "cell_type": "code",
      "execution_count": 3,
      "metadata": {
        "id": "n0yOYp_PiUmy"
      },
      "outputs": [],
      "source": [
        "# adapted from code by Yuchen Liu\n",
        "\n",
        "class MaskedSentence:\n",
        "\n",
        "  \"\"\"\n",
        "  A tokenized sentence with a masked word\n",
        "  Note: [MASK] is the default mask token for BERT, other MLMs may have different defaults\n",
        "  \"\"\"\n",
        "\n",
        "  def __init__(self, text, model=bert_model, tokenizer=bert_tokenizer, mask_token=\"[MASK]\"):\n",
        "\n",
        "    # Tokenize text and obtain predictions for mask\n",
        "\n",
        "    self.tokenizer = tokenizer\n",
        "    self.mask = mask_token\n",
        "\n",
        "    text = \"[CLS] %s [SEP]\"%text\n",
        "    tokenized_text = self.tokenizer.tokenize(text)\n",
        "    masked_index = tokenized_text.index(mask_token)\n",
        "    indexed_tokens = self.tokenizer.convert_tokens_to_ids(tokenized_text)\n",
        "    tokens_tensor = torch.tensor([indexed_tokens])\n",
        "\n",
        "    with torch.no_grad():\n",
        "        outputs = model(tokens_tensor)\n",
        "        predictions = outputs[0]\n",
        "\n",
        "    # Turn predictions into a probability distribution using softmax\n",
        "\n",
        "    self.probs = torch.nn.functional.softmax(predictions[0, masked_index], dim=-1)\n",
        "\n",
        "  def get_masked_token_probability(self, token):\n",
        "\n",
        "    # prints probability of mask being replaced by token\n",
        "\n",
        "    token_id = self.tokenizer.convert_tokens_to_ids(token)\n",
        "    token_prob = self.probs[token_id]\n",
        "\n",
        "    print(f\"{self.mask}: {token},  | probability:, {float(token_prob)}, \\n\")\n",
        "\n",
        "  def predict_masked_sent(self, top_k=5):\n",
        "\n",
        "    # prints k most probable replacements for token\n",
        "\n",
        "    top_k_weights, top_k_indices = torch.topk(self.probs, top_k, sorted=True)\n",
        "\n",
        "    for i, pred_idx in enumerate(top_k_indices):\n",
        "        predicted_token = self.tokenizer.convert_ids_to_tokens([pred_idx])[0]\n",
        "        token_weight = top_k_weights[i]\n",
        "        print(f\"{self.mask}: {predicted_token}, | probability:, {float(token_weight)}\")\n"
      ]
    },
    {
      "cell_type": "markdown",
      "metadata": {
        "id": "QJMBDzCybVBZ"
      },
      "source": [
        "Now, let's test these methods on a string with a mask."
      ]
    },
    {
      "cell_type": "code",
      "execution_count": 4,
      "metadata": {
        "colab": {
          "base_uri": "https://localhost:8080/"
        },
        "id": "Zh_yRQdybc1w",
        "outputId": "947362ac-f192-4217-97a8-eed457fb041a"
      },
      "outputs": [
        {
          "output_type": "stream",
          "name": "stdout",
          "text": [
            "[MASK]: stage,  | probability:, 0.0009108720696531236, \n",
            "\n",
            "[MASK]: game, | probability:, 0.22936248779296875\n",
            "[MASK]: team, | probability:, 0.2215639054775238\n",
            "[MASK]: player, | probability:, 0.1818789690732956\n",
            "[MASK]: champion, | probability:, 0.02110450714826584\n",
            "[MASK]: winner, | probability:, 0.012764733284711838\n"
          ]
        }
      ],
      "source": [
        "test_sentence = MaskedSentence(\"All the world’s a [MASK], and all the men and women merely players.\")\n",
        "test_sentence.get_masked_token_probability(\"stage\")\n",
        "test_sentence.predict_masked_sent(top_k=5)"
      ]
    },
    {
      "cell_type": "markdown",
      "metadata": {
        "id": "KNrjlvxslo1n"
      },
      "source": [
        "We see that the model assigns a probability of about 0.0009 to *stage*, and the highest-probability token is *game* (0.229)."
      ]
    },
    {
      "cell_type": "markdown",
      "metadata": {
        "id": "qk_WOo8Vm3GJ"
      },
      "source": [
        "# Testing linguistic knowledge in MLMs"
      ]
    },
    {
      "cell_type": "markdown",
      "metadata": {
        "id": "sq9DicHynuN7"
      },
      "source": [
        "A major outstanding question in the study of large language models in general is how well (or poorly) the models are able to replicate aspects of humans' implicit linguistic knowledge and linguistic reasoning. One way to test this is to see how the model predicts a target word.\n",
        "\n",
        "For example, consider the ways we could fill in the blank in the sentence *If cats were herbivores, they would probably eat _________.* This sentence is an example of what linguists call a **counterfactual conditional**: a description of what would happen if some hypothetical (but contrary to reality) condition were met. A speaker of English could recognize that this sentence is describing a hypothetical situation in which cats eat only plants, so the most logical continuation would be a word that describes edible plants, like *vegetables* or *carrots*."
      ]
    },
    {
      "cell_type": "markdown",
      "metadata": {
        "id": "0yxjbZD-sMbF"
      },
      "source": [
        "Let's see what BERT predicts as the likeliest possible predictions for the mask:"
      ]
    },
    {
      "cell_type": "code",
      "execution_count": 5,
      "metadata": {
        "colab": {
          "base_uri": "https://localhost:8080/"
        },
        "id": "KNcWeescpF3N",
        "outputId": "08574b5f-dfcd-4690-9c48-2e71a84571a2"
      },
      "outputs": [
        {
          "output_type": "stream",
          "name": "stdout",
          "text": [
            "[MASK]: them, | probability:, 0.2037343680858612\n",
            "[MASK]: humans, | probability:, 0.19445215165615082\n",
            "[MASK]: it, | probability:, 0.06679246574640274\n",
            "[MASK]: animals, | probability:, 0.028084909543395042\n",
            "[MASK]: meat, | probability:, 0.02714720368385315\n"
          ]
        }
      ],
      "source": [
        "cats_sent = MaskedSentence(\"If cats were herbivores, they would probably eat [MASK].\")\n",
        "cats_sent.predict_masked_sent(top_k=5)\n",
        "\n",
        "\n",
        "#\"time flies like an arrow and fruit flies like a [MASK].\"\n",
        "#\"If cats were herbivores, they would probably eat [MASK].\"\n",
        "#\"herbivores eat plants. cats are not herbivores. However, if cats were herbivores, they would probably eat [MASK].\""
      ]
    },
    {
      "cell_type": "markdown",
      "metadata": {
        "id": "3zsQP_-DK8xm"
      },
      "source": []
    },
    {
      "cell_type": "markdown",
      "metadata": {
        "id": "huems7ZIpHGj"
      },
      "source": [
        "We see that BERT's top 5 predictions for the mask are *them, humans, it*, *animals*, and *meat*. On one hand, all of these predictions result in grammatical (syntactically well-formed) sentences, but they are either not very contentful (*them*, *it*) or nonsensical (*humans*, *meat*, *animals*)---none human-like. By contrast, the probabilities of *vegetables* and *carrots* are both relatively low:"
      ]
    },
    {
      "cell_type": "code",
      "execution_count": 6,
      "metadata": {
        "colab": {
          "base_uri": "https://localhost:8080/"
        },
        "id": "X2i9q69wQ2OM",
        "outputId": "e64914d2-71f9-4fd0-c683-d8e901521bef"
      },
      "outputs": [
        {
          "output_type": "stream",
          "name": "stdout",
          "text": [
            "[MASK]: vegetables,  | probability:, 0.0011069991160184145, \n",
            "\n",
            "[MASK]: carrots,  | probability:, 2.656224978636601e-06, \n",
            "\n"
          ]
        }
      ],
      "source": [
        "cats_sent.get_masked_token_probability(\"vegetables\")\n",
        "cats_sent.get_masked_token_probability(\"carrots\")"
      ]
    },
    {
      "cell_type": "markdown",
      "metadata": {
        "id": "uCHgrC7Hsl19"
      },
      "source": [
        "# Ex 1 [1pt] Evaluating counterfactual conditionals in BERT\n",
        "\n",
        "Provide a possible explanation, in 150-200 words, as to why BERT gives such non-human like results for this counterfactual conditional sentence. Your explanation should address the following questions: Do you think this is an arbitrary feature of this one sentence? Or does it reveal something more general about BERT? How could you go about testing whether your explanation is correct, using the class defined above?\n"
      ]
    },
    {
      "cell_type": "markdown",
      "metadata": {
        "id": "BOepmgwStHI0"
      },
      "source": [
        "<font color=\"red\">█████ YOUR ANSWER HERE █████</font>\n",
        "\n",
        "According to a recent paper (arXiv:2305.16572), there are a few factors which contribute to this behavior. The paper tests the capacity of pre-trained models including GPT3 and BERT on predicting the consequences of counterfactual conditionals. They find BERT to perform the worst in general and when compared to GPT3. The authors show that models which have a stronger grasp of relevant world knowledge are better equipped to manage counterfactuals. They also find combining relevant world knowledge with simple lexical triggers produce better predictions. The authors further show that, compared to GPT3, a model like BERT largely relies on simple lexical triggers in its predictions of counterfactuals. Based on this paper, we can attribute BERT's poor performance on counterfactuals to a lower grasp of world knowledge and stronger reliance on only structural cues. We can test this by feeding the relevant knowledge to BERT and then prompting it to predict the most likely words. For example, if we modify the sentence above to \"Herbivores eat plants. cats are not herbivores. However, if cats were herbivores, they would probably eat [MASK].\", the likelihood of the masked word being \"plants\" increases to 61%. When we review the BERT paper (Devlin et al. 2019) we can see that fine-tuning the pre-trained model on the prediction task given in these examples of counterfactuals is very likely to improve the performance of the model."
      ]
    },
    {
      "cell_type": "markdown",
      "metadata": {
        "id": "lddRei19VrMz"
      },
      "source": [
        "# Ex2 [4pt] Design your own BERT probe experiment"
      ]
    },
    {
      "cell_type": "markdown",
      "metadata": {
        "id": "HQG1STzfeM4M"
      },
      "source": [
        "We can reason about the capabilities of an LLM simply by choosing carefully designed inputs and evaluating the model's corresponding outputs. If we have test many inputs with some shared property, such as a particular syntactic structure, we can start to generalize about BERT's behaviour with text that has that property. For example, we can investigate the question of whether or not BERT predicts continuations of counterfactual conditionals which are consistent with the hypothetical scenario presented in the *if*-clause of the conditional by evaluating what happens when we give it many such conditionals as inputs.\n",
        "\n",
        "Your primary task for this final lab is to design a small experiment that tests, using the same kinds of techniques as above, the capabilities of BERT in a particular domain of your choice. To give you some ideas, here are a few suggestions of possible general domains that could be worth investigating, although the actual question you investigate should be small enough that it can be tested with a relatively modest selection of sentences. You are also free to come up with your own idea:\n",
        "\n",
        "* The interpretation of pronouns (can BERT recognize which individual a pronoun like *it* is referring to when there are multiple possible options?)\n",
        "* Does BERT fall for so-called \"semantic illusions\", in which it fails to recognize an inaccuracy in text, such as answering the question \"How many of each animal did Moses take on the ark?\" with \"2\"? (The Biblical story is about Noah, not Moses.)\n",
        "* Bias: Does BERT make predictions which are more consistent with gender, racial, or other stereotypes?\n",
        "* World knowledge: Does BERT make predictions which correspond with the way the world actually is?"
      ]
    },
    {
      "cell_type": "markdown",
      "metadata": {
        "id": "_mvDWwhTfc5D"
      },
      "source": [
        "Your description of your experiment should have the following parts and be approximately equivalent in length to 1 typed page (roughly 500 words, in addition to your test sentences):\n",
        "\n",
        "\n",
        "\n",
        "*   **Research Question**: A clear formulation of the question you intend to investigate. It should be small and precise enough that it can reasonably be investigated using the functions defined above.\n",
        "*   **Hypothesis**: The answer to the research question that you predict to be true, and *why you have that specific expectation*.\n",
        "*   **At least 10 test sentences**, with a description of which of their properties are relevant. Be very clear about what, specifically, you are testing, and how the results will bear on your hypothesis.\n",
        "*   **Test** your sentences and see what outputs you get. Do these provide evidence for or against your hypothesis? Why do you think you got the results you did?  \n",
        "\n",
        "*   **Discuss** whether, given your own linguistic intuitions, the behaviour of BERT approximates that of a human language user with respect to your research question. If it is not human-like, how could the model be improved (in terms of training data, architecture, etc.) to achieve better results?\n",
        "* **OPTIONAL**: Try investigating your research question in some other models (see https://huggingface.co/models for some options). You will likely need to adapt your probes for other kinds of models--for instance, a probe you test in a dialogue-based interface like ChatGPT will be different than those you designed for BERT. Some models, like [RoBERTa](https://huggingface.co/FacebookAI/roberta-base), are built upon the BERT architecture, so they are compatible with the code above (see example below--note that RoBERTa tokenizes slightly differently from BERT)."
      ]
    },
    {
      "cell_type": "code",
      "execution_count": null,
      "metadata": {
        "id": "6u0UmEwIj4nn",
        "outputId": "b67070ec-965b-471e-a57f-1d5242455021"
      },
      "outputs": [
        {
          "name": "stdout",
          "output_type": "stream",
          "text": [
            "<mask>: Ġstage,  | probability:, 0.02834639512002468, \n",
            "\n",
            "<mask>: Ġgame, | probability:, 0.24180181324481964\n",
            "<mask>: Ġteam, | probability:, 0.03639107197523117\n",
            "<mask>: Ġsport, | probability:, 0.028797974810004234\n",
            "<mask>: Ġstage, | probability:, 0.02834639512002468\n",
            "<mask>: Ġball, | probability:, 0.02641335502266884\n"
          ]
        }
      ],
      "source": [
        "roberta_tokenizer = RobertaTokenizer.from_pretrained('roberta-base')\n",
        "roberta_model = RobertaForMaskedLM.from_pretrained('roberta-base')\n",
        "\n",
        "#Note 1: RoBERTa's default mask token is <mask>\n",
        "#Note 2: Most tokens in RoBERTa begin with the unusual character Ġ.\n",
        "#This is an artefact of the tokenization process, which includes the space preceding words.\n",
        "#To get the probability of a token \"word\",\n",
        "#we need to give get_masked_token_probability \"Ġword\"\n",
        "\n",
        "roberta_test_sentence = MaskedSentence(\"All the world’s a <mask>, and all the men and women merely players.\", model=roberta_model, tokenizer=roberta_tokenizer, mask_token='<mask>')\n",
        "roberta_test_sentence.get_masked_token_probability(\"Ġstage\")\n",
        "roberta_test_sentence.predict_masked_sent(top_k=5)"
      ]
    },
    {
      "cell_type": "markdown",
      "metadata": {
        "id": "hcehahWutEdk"
      },
      "source": [
        "<font color=\"red\">█████ YOUR ANSWER HERE █████</font>\n",
        "\n",
        "**Research Question:**\n",
        "To what extent does BERT demonstrate proficiency in understanding and solving mathematical computations?\n",
        "Our motivation is that BERT being a text-based, unimodal, model may fail to recognize mathematical constructs in its pre-training stage. We faced a similar issue with ChatGPT. We may, a priori, theorize that a transformer model trained on text is likely to fail at recognizing mathematical constructs because they differ markedly from linguistic constructs. Thus, if BERT treats numbers as contextualized word vectors, it’s likely to fail at mathematical tasks unless it is fine-tuned at such tasks.  \n",
        "\n",
        "**Hypothesis:**\n",
        "Since BERT is trained to recognize linguistic constructs and treats all its inputs as contextualized word embeddings, it’s likely to fail at mathematical tasks unless it’s fine-tuned to handle such tasks.\n",
        "Given that the exercise asks for at least 10 test sentences, we will hypothesize that BERT will fail at more than 2 mathematical tasks out of 10. Thus, our confidence level is 80%.\n",
        "\n",
        "**At least 10 test sentences**\n",
        "\n",
        "The sentences below test different aspects of mathematics, from basic math to sequences and slightly more complicated mathematical problems. To ensure that BERT's results pertain to knowledge of mathematics and not simply linguistic knowledge, we vary the test sentences to capture the specific mathematical results as shown in examples 6, 7, 9, and 10 below.\n",
        "\n",
        "1.\tSimple arithmetic in a story format: “If Sarah has three candles and she buys four more candles, she will own [MASK] candles.”\n",
        "2.\tSimple arithmetic in a numerical format: “Sarah bought 2 grams of apples and later bought 3 more grams of apples. In total, Sarah bought [MASK] grams of apples.\"\n",
        "3.\tDirect numerical example: \"the result of adding two to two is [MASK].\"\n",
        "4.\tTesting a numerical sequence with no gaps: \"If three follows after two, then four follows after [MASK].\"\n",
        "5.\tTesting a numerical sequence with a gap: \"If three follows after two, then ten follows after [MASK].\"\n",
        "6.\tRecognizing mathematics with no ambiguities: \"If three is a number, then twenty is a [MASK].\"\n",
        "7.\tRecognizing mathematics with ambiguities: \"If three is a number, then car is a [MASK].\"\n",
        "8.\tTesting a slightly more complicated mathematical problem: \"Robert earned 20 euros. He spent 5 euros on apples and was given 10 euros. Robert ended up with [MASK] euros.\"\n",
        "9.\tGeneral mathematical facts with a forward sequence: \"a circle is a 2 dimensional object while a sphere is a [MASK] dimensional object.\"\n",
        "10.\tGeneral mathematical facts with a backward sequence: \"a circle is a 2 dimensional object while a line is a [MASK] dimensional object.\"\n",
        "\n",
        "**Test**\n",
        "We tested BERT’s ability to recognize mathematical constructs and mathematical problems with the above sentences. We computed the probability distribution of the most likely masked words for each test sentence. BERT failed at all 10 sentences. We found that although it may appear that BERT is able to correctly predict the most likely masked word in the ninth sentence, it only does so because of the linguistic structure of the sentence and not by recognizing any mathematical patterns. This observation is validated by realizing that BERT produces almost the probability distribution for the tenth sentence.  \n",
        "\n",
        "**Discuss**\n",
        "The results confirm our hypothesis that BERT, being a language model, is unable to recognize mathematical constructs or even mathematical facts. We believe, however, that it’s possible for fine-tuning to make BERT better able at handling mathematical tasks. Pre-trained models such as BERT are particularly good at recognizing linguistics patterns given their training on a very large corpus. However, they often need additional fine-tuning to handle specific tasks.\n",
        "\n"
      ]
    },
    {
      "cell_type": "code",
      "execution_count": null,
      "metadata": {
        "id": "R7_u4ZXzJ5vm",
        "outputId": "221e5434-862e-4b1c-f998-c43840bb02a3"
      },
      "outputs": [
        {
          "name": "stdout",
          "output_type": "stream",
          "text": [
            "\n",
            " Sentence 1: If Sarah has three candles and she buys four more candles, she will own [MASK] candles.\n",
            "[MASK]: four, | probability:, 0.17971932888031006\n",
            "[MASK]: five, | probability:, 0.1367332935333252\n",
            "[MASK]: six, | probability:, 0.13622359931468964\n",
            "[MASK]: two, | probability:, 0.08459477871656418\n",
            "[MASK]: three, | probability:, 0.08010762184858322\n",
            "\n",
            " Sentence 2: Sarah bought 2 grams of apples and later bought 3 more grams of apples. In total, Sarah bought [MASK] grams of apples.\n",
            "[MASK]: 3, | probability:, 0.04998573660850525\n",
            "[MASK]: 4, | probability:, 0.04948264732956886\n",
            "[MASK]: 6, | probability:, 0.04175584763288498\n",
            "[MASK]: 10, | probability:, 0.03956218808889389\n",
            "[MASK]: 5, | probability:, 0.035733383148908615\n",
            "\n",
            " Sentence 3: the result of adding two to two is [MASK].\n",
            "[MASK]: zero, | probability:, 0.12512896955013275\n",
            "[MASK]: unknown, | probability:, 0.03913550451397896\n",
            "[MASK]: equal, | probability:, 0.021441008895635605\n",
            "[MASK]: one, | probability:, 0.02113204263150692\n",
            "[MASK]: known, | probability:, 0.021094441413879395\n",
            "\n",
            " Sentence 4: If three follows after two, then four follows after [MASK].\n",
            "[MASK]: three, | probability:, 0.33944329619407654\n",
            "[MASK]: two, | probability:, 0.1866307109594345\n",
            "[MASK]: four, | probability:, 0.17763833701610565\n",
            "[MASK]: one, | probability:, 0.16246643662452698\n",
            "[MASK]: five, | probability:, 0.05105782300233841\n",
            "\n",
            " Sentence 5: If three follows after two, then ten follows after [MASK].\n",
            "[MASK]: ten, | probability:, 0.3393718898296356\n",
            "[MASK]: one, | probability:, 0.13962824642658234\n",
            "[MASK]: five, | probability:, 0.08120408654212952\n",
            "[MASK]: two, | probability:, 0.080925852060318\n",
            "[MASK]: three, | probability:, 0.0711778774857521\n",
            "\n",
            " Sentence 6: If three is a number, then twenty is a [MASK].\n",
            "[MASK]: number, | probability:, 0.37600260972976685\n",
            "[MASK]: thousand, | probability:, 0.033333830535411835\n",
            "[MASK]: letter, | probability:, 0.031054876744747162\n",
            "[MASK]: word, | probability:, 0.026423858478665352\n",
            "[MASK]: pair, | probability:, 0.024027496576309204\n",
            "\n",
            " Sentence 7: If three is a number, then car is a [MASK].\n",
            "[MASK]: number, | probability:, 0.38382166624069214\n",
            "[MASK]: letter, | probability:, 0.04058786481618881\n",
            "[MASK]: set, | probability:, 0.02857990749180317\n",
            "[MASK]: person, | probability:, 0.0239289328455925\n",
            "[MASK]: car, | probability:, 0.020418604835867882\n",
            "\n",
            " Sentence 8: Robert earned 20 euros. He spent 5 euros on apples and was given 10 euros. Robert ended up with [MASK] euros.\n",
            "[MASK]: 10, | probability:, 0.21239840984344482\n",
            "[MASK]: 20, | probability:, 0.16292902827262878\n",
            "[MASK]: 30, | probability:, 0.06774575263261795\n",
            "[MASK]: 15, | probability:, 0.05916247516870499\n",
            "[MASK]: 25, | probability:, 0.05706875026226044\n",
            "\n",
            " Sentence 9: a circle is a 2 dimensional object while a sphere is a [MASK] dimensional object.\n",
            "[MASK]: 3, | probability:, 0.6129770874977112\n",
            "[MASK]: 1, | probability:, 0.296784907579422\n",
            "[MASK]: 4, | probability:, 0.05383095517754555\n",
            "[MASK]: higher, | probability:, 0.006448594853281975\n",
            "[MASK]: 5, | probability:, 0.005214438308030367\n",
            "\n",
            " Sentence 10: a circle is a 2 dimensional object while a line is a [MASK] dimensional object.\n",
            "[MASK]: 3, | probability:, 0.5426425337791443\n",
            "[MASK]: 1, | probability:, 0.3718014359474182\n",
            "[MASK]: 4, | probability:, 0.052983593195676804\n",
            "[MASK]: 2, | probability:, 0.005560446064919233\n",
            "[MASK]: 5, | probability:, 0.0046072183176875114\n"
          ]
        }
      ],
      "source": [
        "test_sentences = [\n",
        "    \"If Sarah has three candles and she buys four more candles, she will own [MASK] candles.\",\n",
        "    \"Sarah bought 2 grams of apples and later bought 3 more grams of apples. In total, Sarah bought [MASK] grams of apples.\",\n",
        "    \"the result of adding two to two is [MASK].\",\n",
        "    \"If three follows after two, then four follows after [MASK].\",\n",
        "    \"If three follows after two, then ten follows after [MASK].\",\n",
        "    \"If three is a number, then twenty is a [MASK].\",\n",
        "    \"If three is a number, then car is a [MASK].\",\n",
        "    \"Robert earned 20 euros. He spent 5 euros on apples and was given 10 euros. Robert ended up with [MASK] euros.\",\n",
        "    \"a circle is a 2 dimensional object while a sphere is a [MASK] dimensional object.\",\n",
        "    \"a circle is a 2 dimensional object while a line is a [MASK] dimensional object.\",\n",
        "]\n",
        "\n",
        "\n",
        "for i,sentence in enumerate(test_sentences):\n",
        "    sentence_masked = MaskedSentence(sentence)\n",
        "    print(f\"\\n Sentence {i+1}: {sentence}\")\n",
        "    sentence_masked.predict_masked_sent(top_k = 5)"
      ]
    },
    {
      "cell_type": "markdown",
      "metadata": {
        "id": "upqe9EP2tBD8"
      },
      "source": [
        "# Acknowledgments\n",
        "\n",
        "Concept and lab designed by Tom Roberts. BERT MLM script was heavily based on work by Yuchen Lin. Counterfactual example adapted from [Li, Yu, and Ettinger (2023)](https://aclanthology.org/2023.acl-short.70.pdf)."
      ]
    }
  ],
  "metadata": {
    "colab": {
      "provenance": [],
      "toc_visible": true
    },
    "kernelspec": {
      "display_name": "Python 3",
      "name": "python3"
    },
    "language_info": {
      "codemirror_mode": {
        "name": "ipython",
        "version": 3
      },
      "file_extension": ".py",
      "mimetype": "text/x-python",
      "name": "python",
      "nbconvert_exporter": "python",
      "pygments_lexer": "ipython3",
      "version": "3.11.7"
    },
    "widgets": {
      "application/vnd.jupyter.widget-state+json": {
        "eb1bec3830b744f199c93d7d4ad3b265": {
          "model_module": "@jupyter-widgets/controls",
          "model_name": "HBoxModel",
          "model_module_version": "1.5.0",
          "state": {
            "_dom_classes": [],
            "_model_module": "@jupyter-widgets/controls",
            "_model_module_version": "1.5.0",
            "_model_name": "HBoxModel",
            "_view_count": null,
            "_view_module": "@jupyter-widgets/controls",
            "_view_module_version": "1.5.0",
            "_view_name": "HBoxView",
            "box_style": "",
            "children": [
              "IPY_MODEL_1349c41bf4884d818c21dc20474fcdb5",
              "IPY_MODEL_fc03289f23af4933912cdce8d63d0686",
              "IPY_MODEL_39515334dc84458c99c0c511f4f2ddfd"
            ],
            "layout": "IPY_MODEL_21acdacd0cf8434ba0ee374e28a0fc6d"
          }
        },
        "1349c41bf4884d818c21dc20474fcdb5": {
          "model_module": "@jupyter-widgets/controls",
          "model_name": "HTMLModel",
          "model_module_version": "1.5.0",
          "state": {
            "_dom_classes": [],
            "_model_module": "@jupyter-widgets/controls",
            "_model_module_version": "1.5.0",
            "_model_name": "HTMLModel",
            "_view_count": null,
            "_view_module": "@jupyter-widgets/controls",
            "_view_module_version": "1.5.0",
            "_view_name": "HTMLView",
            "description": "",
            "description_tooltip": null,
            "layout": "IPY_MODEL_9fab7d6150764feca5a0fb6831409a47",
            "placeholder": "​",
            "style": "IPY_MODEL_d8acfa4b723f4134bfd5f74d4be60d66",
            "value": "tokenizer_config.json: 100%"
          }
        },
        "fc03289f23af4933912cdce8d63d0686": {
          "model_module": "@jupyter-widgets/controls",
          "model_name": "FloatProgressModel",
          "model_module_version": "1.5.0",
          "state": {
            "_dom_classes": [],
            "_model_module": "@jupyter-widgets/controls",
            "_model_module_version": "1.5.0",
            "_model_name": "FloatProgressModel",
            "_view_count": null,
            "_view_module": "@jupyter-widgets/controls",
            "_view_module_version": "1.5.0",
            "_view_name": "ProgressView",
            "bar_style": "success",
            "description": "",
            "description_tooltip": null,
            "layout": "IPY_MODEL_8c2c1b564fdb4881b90f498139325c1e",
            "max": 48,
            "min": 0,
            "orientation": "horizontal",
            "style": "IPY_MODEL_5e405d276c864861a40d6442f0291da6",
            "value": 48
          }
        },
        "39515334dc84458c99c0c511f4f2ddfd": {
          "model_module": "@jupyter-widgets/controls",
          "model_name": "HTMLModel",
          "model_module_version": "1.5.0",
          "state": {
            "_dom_classes": [],
            "_model_module": "@jupyter-widgets/controls",
            "_model_module_version": "1.5.0",
            "_model_name": "HTMLModel",
            "_view_count": null,
            "_view_module": "@jupyter-widgets/controls",
            "_view_module_version": "1.5.0",
            "_view_name": "HTMLView",
            "description": "",
            "description_tooltip": null,
            "layout": "IPY_MODEL_35a95f7c0749472f8e8898d09f538120",
            "placeholder": "​",
            "style": "IPY_MODEL_3421d5a6a41d41168ff7c18fa2b62e97",
            "value": " 48.0/48.0 [00:00&lt;00:00, 1.84kB/s]"
          }
        },
        "21acdacd0cf8434ba0ee374e28a0fc6d": {
          "model_module": "@jupyter-widgets/base",
          "model_name": "LayoutModel",
          "model_module_version": "1.2.0",
          "state": {
            "_model_module": "@jupyter-widgets/base",
            "_model_module_version": "1.2.0",
            "_model_name": "LayoutModel",
            "_view_count": null,
            "_view_module": "@jupyter-widgets/base",
            "_view_module_version": "1.2.0",
            "_view_name": "LayoutView",
            "align_content": null,
            "align_items": null,
            "align_self": null,
            "border": null,
            "bottom": null,
            "display": null,
            "flex": null,
            "flex_flow": null,
            "grid_area": null,
            "grid_auto_columns": null,
            "grid_auto_flow": null,
            "grid_auto_rows": null,
            "grid_column": null,
            "grid_gap": null,
            "grid_row": null,
            "grid_template_areas": null,
            "grid_template_columns": null,
            "grid_template_rows": null,
            "height": null,
            "justify_content": null,
            "justify_items": null,
            "left": null,
            "margin": null,
            "max_height": null,
            "max_width": null,
            "min_height": null,
            "min_width": null,
            "object_fit": null,
            "object_position": null,
            "order": null,
            "overflow": null,
            "overflow_x": null,
            "overflow_y": null,
            "padding": null,
            "right": null,
            "top": null,
            "visibility": null,
            "width": null
          }
        },
        "9fab7d6150764feca5a0fb6831409a47": {
          "model_module": "@jupyter-widgets/base",
          "model_name": "LayoutModel",
          "model_module_version": "1.2.0",
          "state": {
            "_model_module": "@jupyter-widgets/base",
            "_model_module_version": "1.2.0",
            "_model_name": "LayoutModel",
            "_view_count": null,
            "_view_module": "@jupyter-widgets/base",
            "_view_module_version": "1.2.0",
            "_view_name": "LayoutView",
            "align_content": null,
            "align_items": null,
            "align_self": null,
            "border": null,
            "bottom": null,
            "display": null,
            "flex": null,
            "flex_flow": null,
            "grid_area": null,
            "grid_auto_columns": null,
            "grid_auto_flow": null,
            "grid_auto_rows": null,
            "grid_column": null,
            "grid_gap": null,
            "grid_row": null,
            "grid_template_areas": null,
            "grid_template_columns": null,
            "grid_template_rows": null,
            "height": null,
            "justify_content": null,
            "justify_items": null,
            "left": null,
            "margin": null,
            "max_height": null,
            "max_width": null,
            "min_height": null,
            "min_width": null,
            "object_fit": null,
            "object_position": null,
            "order": null,
            "overflow": null,
            "overflow_x": null,
            "overflow_y": null,
            "padding": null,
            "right": null,
            "top": null,
            "visibility": null,
            "width": null
          }
        },
        "d8acfa4b723f4134bfd5f74d4be60d66": {
          "model_module": "@jupyter-widgets/controls",
          "model_name": "DescriptionStyleModel",
          "model_module_version": "1.5.0",
          "state": {
            "_model_module": "@jupyter-widgets/controls",
            "_model_module_version": "1.5.0",
            "_model_name": "DescriptionStyleModel",
            "_view_count": null,
            "_view_module": "@jupyter-widgets/base",
            "_view_module_version": "1.2.0",
            "_view_name": "StyleView",
            "description_width": ""
          }
        },
        "8c2c1b564fdb4881b90f498139325c1e": {
          "model_module": "@jupyter-widgets/base",
          "model_name": "LayoutModel",
          "model_module_version": "1.2.0",
          "state": {
            "_model_module": "@jupyter-widgets/base",
            "_model_module_version": "1.2.0",
            "_model_name": "LayoutModel",
            "_view_count": null,
            "_view_module": "@jupyter-widgets/base",
            "_view_module_version": "1.2.0",
            "_view_name": "LayoutView",
            "align_content": null,
            "align_items": null,
            "align_self": null,
            "border": null,
            "bottom": null,
            "display": null,
            "flex": null,
            "flex_flow": null,
            "grid_area": null,
            "grid_auto_columns": null,
            "grid_auto_flow": null,
            "grid_auto_rows": null,
            "grid_column": null,
            "grid_gap": null,
            "grid_row": null,
            "grid_template_areas": null,
            "grid_template_columns": null,
            "grid_template_rows": null,
            "height": null,
            "justify_content": null,
            "justify_items": null,
            "left": null,
            "margin": null,
            "max_height": null,
            "max_width": null,
            "min_height": null,
            "min_width": null,
            "object_fit": null,
            "object_position": null,
            "order": null,
            "overflow": null,
            "overflow_x": null,
            "overflow_y": null,
            "padding": null,
            "right": null,
            "top": null,
            "visibility": null,
            "width": null
          }
        },
        "5e405d276c864861a40d6442f0291da6": {
          "model_module": "@jupyter-widgets/controls",
          "model_name": "ProgressStyleModel",
          "model_module_version": "1.5.0",
          "state": {
            "_model_module": "@jupyter-widgets/controls",
            "_model_module_version": "1.5.0",
            "_model_name": "ProgressStyleModel",
            "_view_count": null,
            "_view_module": "@jupyter-widgets/base",
            "_view_module_version": "1.2.0",
            "_view_name": "StyleView",
            "bar_color": null,
            "description_width": ""
          }
        },
        "35a95f7c0749472f8e8898d09f538120": {
          "model_module": "@jupyter-widgets/base",
          "model_name": "LayoutModel",
          "model_module_version": "1.2.0",
          "state": {
            "_model_module": "@jupyter-widgets/base",
            "_model_module_version": "1.2.0",
            "_model_name": "LayoutModel",
            "_view_count": null,
            "_view_module": "@jupyter-widgets/base",
            "_view_module_version": "1.2.0",
            "_view_name": "LayoutView",
            "align_content": null,
            "align_items": null,
            "align_self": null,
            "border": null,
            "bottom": null,
            "display": null,
            "flex": null,
            "flex_flow": null,
            "grid_area": null,
            "grid_auto_columns": null,
            "grid_auto_flow": null,
            "grid_auto_rows": null,
            "grid_column": null,
            "grid_gap": null,
            "grid_row": null,
            "grid_template_areas": null,
            "grid_template_columns": null,
            "grid_template_rows": null,
            "height": null,
            "justify_content": null,
            "justify_items": null,
            "left": null,
            "margin": null,
            "max_height": null,
            "max_width": null,
            "min_height": null,
            "min_width": null,
            "object_fit": null,
            "object_position": null,
            "order": null,
            "overflow": null,
            "overflow_x": null,
            "overflow_y": null,
            "padding": null,
            "right": null,
            "top": null,
            "visibility": null,
            "width": null
          }
        },
        "3421d5a6a41d41168ff7c18fa2b62e97": {
          "model_module": "@jupyter-widgets/controls",
          "model_name": "DescriptionStyleModel",
          "model_module_version": "1.5.0",
          "state": {
            "_model_module": "@jupyter-widgets/controls",
            "_model_module_version": "1.5.0",
            "_model_name": "DescriptionStyleModel",
            "_view_count": null,
            "_view_module": "@jupyter-widgets/base",
            "_view_module_version": "1.2.0",
            "_view_name": "StyleView",
            "description_width": ""
          }
        },
        "3004591bfc7445b081ea53d772479bc5": {
          "model_module": "@jupyter-widgets/controls",
          "model_name": "HBoxModel",
          "model_module_version": "1.5.0",
          "state": {
            "_dom_classes": [],
            "_model_module": "@jupyter-widgets/controls",
            "_model_module_version": "1.5.0",
            "_model_name": "HBoxModel",
            "_view_count": null,
            "_view_module": "@jupyter-widgets/controls",
            "_view_module_version": "1.5.0",
            "_view_name": "HBoxView",
            "box_style": "",
            "children": [
              "IPY_MODEL_bc71a1a48e2748138187d04e3178a64a",
              "IPY_MODEL_c3f4d6affb3a47fcb2edf13d3d839399",
              "IPY_MODEL_a42af1c38e374935b4a7f25e1df29ced"
            ],
            "layout": "IPY_MODEL_22665c5a116e4194939f10fa70361632"
          }
        },
        "bc71a1a48e2748138187d04e3178a64a": {
          "model_module": "@jupyter-widgets/controls",
          "model_name": "HTMLModel",
          "model_module_version": "1.5.0",
          "state": {
            "_dom_classes": [],
            "_model_module": "@jupyter-widgets/controls",
            "_model_module_version": "1.5.0",
            "_model_name": "HTMLModel",
            "_view_count": null,
            "_view_module": "@jupyter-widgets/controls",
            "_view_module_version": "1.5.0",
            "_view_name": "HTMLView",
            "description": "",
            "description_tooltip": null,
            "layout": "IPY_MODEL_ed6fb9342cab4a1f80905f8e168c1982",
            "placeholder": "​",
            "style": "IPY_MODEL_4ff4e28a04094eb8837ead17cde4ee04",
            "value": "vocab.txt: 100%"
          }
        },
        "c3f4d6affb3a47fcb2edf13d3d839399": {
          "model_module": "@jupyter-widgets/controls",
          "model_name": "FloatProgressModel",
          "model_module_version": "1.5.0",
          "state": {
            "_dom_classes": [],
            "_model_module": "@jupyter-widgets/controls",
            "_model_module_version": "1.5.0",
            "_model_name": "FloatProgressModel",
            "_view_count": null,
            "_view_module": "@jupyter-widgets/controls",
            "_view_module_version": "1.5.0",
            "_view_name": "ProgressView",
            "bar_style": "success",
            "description": "",
            "description_tooltip": null,
            "layout": "IPY_MODEL_b9cdd91690aa4c9db285152e71cd092b",
            "max": 231508,
            "min": 0,
            "orientation": "horizontal",
            "style": "IPY_MODEL_ff2aca53d97b4372911e94830f616dc5",
            "value": 231508
          }
        },
        "a42af1c38e374935b4a7f25e1df29ced": {
          "model_module": "@jupyter-widgets/controls",
          "model_name": "HTMLModel",
          "model_module_version": "1.5.0",
          "state": {
            "_dom_classes": [],
            "_model_module": "@jupyter-widgets/controls",
            "_model_module_version": "1.5.0",
            "_model_name": "HTMLModel",
            "_view_count": null,
            "_view_module": "@jupyter-widgets/controls",
            "_view_module_version": "1.5.0",
            "_view_name": "HTMLView",
            "description": "",
            "description_tooltip": null,
            "layout": "IPY_MODEL_6443d234a32f43bc84521af3cac47e60",
            "placeholder": "​",
            "style": "IPY_MODEL_7f56c43cc5d44807821bfa8d05c1262d",
            "value": " 232k/232k [00:00&lt;00:00, 3.59MB/s]"
          }
        },
        "22665c5a116e4194939f10fa70361632": {
          "model_module": "@jupyter-widgets/base",
          "model_name": "LayoutModel",
          "model_module_version": "1.2.0",
          "state": {
            "_model_module": "@jupyter-widgets/base",
            "_model_module_version": "1.2.0",
            "_model_name": "LayoutModel",
            "_view_count": null,
            "_view_module": "@jupyter-widgets/base",
            "_view_module_version": "1.2.0",
            "_view_name": "LayoutView",
            "align_content": null,
            "align_items": null,
            "align_self": null,
            "border": null,
            "bottom": null,
            "display": null,
            "flex": null,
            "flex_flow": null,
            "grid_area": null,
            "grid_auto_columns": null,
            "grid_auto_flow": null,
            "grid_auto_rows": null,
            "grid_column": null,
            "grid_gap": null,
            "grid_row": null,
            "grid_template_areas": null,
            "grid_template_columns": null,
            "grid_template_rows": null,
            "height": null,
            "justify_content": null,
            "justify_items": null,
            "left": null,
            "margin": null,
            "max_height": null,
            "max_width": null,
            "min_height": null,
            "min_width": null,
            "object_fit": null,
            "object_position": null,
            "order": null,
            "overflow": null,
            "overflow_x": null,
            "overflow_y": null,
            "padding": null,
            "right": null,
            "top": null,
            "visibility": null,
            "width": null
          }
        },
        "ed6fb9342cab4a1f80905f8e168c1982": {
          "model_module": "@jupyter-widgets/base",
          "model_name": "LayoutModel",
          "model_module_version": "1.2.0",
          "state": {
            "_model_module": "@jupyter-widgets/base",
            "_model_module_version": "1.2.0",
            "_model_name": "LayoutModel",
            "_view_count": null,
            "_view_module": "@jupyter-widgets/base",
            "_view_module_version": "1.2.0",
            "_view_name": "LayoutView",
            "align_content": null,
            "align_items": null,
            "align_self": null,
            "border": null,
            "bottom": null,
            "display": null,
            "flex": null,
            "flex_flow": null,
            "grid_area": null,
            "grid_auto_columns": null,
            "grid_auto_flow": null,
            "grid_auto_rows": null,
            "grid_column": null,
            "grid_gap": null,
            "grid_row": null,
            "grid_template_areas": null,
            "grid_template_columns": null,
            "grid_template_rows": null,
            "height": null,
            "justify_content": null,
            "justify_items": null,
            "left": null,
            "margin": null,
            "max_height": null,
            "max_width": null,
            "min_height": null,
            "min_width": null,
            "object_fit": null,
            "object_position": null,
            "order": null,
            "overflow": null,
            "overflow_x": null,
            "overflow_y": null,
            "padding": null,
            "right": null,
            "top": null,
            "visibility": null,
            "width": null
          }
        },
        "4ff4e28a04094eb8837ead17cde4ee04": {
          "model_module": "@jupyter-widgets/controls",
          "model_name": "DescriptionStyleModel",
          "model_module_version": "1.5.0",
          "state": {
            "_model_module": "@jupyter-widgets/controls",
            "_model_module_version": "1.5.0",
            "_model_name": "DescriptionStyleModel",
            "_view_count": null,
            "_view_module": "@jupyter-widgets/base",
            "_view_module_version": "1.2.0",
            "_view_name": "StyleView",
            "description_width": ""
          }
        },
        "b9cdd91690aa4c9db285152e71cd092b": {
          "model_module": "@jupyter-widgets/base",
          "model_name": "LayoutModel",
          "model_module_version": "1.2.0",
          "state": {
            "_model_module": "@jupyter-widgets/base",
            "_model_module_version": "1.2.0",
            "_model_name": "LayoutModel",
            "_view_count": null,
            "_view_module": "@jupyter-widgets/base",
            "_view_module_version": "1.2.0",
            "_view_name": "LayoutView",
            "align_content": null,
            "align_items": null,
            "align_self": null,
            "border": null,
            "bottom": null,
            "display": null,
            "flex": null,
            "flex_flow": null,
            "grid_area": null,
            "grid_auto_columns": null,
            "grid_auto_flow": null,
            "grid_auto_rows": null,
            "grid_column": null,
            "grid_gap": null,
            "grid_row": null,
            "grid_template_areas": null,
            "grid_template_columns": null,
            "grid_template_rows": null,
            "height": null,
            "justify_content": null,
            "justify_items": null,
            "left": null,
            "margin": null,
            "max_height": null,
            "max_width": null,
            "min_height": null,
            "min_width": null,
            "object_fit": null,
            "object_position": null,
            "order": null,
            "overflow": null,
            "overflow_x": null,
            "overflow_y": null,
            "padding": null,
            "right": null,
            "top": null,
            "visibility": null,
            "width": null
          }
        },
        "ff2aca53d97b4372911e94830f616dc5": {
          "model_module": "@jupyter-widgets/controls",
          "model_name": "ProgressStyleModel",
          "model_module_version": "1.5.0",
          "state": {
            "_model_module": "@jupyter-widgets/controls",
            "_model_module_version": "1.5.0",
            "_model_name": "ProgressStyleModel",
            "_view_count": null,
            "_view_module": "@jupyter-widgets/base",
            "_view_module_version": "1.2.0",
            "_view_name": "StyleView",
            "bar_color": null,
            "description_width": ""
          }
        },
        "6443d234a32f43bc84521af3cac47e60": {
          "model_module": "@jupyter-widgets/base",
          "model_name": "LayoutModel",
          "model_module_version": "1.2.0",
          "state": {
            "_model_module": "@jupyter-widgets/base",
            "_model_module_version": "1.2.0",
            "_model_name": "LayoutModel",
            "_view_count": null,
            "_view_module": "@jupyter-widgets/base",
            "_view_module_version": "1.2.0",
            "_view_name": "LayoutView",
            "align_content": null,
            "align_items": null,
            "align_self": null,
            "border": null,
            "bottom": null,
            "display": null,
            "flex": null,
            "flex_flow": null,
            "grid_area": null,
            "grid_auto_columns": null,
            "grid_auto_flow": null,
            "grid_auto_rows": null,
            "grid_column": null,
            "grid_gap": null,
            "grid_row": null,
            "grid_template_areas": null,
            "grid_template_columns": null,
            "grid_template_rows": null,
            "height": null,
            "justify_content": null,
            "justify_items": null,
            "left": null,
            "margin": null,
            "max_height": null,
            "max_width": null,
            "min_height": null,
            "min_width": null,
            "object_fit": null,
            "object_position": null,
            "order": null,
            "overflow": null,
            "overflow_x": null,
            "overflow_y": null,
            "padding": null,
            "right": null,
            "top": null,
            "visibility": null,
            "width": null
          }
        },
        "7f56c43cc5d44807821bfa8d05c1262d": {
          "model_module": "@jupyter-widgets/controls",
          "model_name": "DescriptionStyleModel",
          "model_module_version": "1.5.0",
          "state": {
            "_model_module": "@jupyter-widgets/controls",
            "_model_module_version": "1.5.0",
            "_model_name": "DescriptionStyleModel",
            "_view_count": null,
            "_view_module": "@jupyter-widgets/base",
            "_view_module_version": "1.2.0",
            "_view_name": "StyleView",
            "description_width": ""
          }
        },
        "0f14cc35346544dba5f8703b5f65ca75": {
          "model_module": "@jupyter-widgets/controls",
          "model_name": "HBoxModel",
          "model_module_version": "1.5.0",
          "state": {
            "_dom_classes": [],
            "_model_module": "@jupyter-widgets/controls",
            "_model_module_version": "1.5.0",
            "_model_name": "HBoxModel",
            "_view_count": null,
            "_view_module": "@jupyter-widgets/controls",
            "_view_module_version": "1.5.0",
            "_view_name": "HBoxView",
            "box_style": "",
            "children": [
              "IPY_MODEL_c6af4c396edd4c6d8441791ec9c6ff23",
              "IPY_MODEL_f83c3e8fa140445d80f01a3b0390b6e2",
              "IPY_MODEL_d04337dda69147869e0575e3cc553852"
            ],
            "layout": "IPY_MODEL_f39484b66f36430a8abb3655a0e2926f"
          }
        },
        "c6af4c396edd4c6d8441791ec9c6ff23": {
          "model_module": "@jupyter-widgets/controls",
          "model_name": "HTMLModel",
          "model_module_version": "1.5.0",
          "state": {
            "_dom_classes": [],
            "_model_module": "@jupyter-widgets/controls",
            "_model_module_version": "1.5.0",
            "_model_name": "HTMLModel",
            "_view_count": null,
            "_view_module": "@jupyter-widgets/controls",
            "_view_module_version": "1.5.0",
            "_view_name": "HTMLView",
            "description": "",
            "description_tooltip": null,
            "layout": "IPY_MODEL_f2cfe8161a534ead971e5b765c117d0d",
            "placeholder": "​",
            "style": "IPY_MODEL_da538ef82b79471e83f7510f5f5073d6",
            "value": "tokenizer.json: 100%"
          }
        },
        "f83c3e8fa140445d80f01a3b0390b6e2": {
          "model_module": "@jupyter-widgets/controls",
          "model_name": "FloatProgressModel",
          "model_module_version": "1.5.0",
          "state": {
            "_dom_classes": [],
            "_model_module": "@jupyter-widgets/controls",
            "_model_module_version": "1.5.0",
            "_model_name": "FloatProgressModel",
            "_view_count": null,
            "_view_module": "@jupyter-widgets/controls",
            "_view_module_version": "1.5.0",
            "_view_name": "ProgressView",
            "bar_style": "success",
            "description": "",
            "description_tooltip": null,
            "layout": "IPY_MODEL_5dae45aaa1d94b3e9365c7cb42e04cea",
            "max": 466062,
            "min": 0,
            "orientation": "horizontal",
            "style": "IPY_MODEL_1ccaf958de474809a653f92b9da5d206",
            "value": 466062
          }
        },
        "d04337dda69147869e0575e3cc553852": {
          "model_module": "@jupyter-widgets/controls",
          "model_name": "HTMLModel",
          "model_module_version": "1.5.0",
          "state": {
            "_dom_classes": [],
            "_model_module": "@jupyter-widgets/controls",
            "_model_module_version": "1.5.0",
            "_model_name": "HTMLModel",
            "_view_count": null,
            "_view_module": "@jupyter-widgets/controls",
            "_view_module_version": "1.5.0",
            "_view_name": "HTMLView",
            "description": "",
            "description_tooltip": null,
            "layout": "IPY_MODEL_18f7becd7d2047e887ac19957266328b",
            "placeholder": "​",
            "style": "IPY_MODEL_438b1a9dc8b14b7c98e7b8c878a6dbc4",
            "value": " 466k/466k [00:00&lt;00:00, 8.87MB/s]"
          }
        },
        "f39484b66f36430a8abb3655a0e2926f": {
          "model_module": "@jupyter-widgets/base",
          "model_name": "LayoutModel",
          "model_module_version": "1.2.0",
          "state": {
            "_model_module": "@jupyter-widgets/base",
            "_model_module_version": "1.2.0",
            "_model_name": "LayoutModel",
            "_view_count": null,
            "_view_module": "@jupyter-widgets/base",
            "_view_module_version": "1.2.0",
            "_view_name": "LayoutView",
            "align_content": null,
            "align_items": null,
            "align_self": null,
            "border": null,
            "bottom": null,
            "display": null,
            "flex": null,
            "flex_flow": null,
            "grid_area": null,
            "grid_auto_columns": null,
            "grid_auto_flow": null,
            "grid_auto_rows": null,
            "grid_column": null,
            "grid_gap": null,
            "grid_row": null,
            "grid_template_areas": null,
            "grid_template_columns": null,
            "grid_template_rows": null,
            "height": null,
            "justify_content": null,
            "justify_items": null,
            "left": null,
            "margin": null,
            "max_height": null,
            "max_width": null,
            "min_height": null,
            "min_width": null,
            "object_fit": null,
            "object_position": null,
            "order": null,
            "overflow": null,
            "overflow_x": null,
            "overflow_y": null,
            "padding": null,
            "right": null,
            "top": null,
            "visibility": null,
            "width": null
          }
        },
        "f2cfe8161a534ead971e5b765c117d0d": {
          "model_module": "@jupyter-widgets/base",
          "model_name": "LayoutModel",
          "model_module_version": "1.2.0",
          "state": {
            "_model_module": "@jupyter-widgets/base",
            "_model_module_version": "1.2.0",
            "_model_name": "LayoutModel",
            "_view_count": null,
            "_view_module": "@jupyter-widgets/base",
            "_view_module_version": "1.2.0",
            "_view_name": "LayoutView",
            "align_content": null,
            "align_items": null,
            "align_self": null,
            "border": null,
            "bottom": null,
            "display": null,
            "flex": null,
            "flex_flow": null,
            "grid_area": null,
            "grid_auto_columns": null,
            "grid_auto_flow": null,
            "grid_auto_rows": null,
            "grid_column": null,
            "grid_gap": null,
            "grid_row": null,
            "grid_template_areas": null,
            "grid_template_columns": null,
            "grid_template_rows": null,
            "height": null,
            "justify_content": null,
            "justify_items": null,
            "left": null,
            "margin": null,
            "max_height": null,
            "max_width": null,
            "min_height": null,
            "min_width": null,
            "object_fit": null,
            "object_position": null,
            "order": null,
            "overflow": null,
            "overflow_x": null,
            "overflow_y": null,
            "padding": null,
            "right": null,
            "top": null,
            "visibility": null,
            "width": null
          }
        },
        "da538ef82b79471e83f7510f5f5073d6": {
          "model_module": "@jupyter-widgets/controls",
          "model_name": "DescriptionStyleModel",
          "model_module_version": "1.5.0",
          "state": {
            "_model_module": "@jupyter-widgets/controls",
            "_model_module_version": "1.5.0",
            "_model_name": "DescriptionStyleModel",
            "_view_count": null,
            "_view_module": "@jupyter-widgets/base",
            "_view_module_version": "1.2.0",
            "_view_name": "StyleView",
            "description_width": ""
          }
        },
        "5dae45aaa1d94b3e9365c7cb42e04cea": {
          "model_module": "@jupyter-widgets/base",
          "model_name": "LayoutModel",
          "model_module_version": "1.2.0",
          "state": {
            "_model_module": "@jupyter-widgets/base",
            "_model_module_version": "1.2.0",
            "_model_name": "LayoutModel",
            "_view_count": null,
            "_view_module": "@jupyter-widgets/base",
            "_view_module_version": "1.2.0",
            "_view_name": "LayoutView",
            "align_content": null,
            "align_items": null,
            "align_self": null,
            "border": null,
            "bottom": null,
            "display": null,
            "flex": null,
            "flex_flow": null,
            "grid_area": null,
            "grid_auto_columns": null,
            "grid_auto_flow": null,
            "grid_auto_rows": null,
            "grid_column": null,
            "grid_gap": null,
            "grid_row": null,
            "grid_template_areas": null,
            "grid_template_columns": null,
            "grid_template_rows": null,
            "height": null,
            "justify_content": null,
            "justify_items": null,
            "left": null,
            "margin": null,
            "max_height": null,
            "max_width": null,
            "min_height": null,
            "min_width": null,
            "object_fit": null,
            "object_position": null,
            "order": null,
            "overflow": null,
            "overflow_x": null,
            "overflow_y": null,
            "padding": null,
            "right": null,
            "top": null,
            "visibility": null,
            "width": null
          }
        },
        "1ccaf958de474809a653f92b9da5d206": {
          "model_module": "@jupyter-widgets/controls",
          "model_name": "ProgressStyleModel",
          "model_module_version": "1.5.0",
          "state": {
            "_model_module": "@jupyter-widgets/controls",
            "_model_module_version": "1.5.0",
            "_model_name": "ProgressStyleModel",
            "_view_count": null,
            "_view_module": "@jupyter-widgets/base",
            "_view_module_version": "1.2.0",
            "_view_name": "StyleView",
            "bar_color": null,
            "description_width": ""
          }
        },
        "18f7becd7d2047e887ac19957266328b": {
          "model_module": "@jupyter-widgets/base",
          "model_name": "LayoutModel",
          "model_module_version": "1.2.0",
          "state": {
            "_model_module": "@jupyter-widgets/base",
            "_model_module_version": "1.2.0",
            "_model_name": "LayoutModel",
            "_view_count": null,
            "_view_module": "@jupyter-widgets/base",
            "_view_module_version": "1.2.0",
            "_view_name": "LayoutView",
            "align_content": null,
            "align_items": null,
            "align_self": null,
            "border": null,
            "bottom": null,
            "display": null,
            "flex": null,
            "flex_flow": null,
            "grid_area": null,
            "grid_auto_columns": null,
            "grid_auto_flow": null,
            "grid_auto_rows": null,
            "grid_column": null,
            "grid_gap": null,
            "grid_row": null,
            "grid_template_areas": null,
            "grid_template_columns": null,
            "grid_template_rows": null,
            "height": null,
            "justify_content": null,
            "justify_items": null,
            "left": null,
            "margin": null,
            "max_height": null,
            "max_width": null,
            "min_height": null,
            "min_width": null,
            "object_fit": null,
            "object_position": null,
            "order": null,
            "overflow": null,
            "overflow_x": null,
            "overflow_y": null,
            "padding": null,
            "right": null,
            "top": null,
            "visibility": null,
            "width": null
          }
        },
        "438b1a9dc8b14b7c98e7b8c878a6dbc4": {
          "model_module": "@jupyter-widgets/controls",
          "model_name": "DescriptionStyleModel",
          "model_module_version": "1.5.0",
          "state": {
            "_model_module": "@jupyter-widgets/controls",
            "_model_module_version": "1.5.0",
            "_model_name": "DescriptionStyleModel",
            "_view_count": null,
            "_view_module": "@jupyter-widgets/base",
            "_view_module_version": "1.2.0",
            "_view_name": "StyleView",
            "description_width": ""
          }
        },
        "c4dce3616246487ab4da56fd2323514b": {
          "model_module": "@jupyter-widgets/controls",
          "model_name": "HBoxModel",
          "model_module_version": "1.5.0",
          "state": {
            "_dom_classes": [],
            "_model_module": "@jupyter-widgets/controls",
            "_model_module_version": "1.5.0",
            "_model_name": "HBoxModel",
            "_view_count": null,
            "_view_module": "@jupyter-widgets/controls",
            "_view_module_version": "1.5.0",
            "_view_name": "HBoxView",
            "box_style": "",
            "children": [
              "IPY_MODEL_409cc5f9be57477e9fbf7854d5b194a5",
              "IPY_MODEL_34e83ef669a54b298229b326e29074e4",
              "IPY_MODEL_72acc0b9e4094efbbe9a42644e3b21a6"
            ],
            "layout": "IPY_MODEL_0c4dc13e59654ecd98a87c81c3d795b5"
          }
        },
        "409cc5f9be57477e9fbf7854d5b194a5": {
          "model_module": "@jupyter-widgets/controls",
          "model_name": "HTMLModel",
          "model_module_version": "1.5.0",
          "state": {
            "_dom_classes": [],
            "_model_module": "@jupyter-widgets/controls",
            "_model_module_version": "1.5.0",
            "_model_name": "HTMLModel",
            "_view_count": null,
            "_view_module": "@jupyter-widgets/controls",
            "_view_module_version": "1.5.0",
            "_view_name": "HTMLView",
            "description": "",
            "description_tooltip": null,
            "layout": "IPY_MODEL_647f1d165f1a49c68ee9b37f09e9dfc2",
            "placeholder": "​",
            "style": "IPY_MODEL_57f1acfdfc3a46d4b7ec90a28f2ba361",
            "value": "config.json: 100%"
          }
        },
        "34e83ef669a54b298229b326e29074e4": {
          "model_module": "@jupyter-widgets/controls",
          "model_name": "FloatProgressModel",
          "model_module_version": "1.5.0",
          "state": {
            "_dom_classes": [],
            "_model_module": "@jupyter-widgets/controls",
            "_model_module_version": "1.5.0",
            "_model_name": "FloatProgressModel",
            "_view_count": null,
            "_view_module": "@jupyter-widgets/controls",
            "_view_module_version": "1.5.0",
            "_view_name": "ProgressView",
            "bar_style": "success",
            "description": "",
            "description_tooltip": null,
            "layout": "IPY_MODEL_2370cf4e3b7d493491722e236ab2b444",
            "max": 570,
            "min": 0,
            "orientation": "horizontal",
            "style": "IPY_MODEL_7645aa629bc249f59b17457ff9f3687c",
            "value": 570
          }
        },
        "72acc0b9e4094efbbe9a42644e3b21a6": {
          "model_module": "@jupyter-widgets/controls",
          "model_name": "HTMLModel",
          "model_module_version": "1.5.0",
          "state": {
            "_dom_classes": [],
            "_model_module": "@jupyter-widgets/controls",
            "_model_module_version": "1.5.0",
            "_model_name": "HTMLModel",
            "_view_count": null,
            "_view_module": "@jupyter-widgets/controls",
            "_view_module_version": "1.5.0",
            "_view_name": "HTMLView",
            "description": "",
            "description_tooltip": null,
            "layout": "IPY_MODEL_88b4aeffbf0e4e94b710cf8bbdc067e6",
            "placeholder": "​",
            "style": "IPY_MODEL_5eb542b2881943399247dabcd0a4ff9b",
            "value": " 570/570 [00:00&lt;00:00, 15.8kB/s]"
          }
        },
        "0c4dc13e59654ecd98a87c81c3d795b5": {
          "model_module": "@jupyter-widgets/base",
          "model_name": "LayoutModel",
          "model_module_version": "1.2.0",
          "state": {
            "_model_module": "@jupyter-widgets/base",
            "_model_module_version": "1.2.0",
            "_model_name": "LayoutModel",
            "_view_count": null,
            "_view_module": "@jupyter-widgets/base",
            "_view_module_version": "1.2.0",
            "_view_name": "LayoutView",
            "align_content": null,
            "align_items": null,
            "align_self": null,
            "border": null,
            "bottom": null,
            "display": null,
            "flex": null,
            "flex_flow": null,
            "grid_area": null,
            "grid_auto_columns": null,
            "grid_auto_flow": null,
            "grid_auto_rows": null,
            "grid_column": null,
            "grid_gap": null,
            "grid_row": null,
            "grid_template_areas": null,
            "grid_template_columns": null,
            "grid_template_rows": null,
            "height": null,
            "justify_content": null,
            "justify_items": null,
            "left": null,
            "margin": null,
            "max_height": null,
            "max_width": null,
            "min_height": null,
            "min_width": null,
            "object_fit": null,
            "object_position": null,
            "order": null,
            "overflow": null,
            "overflow_x": null,
            "overflow_y": null,
            "padding": null,
            "right": null,
            "top": null,
            "visibility": null,
            "width": null
          }
        },
        "647f1d165f1a49c68ee9b37f09e9dfc2": {
          "model_module": "@jupyter-widgets/base",
          "model_name": "LayoutModel",
          "model_module_version": "1.2.0",
          "state": {
            "_model_module": "@jupyter-widgets/base",
            "_model_module_version": "1.2.0",
            "_model_name": "LayoutModel",
            "_view_count": null,
            "_view_module": "@jupyter-widgets/base",
            "_view_module_version": "1.2.0",
            "_view_name": "LayoutView",
            "align_content": null,
            "align_items": null,
            "align_self": null,
            "border": null,
            "bottom": null,
            "display": null,
            "flex": null,
            "flex_flow": null,
            "grid_area": null,
            "grid_auto_columns": null,
            "grid_auto_flow": null,
            "grid_auto_rows": null,
            "grid_column": null,
            "grid_gap": null,
            "grid_row": null,
            "grid_template_areas": null,
            "grid_template_columns": null,
            "grid_template_rows": null,
            "height": null,
            "justify_content": null,
            "justify_items": null,
            "left": null,
            "margin": null,
            "max_height": null,
            "max_width": null,
            "min_height": null,
            "min_width": null,
            "object_fit": null,
            "object_position": null,
            "order": null,
            "overflow": null,
            "overflow_x": null,
            "overflow_y": null,
            "padding": null,
            "right": null,
            "top": null,
            "visibility": null,
            "width": null
          }
        },
        "57f1acfdfc3a46d4b7ec90a28f2ba361": {
          "model_module": "@jupyter-widgets/controls",
          "model_name": "DescriptionStyleModel",
          "model_module_version": "1.5.0",
          "state": {
            "_model_module": "@jupyter-widgets/controls",
            "_model_module_version": "1.5.0",
            "_model_name": "DescriptionStyleModel",
            "_view_count": null,
            "_view_module": "@jupyter-widgets/base",
            "_view_module_version": "1.2.0",
            "_view_name": "StyleView",
            "description_width": ""
          }
        },
        "2370cf4e3b7d493491722e236ab2b444": {
          "model_module": "@jupyter-widgets/base",
          "model_name": "LayoutModel",
          "model_module_version": "1.2.0",
          "state": {
            "_model_module": "@jupyter-widgets/base",
            "_model_module_version": "1.2.0",
            "_model_name": "LayoutModel",
            "_view_count": null,
            "_view_module": "@jupyter-widgets/base",
            "_view_module_version": "1.2.0",
            "_view_name": "LayoutView",
            "align_content": null,
            "align_items": null,
            "align_self": null,
            "border": null,
            "bottom": null,
            "display": null,
            "flex": null,
            "flex_flow": null,
            "grid_area": null,
            "grid_auto_columns": null,
            "grid_auto_flow": null,
            "grid_auto_rows": null,
            "grid_column": null,
            "grid_gap": null,
            "grid_row": null,
            "grid_template_areas": null,
            "grid_template_columns": null,
            "grid_template_rows": null,
            "height": null,
            "justify_content": null,
            "justify_items": null,
            "left": null,
            "margin": null,
            "max_height": null,
            "max_width": null,
            "min_height": null,
            "min_width": null,
            "object_fit": null,
            "object_position": null,
            "order": null,
            "overflow": null,
            "overflow_x": null,
            "overflow_y": null,
            "padding": null,
            "right": null,
            "top": null,
            "visibility": null,
            "width": null
          }
        },
        "7645aa629bc249f59b17457ff9f3687c": {
          "model_module": "@jupyter-widgets/controls",
          "model_name": "ProgressStyleModel",
          "model_module_version": "1.5.0",
          "state": {
            "_model_module": "@jupyter-widgets/controls",
            "_model_module_version": "1.5.0",
            "_model_name": "ProgressStyleModel",
            "_view_count": null,
            "_view_module": "@jupyter-widgets/base",
            "_view_module_version": "1.2.0",
            "_view_name": "StyleView",
            "bar_color": null,
            "description_width": ""
          }
        },
        "88b4aeffbf0e4e94b710cf8bbdc067e6": {
          "model_module": "@jupyter-widgets/base",
          "model_name": "LayoutModel",
          "model_module_version": "1.2.0",
          "state": {
            "_model_module": "@jupyter-widgets/base",
            "_model_module_version": "1.2.0",
            "_model_name": "LayoutModel",
            "_view_count": null,
            "_view_module": "@jupyter-widgets/base",
            "_view_module_version": "1.2.0",
            "_view_name": "LayoutView",
            "align_content": null,
            "align_items": null,
            "align_self": null,
            "border": null,
            "bottom": null,
            "display": null,
            "flex": null,
            "flex_flow": null,
            "grid_area": null,
            "grid_auto_columns": null,
            "grid_auto_flow": null,
            "grid_auto_rows": null,
            "grid_column": null,
            "grid_gap": null,
            "grid_row": null,
            "grid_template_areas": null,
            "grid_template_columns": null,
            "grid_template_rows": null,
            "height": null,
            "justify_content": null,
            "justify_items": null,
            "left": null,
            "margin": null,
            "max_height": null,
            "max_width": null,
            "min_height": null,
            "min_width": null,
            "object_fit": null,
            "object_position": null,
            "order": null,
            "overflow": null,
            "overflow_x": null,
            "overflow_y": null,
            "padding": null,
            "right": null,
            "top": null,
            "visibility": null,
            "width": null
          }
        },
        "5eb542b2881943399247dabcd0a4ff9b": {
          "model_module": "@jupyter-widgets/controls",
          "model_name": "DescriptionStyleModel",
          "model_module_version": "1.5.0",
          "state": {
            "_model_module": "@jupyter-widgets/controls",
            "_model_module_version": "1.5.0",
            "_model_name": "DescriptionStyleModel",
            "_view_count": null,
            "_view_module": "@jupyter-widgets/base",
            "_view_module_version": "1.2.0",
            "_view_name": "StyleView",
            "description_width": ""
          }
        },
        "2d3d3496be5d4a95af9a42c452633a82": {
          "model_module": "@jupyter-widgets/controls",
          "model_name": "HBoxModel",
          "model_module_version": "1.5.0",
          "state": {
            "_dom_classes": [],
            "_model_module": "@jupyter-widgets/controls",
            "_model_module_version": "1.5.0",
            "_model_name": "HBoxModel",
            "_view_count": null,
            "_view_module": "@jupyter-widgets/controls",
            "_view_module_version": "1.5.0",
            "_view_name": "HBoxView",
            "box_style": "",
            "children": [
              "IPY_MODEL_0d46d4ce51da4ef98cc0e38aa3884fd7",
              "IPY_MODEL_9d4c9e887e1645d096279a4440108aa3",
              "IPY_MODEL_e40fb4f668854c798178c7c07de13276"
            ],
            "layout": "IPY_MODEL_530df4e0cc4d495cbcc657af73f6d714"
          }
        },
        "0d46d4ce51da4ef98cc0e38aa3884fd7": {
          "model_module": "@jupyter-widgets/controls",
          "model_name": "HTMLModel",
          "model_module_version": "1.5.0",
          "state": {
            "_dom_classes": [],
            "_model_module": "@jupyter-widgets/controls",
            "_model_module_version": "1.5.0",
            "_model_name": "HTMLModel",
            "_view_count": null,
            "_view_module": "@jupyter-widgets/controls",
            "_view_module_version": "1.5.0",
            "_view_name": "HTMLView",
            "description": "",
            "description_tooltip": null,
            "layout": "IPY_MODEL_1821c757c7134cf48653a7b42837f7fd",
            "placeholder": "​",
            "style": "IPY_MODEL_f20121a037fa425986c3d2ac85ed2155",
            "value": "model.safetensors: 100%"
          }
        },
        "9d4c9e887e1645d096279a4440108aa3": {
          "model_module": "@jupyter-widgets/controls",
          "model_name": "FloatProgressModel",
          "model_module_version": "1.5.0",
          "state": {
            "_dom_classes": [],
            "_model_module": "@jupyter-widgets/controls",
            "_model_module_version": "1.5.0",
            "_model_name": "FloatProgressModel",
            "_view_count": null,
            "_view_module": "@jupyter-widgets/controls",
            "_view_module_version": "1.5.0",
            "_view_name": "ProgressView",
            "bar_style": "success",
            "description": "",
            "description_tooltip": null,
            "layout": "IPY_MODEL_ea5eba4ffbda49ef9fcf053e27248d96",
            "max": 440449768,
            "min": 0,
            "orientation": "horizontal",
            "style": "IPY_MODEL_b4b02c38595442df92e6cd1ea6fc85de",
            "value": 440449768
          }
        },
        "e40fb4f668854c798178c7c07de13276": {
          "model_module": "@jupyter-widgets/controls",
          "model_name": "HTMLModel",
          "model_module_version": "1.5.0",
          "state": {
            "_dom_classes": [],
            "_model_module": "@jupyter-widgets/controls",
            "_model_module_version": "1.5.0",
            "_model_name": "HTMLModel",
            "_view_count": null,
            "_view_module": "@jupyter-widgets/controls",
            "_view_module_version": "1.5.0",
            "_view_name": "HTMLView",
            "description": "",
            "description_tooltip": null,
            "layout": "IPY_MODEL_3611ed2ff7134380ab998c54cb3cb903",
            "placeholder": "​",
            "style": "IPY_MODEL_7530f793df804f65bef5a7e068a64d82",
            "value": " 440M/440M [00:04&lt;00:00, 98.2MB/s]"
          }
        },
        "530df4e0cc4d495cbcc657af73f6d714": {
          "model_module": "@jupyter-widgets/base",
          "model_name": "LayoutModel",
          "model_module_version": "1.2.0",
          "state": {
            "_model_module": "@jupyter-widgets/base",
            "_model_module_version": "1.2.0",
            "_model_name": "LayoutModel",
            "_view_count": null,
            "_view_module": "@jupyter-widgets/base",
            "_view_module_version": "1.2.0",
            "_view_name": "LayoutView",
            "align_content": null,
            "align_items": null,
            "align_self": null,
            "border": null,
            "bottom": null,
            "display": null,
            "flex": null,
            "flex_flow": null,
            "grid_area": null,
            "grid_auto_columns": null,
            "grid_auto_flow": null,
            "grid_auto_rows": null,
            "grid_column": null,
            "grid_gap": null,
            "grid_row": null,
            "grid_template_areas": null,
            "grid_template_columns": null,
            "grid_template_rows": null,
            "height": null,
            "justify_content": null,
            "justify_items": null,
            "left": null,
            "margin": null,
            "max_height": null,
            "max_width": null,
            "min_height": null,
            "min_width": null,
            "object_fit": null,
            "object_position": null,
            "order": null,
            "overflow": null,
            "overflow_x": null,
            "overflow_y": null,
            "padding": null,
            "right": null,
            "top": null,
            "visibility": null,
            "width": null
          }
        },
        "1821c757c7134cf48653a7b42837f7fd": {
          "model_module": "@jupyter-widgets/base",
          "model_name": "LayoutModel",
          "model_module_version": "1.2.0",
          "state": {
            "_model_module": "@jupyter-widgets/base",
            "_model_module_version": "1.2.0",
            "_model_name": "LayoutModel",
            "_view_count": null,
            "_view_module": "@jupyter-widgets/base",
            "_view_module_version": "1.2.0",
            "_view_name": "LayoutView",
            "align_content": null,
            "align_items": null,
            "align_self": null,
            "border": null,
            "bottom": null,
            "display": null,
            "flex": null,
            "flex_flow": null,
            "grid_area": null,
            "grid_auto_columns": null,
            "grid_auto_flow": null,
            "grid_auto_rows": null,
            "grid_column": null,
            "grid_gap": null,
            "grid_row": null,
            "grid_template_areas": null,
            "grid_template_columns": null,
            "grid_template_rows": null,
            "height": null,
            "justify_content": null,
            "justify_items": null,
            "left": null,
            "margin": null,
            "max_height": null,
            "max_width": null,
            "min_height": null,
            "min_width": null,
            "object_fit": null,
            "object_position": null,
            "order": null,
            "overflow": null,
            "overflow_x": null,
            "overflow_y": null,
            "padding": null,
            "right": null,
            "top": null,
            "visibility": null,
            "width": null
          }
        },
        "f20121a037fa425986c3d2ac85ed2155": {
          "model_module": "@jupyter-widgets/controls",
          "model_name": "DescriptionStyleModel",
          "model_module_version": "1.5.0",
          "state": {
            "_model_module": "@jupyter-widgets/controls",
            "_model_module_version": "1.5.0",
            "_model_name": "DescriptionStyleModel",
            "_view_count": null,
            "_view_module": "@jupyter-widgets/base",
            "_view_module_version": "1.2.0",
            "_view_name": "StyleView",
            "description_width": ""
          }
        },
        "ea5eba4ffbda49ef9fcf053e27248d96": {
          "model_module": "@jupyter-widgets/base",
          "model_name": "LayoutModel",
          "model_module_version": "1.2.0",
          "state": {
            "_model_module": "@jupyter-widgets/base",
            "_model_module_version": "1.2.0",
            "_model_name": "LayoutModel",
            "_view_count": null,
            "_view_module": "@jupyter-widgets/base",
            "_view_module_version": "1.2.0",
            "_view_name": "LayoutView",
            "align_content": null,
            "align_items": null,
            "align_self": null,
            "border": null,
            "bottom": null,
            "display": null,
            "flex": null,
            "flex_flow": null,
            "grid_area": null,
            "grid_auto_columns": null,
            "grid_auto_flow": null,
            "grid_auto_rows": null,
            "grid_column": null,
            "grid_gap": null,
            "grid_row": null,
            "grid_template_areas": null,
            "grid_template_columns": null,
            "grid_template_rows": null,
            "height": null,
            "justify_content": null,
            "justify_items": null,
            "left": null,
            "margin": null,
            "max_height": null,
            "max_width": null,
            "min_height": null,
            "min_width": null,
            "object_fit": null,
            "object_position": null,
            "order": null,
            "overflow": null,
            "overflow_x": null,
            "overflow_y": null,
            "padding": null,
            "right": null,
            "top": null,
            "visibility": null,
            "width": null
          }
        },
        "b4b02c38595442df92e6cd1ea6fc85de": {
          "model_module": "@jupyter-widgets/controls",
          "model_name": "ProgressStyleModel",
          "model_module_version": "1.5.0",
          "state": {
            "_model_module": "@jupyter-widgets/controls",
            "_model_module_version": "1.5.0",
            "_model_name": "ProgressStyleModel",
            "_view_count": null,
            "_view_module": "@jupyter-widgets/base",
            "_view_module_version": "1.2.0",
            "_view_name": "StyleView",
            "bar_color": null,
            "description_width": ""
          }
        },
        "3611ed2ff7134380ab998c54cb3cb903": {
          "model_module": "@jupyter-widgets/base",
          "model_name": "LayoutModel",
          "model_module_version": "1.2.0",
          "state": {
            "_model_module": "@jupyter-widgets/base",
            "_model_module_version": "1.2.0",
            "_model_name": "LayoutModel",
            "_view_count": null,
            "_view_module": "@jupyter-widgets/base",
            "_view_module_version": "1.2.0",
            "_view_name": "LayoutView",
            "align_content": null,
            "align_items": null,
            "align_self": null,
            "border": null,
            "bottom": null,
            "display": null,
            "flex": null,
            "flex_flow": null,
            "grid_area": null,
            "grid_auto_columns": null,
            "grid_auto_flow": null,
            "grid_auto_rows": null,
            "grid_column": null,
            "grid_gap": null,
            "grid_row": null,
            "grid_template_areas": null,
            "grid_template_columns": null,
            "grid_template_rows": null,
            "height": null,
            "justify_content": null,
            "justify_items": null,
            "left": null,
            "margin": null,
            "max_height": null,
            "max_width": null,
            "min_height": null,
            "min_width": null,
            "object_fit": null,
            "object_position": null,
            "order": null,
            "overflow": null,
            "overflow_x": null,
            "overflow_y": null,
            "padding": null,
            "right": null,
            "top": null,
            "visibility": null,
            "width": null
          }
        },
        "7530f793df804f65bef5a7e068a64d82": {
          "model_module": "@jupyter-widgets/controls",
          "model_name": "DescriptionStyleModel",
          "model_module_version": "1.5.0",
          "state": {
            "_model_module": "@jupyter-widgets/controls",
            "_model_module_version": "1.5.0",
            "_model_name": "DescriptionStyleModel",
            "_view_count": null,
            "_view_module": "@jupyter-widgets/base",
            "_view_module_version": "1.2.0",
            "_view_name": "StyleView",
            "description_width": ""
          }
        }
      }
    }
  },
  "nbformat": 4,
  "nbformat_minor": 0
}