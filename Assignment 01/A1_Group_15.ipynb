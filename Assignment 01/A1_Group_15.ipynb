{
  "cells": [
    {
      "cell_type": "markdown",
      "metadata": {
        "id": "e1I7_qy2rYZl"
      },
      "source": [
        "# Lab 1: Text Corpora and Language Modelling\n",
        "\n",
        "Welcome to the first lab assignment of INFOMNLP 2024.\n",
        "\n",
        "This lab is meant to help you get familiar with some language data, and use this data to estimate simple models called N-gram language models.\n",
        "\n",
        "First, you will use the **Penn Treebank**, which is a collection of newspaper articles from the newspaper\n",
        "The Wall Street Journal. The idea is to examine the data and notice interesting properties. This will not take more than a few lines of code. The Penn Treebank may be the most widely used corpus in NLP.\n",
        "\n",
        "Then you will use a corpus consisting of **TedX** talks. This you will use to estimate an **N-gram language model** for different orders of N, and use this for some tasks.\n",
        "\n",
        "The dataset URLs are in the notebook and certain cells are responsible to download them."
      ]
    },
    {
      "cell_type": "markdown",
      "metadata": {
        "id": "-T11u_DzP4K6"
      },
      "source": [
        "# Rules\n",
        "* The assignment should submitted to **Blackboard** as `.ipynb`. Only **one submission per group**.\n",
        "\n",
        "* The **filename** should be the group number, e.g., `01.ipynb` or `31.ipynb`.\n",
        "\n",
        "* The questions marked **Extra** or **Optional** are an additional challenge for those interested in going the extra mile. There are no points for them.\n",
        "\n",
        "**Rules for implementation**\n",
        "\n",
        "* You should **write your code and answers in this iPython Notebook**. (See http://ipython.org/notebook.html for reference material.) If you have problems, please contact your teaching assistant.\n",
        "\n",
        "* Use only **one cell for code** and **one cell for markdown** answers!    \n",
        "\n",
        "    * Put all code in the cell with the `## YOUR CODE HERE ##` comment.\n",
        "    * Provide brief comments on what the code does at crucial points.\n",
        "    * For theoretical questions, put your solution in the `█████ YOUR ANSWER HERE █████` cell and keep the header.\n",
        "\n",
        "* Don't change or delete any initially provided cells, either text or code, unless explicitly instructed to do so.\n",
        "* Don't delete the comment lines `#TEST...` or edit their code cells.\n",
        "* Don't change the names of provided functions and variables or arguments of the functions.\n",
        "* Leave the output of your code in the output cells.\n",
        "* **Don't output unnecessary info** (e.g., printing variables for debugging purposes) or **add extra code cells** (e.g., for mounting your google drive). This clutters the notebook and slows down the grading.\n",
        "* Test your code and **make sure we can run your notebook** in the colab environment.\n",
        "* Don't forget to fill in the contribution information.\n",
        "\n",
        "<font color=\"red\">You following these rules helps us to grade the submissions relatively efficiently. If these rules are violated, a submission will be subject to penalty points.</font>  "
      ]
    },
    {
      "cell_type": "markdown",
      "metadata": {
        "id": "nNT1WNEnlkBC"
      },
      "source": [
        "# <font color=\"red\">Contributions</font>\n",
        "\n",
        "\n",
        "* Jaffar Husain, Martino Fabiani, Justus Brands\n",
        "* Jaffar and Martino contributed the most due to circumstances which affected the contributions from Justus."
      ]
    },
    {
      "cell_type": "markdown",
      "metadata": {
        "id": "UXUCfBV-9l7-"
      },
      "source": [
        "# General instructions\n",
        "\n",
        "Before diving into the exercises, keep in mind that the variables defined previously can be reused in the subsequent cells. So there is no need to redefine the same variable in multiple sections, e.g., it is sufficient to read the file in a variable once and later reuse the value of the variable, instead of re-reading the file.   \n",
        "\n",
        "If your code is too long and using several code cells instead of a single code cell. Rethink how to organize data in variables that you can easily access required info. Reading about [list comprehension](https://realpython.com/list-comprehension-python/#leverage-list-comprehensions) can be useful.\n",
        "\n",
        "Your code will often be evaluated based on its behaviour. So, during the grading some code cells are executed. If code runtime is too long than expected, this will hinder grading.\n",
        "\n",
        "<font color=\"red\">**The cases similar to the above-mentioned ones, will be subject to penalty points.**</font>\n",
        "\n",
        "<font color=\"red\">**Pay attention to test units**</font> that are either provided as assert cases or as comments. Test units help you by giving you a hint about a correct answer. Note that **passing test units doesn't guarantee the full points** for an execise because test units are incomplete and the code might fail on other test units."
      ]
    },
    {
      "cell_type": "markdown",
      "metadata": {
        "id": "nQzq7NHLhHAf"
      },
      "source": [
        "# Set up"
      ]
    },
    {
      "cell_type": "code",
      "execution_count": 2,
      "metadata": {
        "id": "L7pnku7cvBpp"
      },
      "outputs": [],
      "source": [
        "%matplotlib inline\n",
        "import matplotlib\n",
        "import numpy as np\n",
        "import random\n",
        "import pandas as pd\n",
        "import seaborn as sns\n",
        "import matplotlib.pyplot as plt\n",
        "from collections import defaultdict, Counter\n",
        "import itertools\n",
        "from operator import itemgetter"
      ]
    },
    {
      "cell_type": "code",
      "execution_count": 20,
      "metadata": {
        "id": "BlFpCuMjgtPj"
      },
      "outputs": [
        {
          "name": "stderr",
          "output_type": "stream",
          "text": [
            "\"rm\" non � riconosciuto come comando interno o esterno,\n",
            " un programma eseguibile o un file batch.\n"
          ]
        },
        {
          "name": "stderr",
          "output_type": "stream",
          "text": [
            "\"wget\" non � riconosciuto come comando interno o esterno,\n",
            " un programma eseguibile o un file batch.\n",
            "\"wget\" non � riconosciuto come comando interno o esterno,\n",
            " un programma eseguibile o un file batch.\n",
            "\"wget\" non � riconosciuto come comando interno o esterno,\n",
            " un programma eseguibile o un file batch.\n",
            "\"wget\" non � riconosciuto come comando interno o esterno,\n",
            " un programma eseguibile o un file batch.\n"
          ]
        }
      ],
      "source": [
        "! rm -rf data # remove if it was downloaded\n",
        "! wget -nv -P data https://naturallogic.pro/_files_/download/mNLP/PTB/sec02-21.gold.tagged # download the file\n",
        "! wget -nv -P data https://naturallogic.pro/_files_/download/mNLP/PTB/sec00.gold.tagged\n",
        "! wget -nv -P data https://naturallogic.pro/_files_/download/mNLP/TED/ted-train.txt\n",
        "! wget -nv -P data https://naturallogic.pro/_files_/download/mNLP/TED/ted-test.txt"
      ]
    },
    {
      "cell_type": "markdown",
      "metadata": {
        "id": "2xIJozz2Z7VE"
      },
      "source": [
        "# Golab variables"
      ]
    },
    {
      "cell_type": "code",
      "execution_count": 3,
      "metadata": {
        "id": "8SW7DNhHZ_ay"
      },
      "outputs": [],
      "source": [
        "PTB_FILES = {'train': 'data/sec02-21.gold.tagged', 'dev': 'data/sec00.gold.tagged'}\n",
        "TED_FILES = {'train': 'data/ted-train.txt', 'test': 'data/ted-test.txt'}"
      ]
    },
    {
      "cell_type": "markdown",
      "metadata": {
        "id": "HYUkG7TKsAAi"
      },
      "source": [
        "# 1. Penn treebank"
      ]
    },
    {
      "cell_type": "markdown",
      "metadata": {
        "id": "flkRSFQtrYZo"
      },
      "source": [
        "## Ex 1.1 [25pt]\n",
        "\n",
        "You are provided with a corpus containing tokens with their Part-of-Speech tags (POS-tags for short). The format is\n",
        "**token|POS** (one sentence per line) and the file name is **sec02-21.gold.tagged**. This data is extracted from Sections 02-21 from the Penn Treebank: these sections are most commonly used for training statistical models like POS taggers and parsers.\n",
        "\n",
        "Note the **distinction between token & word**. \"Token\" is a technical term and represents an occurrence of a word. Here, \"word\" covers both lexical words and other symbols (e.g., punctuations or numbers). Often \"word\" is called \"token type\". So, one can say that a token type can have different occurrences and each occurrence is a token.\n",
        "\n",
        "**[Hint]** **Figure 8.2** in chapter 8 of Jurafsky and Martin (see [here](https://web.stanford.edu/~jurafsky/slp3/8.pdf#page=4)) holds a summary of POS-tags used in the Penn Treebank tagset together with their meaning and some examples.\n",
        "\n",
        "**[Hint]** The Python library [collections](https://docs.python.org/3.7/library/collections.html) has an object called `Counter` which will come in handy for this exercise."
      ]
    },
    {
      "cell_type": "markdown",
      "metadata": {
        "id": "L_md_iporYZs"
      },
      "source": [
        "### (a) Corpus & vocab [5pt]\n",
        "\n",
        "**Print** the corpus size (i.e. the number of **tokens**).  \n",
        "**Print** the size of the **vocabulary** of the corpus. Estimate the vocabulary size both by **lowercasing** all the tokens as well as by leaving the tokens in their **original orthography**.  \n",
        "\n",
        "What is the **advantage** of lowercasing all the tokens in your corpus?  \n",
        "What is a notable **downside**?  \n",
        "**Give examples** of the advantage and the downside."
      ]
    },
    {
      "cell_type": "code",
      "execution_count": 4,
      "metadata": {
        "id": "jxrgbpkdvBpy"
      },
      "outputs": [
        {
          "name": "stdout",
          "output_type": "stream",
          "text": [
            "the total number of tokens is:  929552\n",
            "the number of unique tokens is:  44210\n",
            "the number of unique lower-case tokens is:  39384\n",
            "the number of uniqe tags is:  48\n"
          ]
        }
      ],
      "source": [
        "## YOUR CODE HERE ##\n",
        "# Use PTB_FILES golab var\n",
        "\n",
        "r = open(PTB_FILES['train'], 'r').readlines()\n",
        "df = pd.DataFrame(r)\n",
        "\n",
        "tokenPos_list = df[0].tolist() #convert to a list and re-organize the data\n",
        "s = \" \"\n",
        "s = s.join(tokenPos_list)\n",
        "s = s.split()\n",
        "df = pd.DataFrame(s) #this dataframe has the exact number of tokens/tags each in its own row\n",
        "\n",
        "df.rename(columns={0: \"tokens|tags\"}, inplace=True)\n",
        "df[\"[token, tags]\"] = df['tokens|tags'].str.split(\"|\")\n",
        "\n",
        "df[[\"tokens\", \"tags\"]] = df['tokens|tags'].str.split(\"|\", expand=True)\n",
        "df[\"lower-cased tokens\"] = df[\"tokens\"].str.lower()\n",
        "df['unique_tag_id'] = df.groupby(['tags']).ngroup()\n",
        "\n",
        "unique_tags = df['tags'].unique() #according to the book, there should only be 36 tags.\n",
        "\n",
        "print(\"the total number of tokens is: \", df['tokens'].size)\n",
        "\n",
        "## we noticed that the corpus has 48 tags while the book shows only 36. The below provides the option to delete the extra tags.\n",
        "\n",
        "#df = df[(df.tags != \".\") & (df.tags != \",\") & (df.tags != \";\") & (df.tags != \":\") & (df.tags != \"$\")]\n",
        "#df = df[(df.tags != \"#\") & (df.tags != \"LRB\") & (df.tags != \"RRB\") & (df.tags != \"SO\") & (df.tags != \"AS\")]\n",
        "#df = df[(df.tags != \"SBAR\") & (df.tags != \"NP\")]\n",
        "\n",
        "df.reset_index(drop=True, inplace=True)\n",
        "\n",
        "print(\"the number of unique tokens is: \", df['tokens'].nunique())\n",
        "print(\"the number of unique lower-case tokens is: \", df['lower-cased tokens'].nunique())\n",
        "print(\"the number of uniqe tags is: \", df['tags'].nunique()) #the book shows 36 tags, but the dataset has 48!\n",
        "\n",
        "\n",
        "# TEST: original orthography vocab size = ...10 (i.e., the last two digits of the vocab size are \"10\")"
      ]
    },
    {
      "cell_type": "code",
      "execution_count": 5,
      "metadata": {},
      "outputs": [
        {
          "data": {
            "text/html": [
              "<div>\n",
              "<style scoped>\n",
              "    .dataframe tbody tr th:only-of-type {\n",
              "        vertical-align: middle;\n",
              "    }\n",
              "\n",
              "    .dataframe tbody tr th {\n",
              "        vertical-align: top;\n",
              "    }\n",
              "\n",
              "    .dataframe thead th {\n",
              "        text-align: right;\n",
              "    }\n",
              "</style>\n",
              "<table border=\"1\" class=\"dataframe\">\n",
              "  <thead>\n",
              "    <tr style=\"text-align: right;\">\n",
              "      <th></th>\n",
              "      <th>tokens|tags</th>\n",
              "      <th>[token, tags]</th>\n",
              "      <th>tokens</th>\n",
              "      <th>tags</th>\n",
              "      <th>lower-cased tokens</th>\n",
              "      <th>unique_tag_id</th>\n",
              "    </tr>\n",
              "  </thead>\n",
              "  <tbody>\n",
              "    <tr>\n",
              "      <th>0</th>\n",
              "      <td>In|IN</td>\n",
              "      <td>[In, IN]</td>\n",
              "      <td>In</td>\n",
              "      <td>IN</td>\n",
              "      <td>in</td>\n",
              "      <td>12</td>\n",
              "    </tr>\n",
              "    <tr>\n",
              "      <th>1</th>\n",
              "      <td>an|DT</td>\n",
              "      <td>[an, DT]</td>\n",
              "      <td>an</td>\n",
              "      <td>DT</td>\n",
              "      <td>an</td>\n",
              "      <td>9</td>\n",
              "    </tr>\n",
              "    <tr>\n",
              "      <th>2</th>\n",
              "      <td>Oct.|NNP</td>\n",
              "      <td>[Oct., NNP]</td>\n",
              "      <td>Oct.</td>\n",
              "      <td>NNP</td>\n",
              "      <td>oct.</td>\n",
              "      <td>20</td>\n",
              "    </tr>\n",
              "    <tr>\n",
              "      <th>3</th>\n",
              "      <td>19|CD</td>\n",
              "      <td>[19, CD]</td>\n",
              "      <td>19</td>\n",
              "      <td>CD</td>\n",
              "      <td>19</td>\n",
              "      <td>8</td>\n",
              "    </tr>\n",
              "    <tr>\n",
              "      <th>4</th>\n",
              "      <td>review|NN</td>\n",
              "      <td>[review, NN]</td>\n",
              "      <td>review</td>\n",
              "      <td>NN</td>\n",
              "      <td>review</td>\n",
              "      <td>19</td>\n",
              "    </tr>\n",
              "    <tr>\n",
              "      <th>...</th>\n",
              "      <td>...</td>\n",
              "      <td>...</td>\n",
              "      <td>...</td>\n",
              "      <td>...</td>\n",
              "      <td>...</td>\n",
              "      <td>...</td>\n",
              "    </tr>\n",
              "    <tr>\n",
              "      <th>929547</th>\n",
              "      <td>join|VB</td>\n",
              "      <td>[join, VB]</td>\n",
              "      <td>join</td>\n",
              "      <td>VB</td>\n",
              "      <td>join</td>\n",
              "      <td>38</td>\n",
              "    </tr>\n",
              "    <tr>\n",
              "      <th>929548</th>\n",
              "      <td>the|DT</td>\n",
              "      <td>[the, DT]</td>\n",
              "      <td>the</td>\n",
              "      <td>DT</td>\n",
              "      <td>the</td>\n",
              "      <td>9</td>\n",
              "    </tr>\n",
              "    <tr>\n",
              "      <th>929549</th>\n",
              "      <td>winning|VBG</td>\n",
              "      <td>[winning, VBG]</td>\n",
              "      <td>winning</td>\n",
              "      <td>VBG</td>\n",
              "      <td>winning</td>\n",
              "      <td>40</td>\n",
              "    </tr>\n",
              "    <tr>\n",
              "      <th>929550</th>\n",
              "      <td>bidder|NN</td>\n",
              "      <td>[bidder, NN]</td>\n",
              "      <td>bidder</td>\n",
              "      <td>NN</td>\n",
              "      <td>bidder</td>\n",
              "      <td>19</td>\n",
              "    </tr>\n",
              "    <tr>\n",
              "      <th>929551</th>\n",
              "      <td>.|.</td>\n",
              "      <td>[., .]</td>\n",
              "      <td>.</td>\n",
              "      <td>.</td>\n",
              "      <td>.</td>\n",
              "      <td>3</td>\n",
              "    </tr>\n",
              "  </tbody>\n",
              "</table>\n",
              "<p>929552 rows × 6 columns</p>\n",
              "</div>"
            ],
            "text/plain": [
              "        tokens|tags   [token, tags]   tokens tags lower-cased tokens  \\\n",
              "0             In|IN        [In, IN]       In   IN                 in   \n",
              "1             an|DT        [an, DT]       an   DT                 an   \n",
              "2          Oct.|NNP     [Oct., NNP]     Oct.  NNP               oct.   \n",
              "3             19|CD        [19, CD]       19   CD                 19   \n",
              "4         review|NN    [review, NN]   review   NN             review   \n",
              "...             ...             ...      ...  ...                ...   \n",
              "929547      join|VB      [join, VB]     join   VB               join   \n",
              "929548       the|DT       [the, DT]      the   DT                the   \n",
              "929549  winning|VBG  [winning, VBG]  winning  VBG            winning   \n",
              "929550    bidder|NN    [bidder, NN]   bidder   NN             bidder   \n",
              "929551          .|.          [., .]        .    .                  .   \n",
              "\n",
              "        unique_tag_id  \n",
              "0                  12  \n",
              "1                   9  \n",
              "2                  20  \n",
              "3                   8  \n",
              "4                  19  \n",
              "...               ...  \n",
              "929547             38  \n",
              "929548              9  \n",
              "929549             40  \n",
              "929550             19  \n",
              "929551              3  \n",
              "\n",
              "[929552 rows x 6 columns]"
            ]
          },
          "execution_count": 5,
          "metadata": {},
          "output_type": "execute_result"
        }
      ],
      "source": [
        "#display the dataframe with the original data and the full breakdown from the above code block\n",
        "df"
      ]
    },
    {
      "cell_type": "markdown",
      "metadata": {
        "id": "G4F1hlWNvBpz"
      },
      "source": [
        "█████ YOUR ANSWER HERE █████\n",
        "\n",
        "Advantages : The advantage of lowercasing all tokens is that it reduces vocabulary size by collapsing different cases of the same word into one entry to esure consistency in the results.\n",
        "Ex: \"Case\" and \"case\" will be redd as one word\n",
        "\n",
        "Disadvantages: A notable downside is the loss of information about proper nouns and acronyms\n",
        "Ex: \"emotions of a person are usally written in upper cases to shw frustration\" "
      ]
    },
    {
      "cell_type": "markdown",
      "metadata": {
        "id": "Wn1cBwu4vBp0"
      },
      "source": [
        "------\n",
        "**For the rest of this exercise <font color=\"red\">you should use the original orthography</font> of the data when answering the questions.**\n",
        "\n",
        "------"
      ]
    },
    {
      "cell_type": "code",
      "execution_count": 6,
      "metadata": {},
      "outputs": [],
      "source": [
        "def to_tags(num): #this function is used to relate tags to numbers for graphing purposes\n",
        "  r = np.array([ [0,'#'], [1,'$'], [2,','], [3,'.'],\n",
        "              [4, ':'], [5, ';'], [6, 'AS'], [7, 'CC'], [8, 'CD'],\n",
        "               [9,'DT'], [10,'EX'], [11,'FW'], [12,'IN'], [13,'JJ'], [14,'JJR'],\n",
        "                 [15,'JJS'], [16,'LRB'], [17,'LS'], [18,'MD'], [19,'NN'], [20,'NNP'],\n",
        "                 [21,'NNPS'], [22,'NNS'], [23,'SBAR'], [24,'PDT'], [25,'POS'], [26,'PRP'],\n",
        "                 [27,'PRP$'], [28,'RB'], [29,'RBR'], [30,'RBS'], [31,'RP'], [32,'RRB'],\n",
        "                 [33,'NP'], [34,'SO'], [35,'SYM'], [36,'TO'], [37,'UH'], [38,'VB'],\n",
        "                 [39,'VBD'], [40,'VBG'], [41,'VBN'], [42,'VBP'], [43,'VBZ'], [44,'WDT'],\n",
        "                 [45,'WP'], [46,'WP$'], [47,'WRB']])\n",
        "  return r[num][1]"
      ]
    },
    {
      "cell_type": "markdown",
      "metadata": {
        "id": "1D1kQ1N_vBp1"
      },
      "source": [
        "### [Extra]\n",
        "\n",
        "Plot a graph of word frequency versus rank of a word, in this corpus. Does this corpus obey **Zipf’s law**? For a better picture you might need to make the plot horizontally wide or consider an initial cutoff of ranked words."
      ]
    },
    {
      "cell_type": "code",
      "execution_count": 7,
      "metadata": {
        "id": "2A_By8MRvBp2",
        "scrolled": true
      },
      "outputs": [
        {
          "data": {
            "image/png": "[encoded data removed]",
            "text/plain": [
              "<Figure size 2000x1300 with 1 Axes>"
            ]
          },
          "metadata": {},
          "output_type": "display_data"
        }
      ],
      "source": [
        "## YOUR CODE HERE ##\n",
        "def produce_token_zipfs_analysis(df):\n",
        "  plt.figure(figsize=(20,13))\n",
        "\n",
        "  c_tokens = Counter(df[\"tokens\"])\n",
        "  dic = c_tokens.most_common(40) #we output the most frequent 50 tokens\n",
        "  token_placeholder = [placeholder[0] for placeholder in dic]\n",
        "  token_frequency = [tokens[1]/df['tokens'].size for tokens in dic]\n",
        "\n",
        "  plt.bar(token_placeholder, token_frequency)\n",
        "\n",
        "  return\n",
        "\n",
        "dic = produce_token_zipfs_analysis(df)\n",
        "dic"
      ]
    },
    {
      "cell_type": "markdown",
      "metadata": {
        "id": "4IKxQutFd-VM"
      },
      "source": [
        "█████ YOUR ANSWER HERE █████"
      ]
    },
    {
      "cell_type": "markdown",
      "metadata": {
        "id": "r1ZeD-QRwVvC"
      },
      "source": [
        "### (b) Tags & tokens [5pt]\n",
        "\n",
        "**Print** a list of the **10 most commonly occurring POS tags** in the data. For each of these POS tags, additionally **print** the **3 most common token types** (i.e., words) that belong to that tag. Print raw counts for each printed tag and token type.\n"
      ]
    },
    {
      "cell_type": "code",
      "execution_count": 8,
      "metadata": {
        "id": "LjWaeRNmvBp5"
      },
      "outputs": [
        {
          "name": "stdout",
          "output_type": "stream",
          "text": [
            "NN (132134): %(4866); company(2457); year(2220)\n",
            "IN (99413): of(22778); in(14852); for(7907)\n",
            "NNP (90711): Mr.(4147); U.S.(1577); Corp.(1186)\n",
            "DT (82147): the(40831); a(19151); The(6753)\n",
            "JJ (59643): new(1396); other(1298); last(990)\n",
            "NNS (59332): years(1164); shares(1128); sales(939)\n",
            ", (48314): ,(48310); an(1); 2(1)\n",
            ". (39252): .(38798); ?(392); !(62)\n",
            "CD (36148): million(4355); billion(1780); one(1203)\n",
            "RB (30232): n't(3211); also(1420); not(1287)\n"
          ]
        }
      ],
      "source": [
        "## YOUR CODE HERE ##\n",
        "\n",
        "def produce_POStags_dict(df):\n",
        "  tag_count = Counter(df[\"tags\"])\n",
        "  dic_tags = tag_count.most_common(10)\n",
        "\n",
        "  h_tags = [tags[0] for tags in dic_tags]\n",
        "  v_tags = [tags[1] for tags in dic_tags]\n",
        "\n",
        "  for each in dic_tags:\n",
        "    associated_tokens = []\n",
        "    for item in df['[token, tags]']:\n",
        "      if each[0] == item[1]:\n",
        "        associated_tokens.append(item[0])\n",
        "    c_tokens = Counter(associated_tokens).most_common(3)\n",
        "    print(\"{} ({}): {}({}); {}({}); {}({})\".format(each[0], each[1],\n",
        "                                               c_tokens[0][0],c_tokens[0][1],\n",
        "                                               c_tokens[1][0],c_tokens[1][1],\n",
        "                                               c_tokens[2][0],c_tokens[2][1]))\n",
        "  return\n",
        "\n",
        "tags = produce_POStags_dict(df)\n",
        "\n",
        "# Use the following printing format and test your numbers for the DT pos tag:\n",
        "# DT (82147):\tthe(40831); a(19151); The(6753)"
      ]
    },
    {
      "cell_type": "markdown",
      "metadata": {
        "id": "sPTQVzwvvBp6"
      },
      "source": [
        "### (c) Ambiguity [7pt]\n",
        "\n",
        "A single token type (i.e. word) may occur with several POS tags. For example, *record* can be both a **noun** *(buy a record)* or a **verb** *(record a lecture)*. This makes POS tags extremely useful for **disambiguation**.\n",
        "\n",
        "**Print** the percentage(!) of the **ambiguous** words in the vocabulary(!) (i.e. token types that have more than one POS tag?).  \n",
        "\n",
        "Ambiguous words do not account for a great percentage of the vocabulary. Yet they are among the most commonly occurring words in the English language.  \n",
        "**Print** the percentage of the dataset that is ambiguous (i.e., counting tokens of ambiguous token types/words wrt data size).  \n",
        "(Don't round percentages when printing)\n",
        "\n",
        "**Print** the **10 most frequently shared POS tag pairs** (i.e. POS tag pairs that share most words).  \n",
        "**Print** the **4 most ambiguous** words (i.e. based on the number of POS tags it can get)"
      ]
    },
    {
      "cell_type": "code",
      "execution_count": 9,
      "metadata": {
        "id": "8qNODIAcvBp6",
        "scrolled": true
      },
      "outputs": [
        {
          "name": "stdout",
          "output_type": "stream",
          "text": [
            "the number of unique words occuring with different POS is:  5955\n",
            "the total vocabulary in the dataset is:  44210\n",
            "percentage of the ambiguous words in the vocabulary is:  13.469803211942999\n",
            "/\n",
            "the total number of ambiguous words occuring with different POS is:  9302\n",
            "the total corpus size:  929552\n",
            "the percentage of the dataset that is ambiguous is:  1.00069711000568\n",
            "/\n",
            "Top 10 confused tag pairs:\n",
            "('VBN', 'VBD') share 1060 tokens\n",
            "('NN', 'JJ') share 962 tokens\n",
            "('NN', 'VB') share 775 tokens\n",
            "('VBP', 'VB') share 752 tokens\n",
            "('NNP', 'NN') share 627 tokens\n",
            "('VBN', 'JJ') share 456 tokens\n",
            "('NN', 'VBP') share 403 tokens\n",
            "('NN', 'VBG') share 378 tokens\n",
            "('NNS', 'VBZ') share 364 tokens\n",
            "('NNP', 'JJ') share 297 tokens\n",
            "/\n",
            "Top Top 4 ambiguous tokens:: [('down', 21), ('many', 21), ('set', 21), ('open', 21)]\n"
          ]
        }
      ],
      "source": [
        "## YOUR CODE HERE ##\n",
        "# TEST: There are 1060 token types whose tokens get both ('VBD', 'VBN') tags\n",
        "# TEST: in other tokens, a set of tokens with VBD and a set of tokens with VBN share 1060 elements\n",
        "\n",
        "#the code takes about 4 minutes to run\n",
        "\n",
        "def pd_dataframe(df, c):\n",
        "  a_tokens = []\n",
        "  data = {}\n",
        "  for d in df['[token, tags]']:\n",
        "      if c == d[1]:\n",
        "        a_tokens.append(d[0])\n",
        "        data = {c: a_tokens}\n",
        "  return data\n",
        "\n",
        "df_n = pd.DataFrame()\n",
        "for c in range(48):\n",
        "  r = pd_dataframe(df, to_tags(c))\n",
        "  x = pd.DataFrame(r)\n",
        "  df_n = pd.concat([df_n, x], axis=1)\n",
        "  df_n.reset_index(drop=True, inplace=True)\n",
        "\n",
        "pairs = list(itertools.combinations(unique_tags, 2))\n",
        "d = [[]]\n",
        "x = []\n",
        "y = [[]]\n",
        "\n",
        "for pair in pairs:\n",
        "  df_r = df_n[pair[0]].unique()\n",
        "  df_x = df_n[pair[1]].unique()\n",
        "  id = pair[1]\n",
        "  c = []\n",
        "  for item in df_r:\n",
        "    for each in df_x:\n",
        "      if each == item:\n",
        "        c.append(each)\n",
        "        x.append(each)\n",
        "        y.append([each, id])\n",
        "\n",
        "  d.append([pair, len(np.unique(c))])\n",
        "\n",
        "new_d = d\n",
        "del new_d[0]\n",
        "new_d = sorted(new_d, key=lambda x: x[1], reverse=True)\n",
        "\n",
        "u = y\n",
        "del u[0]\n",
        "\n",
        "r_word = [i[0] for i in u]\n",
        "r_tag = [i[1] for i in u]\n",
        "\n",
        "u = pd.DataFrame(u)\n",
        "c = Counter(u[0])\n",
        "c = c.most_common(4)\n",
        "\n",
        "print(\"the number of unique words occuring with different POS is: \", len(np.unique(x)))\n",
        "print(\"the total vocabulary in the dataset is: \", df['tokens'].nunique())\n",
        "print(\"percentage of the ambiguous words in the vocabulary is: \", len(np.unique(x))/df['tokens'].nunique() * 100)\n",
        "print(\"/\")\n",
        "print(\"the total number of ambiguous words occuring with different POS is: \", len(x))\n",
        "print(\"the total corpus size: \", df[\"tokens\"].size)\n",
        "print(\"the percentage of the dataset that is ambiguous is: \", len(x)/df['tokens'].size * 100)\n",
        "print(\"/\")\n",
        "print(\"Top 10 confused tag pairs:\")\n",
        "for items in new_d[0:10]:\n",
        "  print(\"{} share {} tokens\".format(items[0], items[1]))\n",
        "print(\"/\")\n",
        "print(\"Top Top 4 ambiguous tokens::\", c)\n",
        "\n",
        "# print in the following way:\n",
        "# Print ambiguous tokens and tag pairs as, where tags are ordered alphabetically:\n",
        "# Top 10 confused tag pairs:\n",
        "#\t('VBD', 'VBN') share 1060 tokens\n",
        "#   ...\n",
        "#\n",
        "# Top 4 ambiguous tokens:\n",
        "# \ttoken: [POS_1, ..., POS_n]\n",
        "#   ..."
      ]
    },
    {
      "cell_type": "markdown",
      "metadata": {
        "id": "AODJl38yvBp7"
      },
      "source": [
        "### (d) Explain [8pt]\n",
        "\n",
        "**Take one** of the 4 most ambiguous tokens and for **each** of its possible POS tags **give** a sentence/phrase from the **training data** that shows the use of the token with its POS tag.  \n",
        "For the other **three** tokens, **discuss ** the POS tag that is least likely in the training data for the corresponding token.      \n",
        "Consult [Figure 8.2](https://web.stanford.edu/~jurafsky/slp3/8.pdf#page=4) for the interpretation of the POS tags. If you would like a more detailed explanation of the POS tags, consult [this technical report](http://www.cs.cmu.edu/afs/cs/Web/People/dgovinda/pdf/semantics/tagguide.pdf). Of course, you don't need to read it entirely, just use it to search for certain POS tags in it."
      ]
    },
    {
      "cell_type": "markdown",
      "metadata": {
        "id": "c18r5YJM7xDG"
      },
      "source": [
        "█████ YOUR ANSWER HERE █████\n",
        "\n",
        "Token: open\n",
        "'JJ': the open mindset keeps things interesting.\n",
        "'NN': I saw sheep in the open.\n",
        "'RB': we discuss all issues openly.\n",
        "'RP': let’s keep the door open.\n",
        "'VB': could you please open the door?\n",
        "'VBP': it’s best to open with “this is going to be great!”.\n",
        "'VBZ': use the key to open the door! It’s simple.\n",
        "The token “many” cannot be used as a verb and thus cannot be associated with such tags\n",
        "The token “down” wouldn’t normally be classified as RP since it’s not usually used as a modifier.\n",
        "Similarly, the token “set” wouldn’t normally be classified as RP since it’s usually used as a modifier."
      ]
    },
    {
      "cell_type": "markdown",
      "metadata": {
        "id": "s9fwBwWBrYZ3"
      },
      "source": [
        "## Ex 1.2 [7pt]\n",
        "\n",
        "You are also provided with another file called **sec00.gold.tagged**.\n",
        "Section 00 of the Penn Treebank is typically used as development data."
      ]
    },
    {
      "cell_type": "markdown",
      "metadata": {
        "id": "j1GVBPzvvBp9"
      },
      "source": [
        "### (a) Unseen % [5pt]\n",
        "\n",
        "**Print** the percentages of the **unseen development vocabulary** and **unseen development data** (i.e., token types and tokens that occur in the development data but not in the training data). Percentages should be calculated wrt the development vocabulary/data size and they shouldn't be rounded."
      ]
    },
    {
      "cell_type": "code",
      "execution_count": 10,
      "metadata": {
        "id": "o7Fjx4q9vBp9",
        "scrolled": false
      },
      "outputs": [
        {
          "name": "stdout",
          "output_type": "stream",
          "text": [
            "The percentage of the vocabulary that is unseen is:  16.34932724041635\n",
            "The percentage of the data that is unseen is:  2.835630311302893\n"
          ]
        }
      ],
      "source": [
        "## YOUR CODE HERE ##\n",
        "# Use PTB_FILES global var\n",
        "r = open(PTB_FILES['dev'], 'r').readlines()\n",
        "df_dev = pd.DataFrame(r)\n",
        "\n",
        "tokenPos_list = df_dev[0].tolist() #convert to a list and re-organize the data\n",
        "s = \" \"\n",
        "s = s.join(tokenPos_list)\n",
        "s = s.split()\n",
        "df_dev = pd.DataFrame(s) #this dataframe has the exact number of tokens/tags each in its own row\n",
        "\n",
        "df_dev.rename(columns={0: \"tokens|tags\"}, inplace=True)\n",
        "df_dev[\"[token, tags]\"] = df_dev['tokens|tags'].str.split(\"|\")\n",
        "\n",
        "df_dev[[\"tokens\", \"tags\"]] = df_dev['tokens|tags'].str.split(\"|\", expand=True)\n",
        "df_dev[\"lower-cased tokens\"] = df_dev[\"tokens\"].str.lower()\n",
        "df_dev['unique_tag_id'] = df_dev.groupby(['tags']).ngroup()\n",
        "\n",
        "line = df_dev[\"tokens\"].unique()\n",
        "line_2 = df[\"tokens\"].unique()\n",
        "line = line.tolist()\n",
        "line_2= line_2.tolist()\n",
        "\n",
        "def intersection(lst1, lst2):\n",
        "    temp = set(lst2)\n",
        "    lst3 = [value for value in lst1 if value in temp]\n",
        "    return lst3\n",
        "compare = intersection(line, line_2)\n",
        "len(compare)\n",
        "\n",
        "print(\"The percentage of the vocabulary that is unseen is: \", (df_dev[\"tokens\"].nunique() - len(compare) )/df_dev[\"tokens\"].nunique() * 100)\n",
        "print(\"The percentage of the data that is unseen is: \", (df_dev[\"tokens\"].nunique() - len(compare) )/df_dev[\"tokens\"].size * 100)\n",
        "# TEST: Difference between the percentages is in the interval 11-14%"
      ]
    },
    {
      "cell_type": "markdown",
      "metadata": {
        "id": "sWXDWzuxvBp-"
      },
      "source": [
        "### (b) Unseen tok tag [2pt]\n",
        "\n",
        "**Print** the top **five** POS tags that the most **unseen tokens** belong to."
      ]
    },
    {
      "cell_type": "code",
      "execution_count": 27,
      "metadata": {
        "id": "VgbUb8nHvBp-",
        "scrolled": true
      },
      "outputs": [],
      "source": [
        "## YOUR CODE HERE ##\n",
        "# Print in the following format:\n",
        "# POS_tag (the_number_of_corresponding_unseen_tokens)"
      ]
    },
    {
      "cell_type": "markdown",
      "metadata": {
        "id": "6cbdG9BsdRdh"
      },
      "source": [
        "# 2. Language Models"
      ]
    },
    {
      "cell_type": "markdown",
      "metadata": {
        "id": "jECmv9_BvBp-"
      },
      "source": [
        "\n",
        "\n",
        "The following questions presuppose J&M's [chapter 3 on n-gram language models](https://web.stanford.edu/~jurafsky/slp3/3.pdf).\n",
        "\n",
        "Models that assign **probabilities** to **sequences of words** are called **language\n",
        "models** or **LMs**. The simplest model that assigns probabilities to sentences and sequences of words is the **N-gram** model.\n",
        "\n",
        "Recall that an *N*-gram language model uses **conditional probabilities** of the form\n",
        "    \n",
        "$$P(w_k \\mid w_{k-N+1} \\dots w_{k-1})$$\n",
        "\n",
        "to **approximate** the full **joint probability**\n",
        "\n",
        "$$P(w_1 \\dots w_n)$$\n",
        "\n",
        "of a sequence of words $w_1 \\dots w_n$.\n",
        "\n",
        "The easiest way of obtaining estimates for the probabilities $P(w_k \\mid w_{k-N+1} \\dots w_{k-1})$ is to use the **maximum likelihood estimate** or **MLE**, a widely used statistical estimation method ([read more](https://en.wikipedia.org/wiki/Maximum_likelihood_estimation)). You count and normalize:\n",
        "\n",
        "$$P_{MLE}(w_k \\mid w_{k-N+1} \\dots w_{k-1}) = \\frac{C(w_{k-N+1} \\dots w_{k-1} w_k)}{C(w_{k-N+1} \\dots w_{k-1})}.$$"
      ]
    },
    {
      "cell_type": "markdown",
      "metadata": {
        "id": "zJJRUQLpQIYN"
      },
      "source": [
        "## Ex 2.1 [25pt]\n",
        "\n",
        "In this exercise you will have to train $N$-gram language models with an optional smoothing."
      ]
    },
    {
      "cell_type": "markdown",
      "metadata": {
        "id": "Em9s4OTHfYda"
      },
      "source": [
        "#### Some help\n",
        "\n",
        "The `collections` library has another useful data structure: the `defaultdict`. Some example uses (learn more [here](https://realpython.com/python-defaultdict/) if needed):"
      ]
    },
    {
      "cell_type": "markdown",
      "metadata": {
        "id": "Uy6bNZpedd4a"
      },
      "source": [
        "**[Datastructure hint]** If you store the smoothed language in a naive manner (that is, to store *all* the numbers separately) your datastructure will get huge! If $V$ is the vocabulary then the smoothed bigram model assigns probabilities to $|V|^2$ entries. If $|V|$ is around 80k, the naive way requires you to store more than 64 billion floats. Yet almost all of these are actually just $P(w_n|w_{n-1}) = \\frac{k}{N + k|V|}$, with $k$ the value with which you smooth and $N=C(w_{n-1})$. Think about how you use this fact to make your model work in practice."
      ]
    },
    {
      "cell_type": "code",
      "execution_count": 5,
      "metadata": {
        "id": "NEzYDa-GvBp_"
      },
      "outputs": [
        {
          "data": {
            "text/plain": [
              "0.0"
            ]
          },
          "execution_count": 5,
          "metadata": {},
          "output_type": "execute_result"
        }
      ],
      "source": [
        "from collections import defaultdict\n",
        "\n",
        "d = defaultdict(float)\n",
        "d[\"new key\"]"
      ]
    },
    {
      "cell_type": "markdown",
      "metadata": {
        "id": "80cGhiN7vBp_"
      },
      "source": [
        "Compare that to an ordinary dictionary:"
      ]
    },
    {
      "cell_type": "code",
      "execution_count": 29,
      "metadata": {
        "id": "hwPC-F7VvBqA"
      },
      "outputs": [],
      "source": [
        "# d = dict()\n",
        "# d[\"new key\"]\n",
        "# Throws an KeyError: 'new key'"
      ]
    },
    {
      "cell_type": "markdown",
      "metadata": {
        "id": "XhC9fVSBvBqA"
      },
      "source": [
        "Other datatypes as `default_factory`:"
      ]
    },
    {
      "cell_type": "code",
      "execution_count": 30,
      "metadata": {
        "id": "ANtXMfCDvBqB"
      },
      "outputs": [
        {
          "name": "stdout",
          "output_type": "stream",
          "text": [
            "defaultdict(<class 'int'>, {})\n",
            "0\n",
            "defaultdict(<class 'int'>, {'new key': 0})\n"
          ]
        }
      ],
      "source": [
        "d = defaultdict(int)\n",
        "print(d)\n",
        "print(d[\"new key\"])\n",
        "print(d)"
      ]
    },
    {
      "cell_type": "code",
      "execution_count": 31,
      "metadata": {
        "id": "gHIBoHbrvBqB"
      },
      "outputs": [
        {
          "name": "stdout",
          "output_type": "stream",
          "text": [
            "defaultdict(<class 'list'>, {})\n",
            "[]\n",
            "defaultdict(<class 'list'>, {'new key': []})\n"
          ]
        }
      ],
      "source": [
        "d = defaultdict(list)\n",
        "print(d)\n",
        "print(d[\"new key\"])\n",
        "print(d)"
      ]
    },
    {
      "cell_type": "markdown",
      "metadata": {
        "id": "9Obc7SPcRwB9"
      },
      "source": [
        "Note how the defaultdict is modified after getting a value of a non-existing key. If you want to avoid modifying the defaultdict when getting a value for a non-existing key, do the following:"
      ]
    },
    {
      "cell_type": "code",
      "execution_count": 32,
      "metadata": {
        "id": "Z9YsnMXZRwIR"
      },
      "outputs": [
        {
          "name": "stdout",
          "output_type": "stream",
          "text": [
            "defaultdict(<class 'list'>, {})\n",
            "[]\n",
            "defaultdict(<class 'list'>, {})\n"
          ]
        }
      ],
      "source": [
        "d = defaultdict(list)\n",
        "print(d)\n",
        "print(d.get(\"new key\", d.default_factory()))\n",
        "print(d)"
      ]
    },
    {
      "cell_type": "markdown",
      "metadata": {
        "id": "ReMovWEyvBqC"
      },
      "source": [
        "Converting an already existing `dict`:"
      ]
    },
    {
      "cell_type": "code",
      "execution_count": 33,
      "metadata": {
        "id": "eO-PZAXyvBqC"
      },
      "outputs": [
        {
          "name": "stdout",
          "output_type": "stream",
          "text": [
            "value\n",
            "0.0\n"
          ]
        }
      ],
      "source": [
        "d1 = {k: \"value\" for k in range(1, 11)}\n",
        "d = defaultdict(float, d1) # convert it to a defaultdict\n",
        "print(d[5])\n",
        "print(d[100])"
      ]
    },
    {
      "cell_type": "markdown",
      "metadata": {
        "id": "Qup8dlervBqC"
      },
      "source": [
        "This doesn't work:"
      ]
    },
    {
      "cell_type": "code",
      "execution_count": 34,
      "metadata": {
        "id": "vFdSoDb9vBqD"
      },
      "outputs": [],
      "source": [
        "# d = defaultdict(10)\n",
        "# Throws a TypeError: first argument must be callable or None"
      ]
    },
    {
      "cell_type": "markdown",
      "metadata": {
        "id": "WN4bK1eGvBqD"
      },
      "source": [
        "Use a `lambda` to make the number `10` `callable`\":"
      ]
    },
    {
      "cell_type": "code",
      "execution_count": 35,
      "metadata": {
        "id": "BS8vozeYvBqD"
      },
      "outputs": [
        {
          "name": "stdout",
          "output_type": "stream",
          "text": [
            "defaultdict(<function <lambda> at 0x000001CFD6BF3920>, {})\n",
            "10\n",
            "defaultdict(<function <lambda> at 0x000001CFD6BF3920>, {'new key': 10})\n"
          ]
        }
      ],
      "source": [
        "d = defaultdict(lambda: 10)\n",
        "print(d)\n",
        "print(d[\"new key\"])\n",
        "print(d)"
      ]
    },
    {
      "cell_type": "code",
      "execution_count": 36,
      "metadata": {
        "id": "vegtS6wJvBqE"
      },
      "outputs": [
        {
          "name": "stdout",
          "output_type": "stream",
          "text": [
            "defaultdict(<function <lambda> at 0x000001CFBF49E0C0>, {})\n",
            "defaultdict(<class 'float'>, {})\n",
            "defaultdict(<function <lambda> at 0x000001CFBF49E0C0>, {'new key': defaultdict(<class 'float'>, {})})\n"
          ]
        }
      ],
      "source": [
        "d = defaultdict(lambda: defaultdict(float))\n",
        "print(d)\n",
        "print(d[\"new key\"])\n",
        "print(d)"
      ]
    },
    {
      "cell_type": "markdown",
      "metadata": {
        "id": "ThZCgTQTo4KJ"
      },
      "source": [
        "Note that in some cases the behaviour of lambda functions might be counterintuitive. One of such cases is the closure: [link1](https://realpython.com/python-lambda/#closure), [link2](https://stackoverflow.com/questions/2295290/what-do-lambda-function-closures-capture)."
      ]
    },
    {
      "cell_type": "code",
      "execution_count": 6,
      "metadata": {
        "id": "NKYpXbk2cEw2"
      },
      "outputs": [
        {
          "name": "stdout",
          "output_type": "stream",
          "text": [
            "defaultdict(<function <lambda> at 0x000001BAFA6F8EA0>, {1: defaultdict(<class 'int'>, {1: 2}), 2: defaultdict(<class 'int'>, {1: 3})})\n",
            "2\n",
            "defaultdict(<class 'int'>, {})\n",
            "0\n",
            "defaultdict(<function <lambda> at 0x000001BAFA6F8EA0>, {1: defaultdict(<class 'int'>, {1: 2}), 2: defaultdict(<class 'int'>, {1: 3})})\n"
          ]
        }
      ],
      "source": [
        "# making a shortcut for the read-only get for defaultdict that supports several keys\n",
        "# i.e. defget(d, [k1, k2]) will return the value of d[k1][k2] without altering d\n",
        "def defget(d, keys):\n",
        "    for k in keys:\n",
        "        d = d.get(k, d.default_factory() if isinstance(d, defaultdict) else 0) #PATCH \n",
        "    return d\n",
        "\n",
        "# testing if it works as intended\n",
        "d = defaultdict(lambda: defaultdict(int))\n",
        "d[1][1] = 2\n",
        "d[2][1] = 3\n",
        "print(d)\n",
        "print(defget(d, [1, 1]))\n",
        "print(defget(d, [3]))\n",
        "print(defget(d, [3, 1]))\n",
        "print(d)"
      ]
    },
    {
      "cell_type": "markdown",
      "metadata": {
        "id": "6WYXdmJXvBqE"
      },
      "source": [
        "Clever use of a `defaultdict` can be the solution to the problem of data-storing in a smoothing $N$-gram pointed out above:\n",
        "    \n",
        "    d = bigram_frequencies[history] = {w1: 120, w2: 340, w3: 7 ...}\n",
        "    N = sum(d.values())\n",
        "    # d_normalized = .... # normalize d with smoothing applied to elements already in the dictionary  \n",
        "    d_smoothed = defaultdict(lambda: k/(N + kV), d_normalized) # add smoothing to 'unseen' words"
      ]
    },
    {
      "cell_type": "markdown",
      "metadata": {
        "id": "5svCtCyDvBqE"
      },
      "source": [
        "The following function is given to assist you with reading the data from the file in a convenient format. Understand how the function works and figure out how to use it for training n-grams.\n",
        "\n",
        "Note that the function uses padding symbols `<s>` and `</s>` to mark sentence boundaries. **When doing smoothing, include `</s>` in the vocabulary (and unigram models)**, otherwise after smoothing certain conditional probabilities will sum up higher than 1.  \n",
        "🤔 It is a good practice to think of why this would be the case.  "
      ]
    },
    {
      "cell_type": "code",
      "execution_count": 7,
      "metadata": {
        "id": "1DnP4YcPvBqF"
      },
      "outputs": [],
      "source": [
        "def read_data(fname, h=1, max_lines=np.inf):\n",
        "    \"\"\"\n",
        "    Reads in the data from a file and returns a vocabulary as a set\n",
        "    and the sentence-padded data as a list of list.\n",
        "\n",
        "    :param fname: path to the file\n",
        "    :param max_lines: the number of top lines to read (can be used for debugging)\n",
        "    :param h: the length of n-gram history\n",
        "    :returns: data as a list of lists and vocabulary as a set\n",
        "    \"\"\"\n",
        "    data = []\n",
        "    start = h * [\"<s>\"]\n",
        "    end = [\"</s>\"]\n",
        "\n",
        "    with open(fname, \"r\") as F:\n",
        "        for k, line in enumerate(F):\n",
        "            # an optional cut-off to read a part of the data\n",
        "            if k > max_lines:\n",
        "                break\n",
        "            words = line.strip().split()\n",
        "            # padding the sentence\n",
        "            sent = start + words + end\n",
        "            data.append(sent)\n",
        "    return data"
      ]
    },
    {
      "cell_type": "markdown",
      "metadata": {
        "id": "3dy2LfV1m3Vg"
      },
      "source": [
        "### train_ngram\n",
        "\n",
        "[15pt] **Complete** the function `train_ngram` so that you can train a count-based $N$-gram language model on the data found in `data/ted-train.txt` and train this for $N=2,3$.\n",
        "\n",
        "[10pt] **Extend** the function `train_ngram` so that it accepts a parameter `k` for optional add-$k$ smoothing (upgrade the same function, don't define new)."
      ]
    },
    {
      "cell_type": "code",
      "execution_count": 8,
      "metadata": {
        "id": "UCTtBMxWvBqF"
      },
      "outputs": [],
      "source": [
        "def train_ngram(data, N=2, k=0):\n",
        "    \"\"\"\n",
        "    Trains an n-gram language model with optional add-k smoothing\n",
        "    and additionally returns the unigram model\n",
        "\n",
        "    :param data: text-data as returned by the pre-defined function read_data\n",
        "    :param N: (N>1) the order of the ngram e.g. N=2 gives a bigram\n",
        "    :param k: optional add-k smoothing\n",
        "    :returns: ngram and unigram\n",
        "    \"\"\"\n",
        "    ngram = defaultdict(Counter) # ngram[history][word] = #(history,word)\n",
        "    # for history of length >1, join tokens with a singel white space (see tests below)\n",
        "\n",
        "    ## YOUR CODE HERE ##\n",
        "    ## you can have auxiliary functions if needed, inside of outside this function's scope\n",
        "    # the following line might be useful and its use is optional\n",
        "    # unigram = defaultdict(float, Counter(\"SOME VAR HERE\")) # default prob is 0.0\n",
        "    \n",
        "    \n",
        "    unigram = defaultdict(float, Counter())\n",
        "    total_counts =defaultdict(int)\n",
        "    \n",
        "    for sentence in data:\n",
        "        for i in range(len(sentence) - N + 1):\n",
        "            history = ' '.join(sentence[i:i + N - 1])  \n",
        "            word = sentence[i + N - 1]  \n",
        "            ngram[history][word] += 1 # Update ngram counts\n",
        "            unigram[word] += 1  # Update unigram counts\n",
        "            total_counts[history] += 1\n",
        "    \n",
        "    \n",
        "    vocab_size = len(unigram)\n",
        "    total_unigram_count = sum(unigram.values())\n",
        "    \n",
        "    # Compute the standard value for an unseen word for unigram \n",
        "    default_unigram_prob = lambda: k / (total_unigram_count + k * vocab_size)\n",
        "    \n",
        "    # Compute the standard value for an unseen history for ngram \n",
        "    default_ngram_prob = lambda : k / (total_count + k * vocab_size)\n",
        "\n",
        "    # K-Smoothinh: add k to all the n-grams/unigrams and normalize the probabilities to have total sum 1\n",
        "    for history in ngram:\n",
        "        total_count = total_counts[history]\n",
        "        for word in ngram[history]:\n",
        "            ngram[history][word] = (ngram[history][word] + k) / (total_count + k*vocab_size)\n",
        "        # Management of unseen history using the default ngram smoothed value\n",
        "        ngram[history] = defaultdict(default_ngram_prob, ngram[history])\n",
        "    \n",
        "    for word in unigram:\n",
        "        unigram[word] = (unigram[word] + k) / (total_unigram_count + k * vocab_size)\n",
        "    \n",
        "    # Management of unseen word using the default unigram smoothed value\n",
        "    unigram.default_factory = default_unigram_prob\n",
        "    \n",
        "    return ngram, unigram\n"
      ]
    },
    {
      "cell_type": "code",
      "execution_count": 9,
      "metadata": {
        "id": "Scw9yzDYc91M"
      },
      "outputs": [],
      "source": [
        "# This shouldn't take more than 2min\n",
        "Data1 = read_data(TED_FILES['train'], h=1) ## YOUR CODE HERE ##\n",
        "# use the global variable for the file path\n",
        "# non-smoothed bigram\n",
        "Bigram, Unigram = train_ngram(Data1, N=2, k=0)\n",
        "# smoothed bigram\n",
        "Bigram_sm, Unigram_sm = train_ngram(Data1, N=2, k=1)"
      ]
    },
    {
      "cell_type": "code",
      "execution_count": 10,
      "metadata": {
        "id": "CsS5hpWQvBqH"
      },
      "outputs": [],
      "source": [
        "# Running this might take significant amount of memory\n",
        "# Runtime shouldn't take more than 3min\n",
        "Data2 = read_data(TED_FILES['train'], h=2) ## YOUR CODE HERE ##\n",
        "# non-smoothed trigram\n",
        "Trigram, Unigram_ = train_ngram(Data2, N=3, k=0)\n",
        "# smoothed trigram\n",
        "Trigram_sm, Unigram_sm_ = train_ngram(Data2, N=3, k=1)"
      ]
    },
    {
      "cell_type": "code",
      "execution_count": 11,
      "metadata": {
        "id": "2TVjxsuyc91N"
      },
      "outputs": [],
      "source": [
        "#TEST 2.1\n",
        "# Be aware that when getting a value of a non-existing key from defaultdict with d[key] method,\n",
        "# the key gets inserted into the defaultdict. That's why tests use defget\n",
        "assert defget(Bigram, ['all','people']) > 0\n",
        "assert defget(Bigram, ['all','all']) == 0\n",
        "assert defget(Bigram_sm, ['all','all']) == defget(Bigram_sm, ['all','asdasda'])\n",
        "assert defget(Bigram_sm, ['all','asdasda']) > 0\n",
        "assert defget(Trigram, ['<s> <s>','The']) > 0\n",
        "assert defget(Trigram, ['<s> <s>','sun']) == 0\n",
        "assert np.isclose(sum(Trigram['All the'].values()), 1) #almost 1, but not 1 because of float point rounding\n",
        "assert defget(Trigram_sm, ['<s> <s>','sun']) > 0\n",
        "assert defget(Unigram, ['</s>']) > 0\n",
        "assert Unigram == Unigram_\n",
        "assert Unigram_sm == Unigram_sm_"
      ]
    },
    {
      "cell_type": "markdown",
      "metadata": {
        "id": "uHqoEt2zvBqJ"
      },
      "source": [
        "## Ex 2.2 [5pt]\n",
        "\n",
        "You can use an *N*-gram language model to **generate text**. The higher the order *N* the better your model will be able to catch the long-range dependencies that occur in actual sentences and the better your chances are at generating sensible text. But beware: **sparsity** of language data will quickly cause your model to reproduce entire lines from your training data; in such cases, only one $w_k$ was observed for the histories $w_{k-N+1}\\dots w_{k-1}$ in the entire training set."
      ]
    },
    {
      "cell_type": "markdown",
      "metadata": {
        "id": "YbOqa3y5hefa"
      },
      "source": [
        "### Some help\n",
        "\n",
        "**[Hint]** You can use the method of [inverse transform sampling](https://en.wikipedia.org/wiki/Inverse_transform_sampling) to generate a sample from a **categorical distribution**, $p_1\\dots p_k$ such that $p_i \\geq 0$ and $\\sum_{i=1}^k p_i = 1$, as follows:"
      ]
    },
    {
      "cell_type": "code",
      "execution_count": 12,
      "metadata": {
        "id": "fman6WFYvBqJ"
      },
      "outputs": [
        {
          "name": "stdout",
          "output_type": "stream",
          "text": [
            "1\n",
            "Counter({1: 503, 2: 208, 0: 202, 3: 87})\n"
          ]
        }
      ],
      "source": [
        "import random\n",
        "\n",
        "P = [0.2,0.5,0.2,0.1]\n",
        "\n",
        "def sample(P):\n",
        "    u = random.random() # random number between 0 and 1\n",
        "    p = 0\n",
        "    for i, p_i in enumerate(P):\n",
        "        p += p_i\n",
        "        if p > u:\n",
        "            return i # the first i s.t. p1 + ... + pi > u\n",
        "\n",
        "print(sample(P))\n",
        "\n",
        "print(Counter([sample(P) for i in range(1000)])) # check to see if the law of large numbers is still true"
      ]
    },
    {
      "cell_type": "markdown",
      "metadata": {
        "id": "jZBZ2mxTvBqK"
      },
      "source": [
        "Inverse transform sampling in the words of Jurafsky and Martin:\n",
        "\n",
        "> Imagine all the words of the English language covering the probability space\n",
        "between 0 and 1, each word covering an interval proportional to its frequency. We\n",
        "choose a random value between 0 and 1 and print the word whose interval includes\n",
        "this chosen value.\n",
        "\n",
        "(J&M, [section 3.3](https://web.stanford.edu/~jurafsky/slp3/3.pdf#page=10))"
      ]
    },
    {
      "cell_type": "markdown",
      "metadata": {
        "id": "hQiNLmMQhO9q"
      },
      "source": [
        "### generate_sent\n",
        "\n",
        "**Complete** the function `generate_sent`. It takes a language model `lm` and an order `N` and should generate a **natural language string(!)** (it shouldn't contain padding symbols and might not be a grammatical sentence) by **sampling** from the language model."
      ]
    },
    {
      "cell_type": "code",
      "execution_count": 48,
      "metadata": {},
      "outputs": [],
      "source": [
        "def generate_sent(lm, N):\n",
        "    \"\"\"\n",
        "    Generates sentence from a language model based on N-grams\n",
        "    :param lm: language model based on N-grams\n",
        "    :param N: denoting N-gram parameter\n",
        "    :returns: a string of natural language tokens where tokens are separated with a space\n",
        "    \"\"\"\n",
        "\n",
        "    ## YOUR CODE HERE ##\n",
        "    ## you can have auxiliary functions if needed, inside of outside this function's scope\n",
        "    \n",
        "    if N==2:\n",
        "        text = '<s>'\n",
        "        new_word = '<s>'\n",
        "        end = False\n",
        "\n",
        "        while end == False:  # While end of sentence has not been reached\n",
        "            word_values = []\n",
        "            new_word_dist = defget(lm, [new_word])  # Find prob for next word\n",
        "\n",
        "            for i in new_word_dist:\n",
        "                word_values.extend([[i, new_word_dist[i]]])\n",
        "\n",
        "            # Inverse Transform Sampling\n",
        "            u = random.random() # random number between 0 and 1\n",
        "            p = 0\n",
        "            for i , p_i in word_values:\n",
        "                p += p_i\n",
        "                if p > u: \n",
        "                    new_word = i\n",
        "                    text = text + ' ' + new_word\n",
        "\n",
        "                    if new_word == \"</s>\":  # End of sentence reached\n",
        "                        end = True\n",
        "                    break\n",
        "        \n",
        "        \n",
        "    if N==3:  \n",
        "        text = '<s> <s>'\n",
        "        new_word = '<s> <s>'\n",
        "        end = False\n",
        "\n",
        "        while end == False:  \n",
        "            word_values = []\n",
        "\n",
        "            if new_word != '<s> <s>':\n",
        "                join_word = previous_word + ' ' + new_word\n",
        "                i = new_word\n",
        "            else:\n",
        "                join_word = '<s> <s>'\n",
        "                i = '<s>'\n",
        "\n",
        "            new_word_dist = defget(lm, [join_word])\n",
        "            previous_word = i\n",
        "\n",
        "            for i in new_word_dist:\n",
        "                word_values.extend([[i, new_word_dist[i]]])\n",
        "\n",
        "            # Inverse Transform Sampling\n",
        "            u = random.random() # random number between 0 and 1\n",
        "            p = 0\n",
        "            for i , p_i in word_values:\n",
        "                p += p_i\n",
        "                if p > u: \n",
        "                    text = text + ' ' + i\n",
        "                    new_word = i\n",
        "                    if new_word == \"</s>\":  # End loop\n",
        "                        end = True\n",
        "                    break\n",
        "                \n",
        "    text = text.replace(\"<s>\", \"\").replace(\"</s>\", \"\")\n",
        "    return text\n"
      ]
    },
    {
      "cell_type": "code",
      "execution_count": 49,
      "metadata": {
        "id": "D0yKCR2xvBqL"
      },
      "outputs": [
        {
          "name": "stdout",
          "output_type": "stream",
          "text": [
            "Bigram:\n",
            "\n",
            " Now , I made women we celebrated . \n",
            " I hope . \n",
            " And there is a thing you , thank you can 't how to get to restore confidence is still are substantial premium on probability . \n",
            " So here . \n",
            " But the nose , I had done . \n",
            "\n",
            "Trigram:\n",
            "\n",
            "  But normally we can start making words today , there are problems . \n",
            "  And I believe that the extra credit I promised you . \n",
            "  But it is possible -- I 've just crossed my mind . \n",
            "  Thank you . \n",
            "  \" \"Relaxation . \n"
          ]
        }
      ],
      "source": [
        "#TEST Ex2.2\n",
        "random.seed(42) #uncommnet if you want to make the output non-deterministic\n",
        "\n",
        "print(\"Bigram:\\n\")\n",
        "print(\"\\n\".join([generate_sent(Bigram, 2) for _ in range(5)]))\n",
        "\n",
        "print(\"\\nTrigram:\\n\")\n",
        "print(\"\\n\".join([generate_sent(Trigram, 3) for _ in range(5)]))"
      ]
    },
    {
      "cell_type": "markdown",
      "metadata": {
        "id": "mPmwIHiqvBqL"
      },
      "source": [
        "### [Extra]\n",
        "No points for this\n",
        "\n",
        "For how many of the histories $w_{k-N+1}\\dots w_{k-1}$ is the number of continuations $w_n$ equal to **one**? Calculate the percentage of such cases for the different orders *N*.\n",
        "\n",
        "And which history has the **most possible continuations**?"
      ]
    },
    {
      "cell_type": "code",
      "execution_count": 46,
      "metadata": {
        "id": "aYGPyRyRc91S"
      },
      "outputs": [],
      "source": [
        "## YOUR CODE HERE ##"
      ]
    },
    {
      "cell_type": "markdown",
      "metadata": {
        "id": "mmREq7Zhc91S"
      },
      "source": [
        "YOUR ANSWER HERE"
      ]
    },
    {
      "cell_type": "markdown",
      "metadata": {
        "id": "NDjAQzkkvBqM"
      },
      "source": [
        "## Ex 2.3 Smoothing effect [5pt]\n",
        "\n",
        "Let $V$ denote our vocabulary. Recall that for any $w \\in V$ `bigram[w]` defines a conditional probability $p(v|w)$ over $v$ in $V$. In the case of an **unsmoothed bigram**, $p(v|w) = 0$ for most $v\\in V$, whereas in the **smoothed bigram** smoothing took care that $p(v|w) > 0$ for *all* $v$.\n",
        "\n",
        "The function `plot_bigram_dist(word, bigram, smoothbigram, k=30)` plots $p(v|word)$ for the `k` and words $v$. One bar shows the probabilities in `bigram` and one in `smoothbigram`.\n",
        "\n",
        "1. Use `plot_bigram_dist` to plot the bigram distributions for two words, frequent $w_1$ and infrequent $w_2$, i.e., the distributions of $p(v|w_1)$ and $p(v|w_2)$. Adjust the cut-off `n` parameter for better visualization.\n",
        "\n",
        "2. **Compare** the effect of `k=1` smoothing on the bigram distributions of the frequent $w_1$ and infrequent $w_2$ words. Give an informative insight instead of literally describing the plots.\n",
        "\n",
        "3. Now plot the same distributions but with $k$ being much smaller than 1 (but greater than 0!). **Explain and contrast** how the value of $k$ affects the distributions of the frequent $w_1$ and infrequent $w_2$ words. Again, give an informative insight instead of literally describing the plots.\n",
        "\n",
        "While providing the insights, try to be concise and right to the point.\n",
        "\n",
        "\n",
        "**[Hint]** Remember that add-1 smoothing turns\n",
        "$$P(w_n\\mid w_{n-1}) = \\frac{C(w_{n-1}w_{n})}{C(w_{n-1})}$$\n",
        "into\n",
        "$$P_{add-1}(w_n\\mid w_{n-1}) = \\frac{C(w_{n-1}w_{n}) + 1}{C(w_{n-1}) + |V|}.$$"
      ]
    },
    {
      "cell_type": "code",
      "execution_count": 15,
      "metadata": {
        "id": "A7RiiRRxvBqM"
      },
      "outputs": [],
      "source": [
        "import pandas as pd\n",
        "import seaborn as sns\n",
        "\n",
        "def plot_bigram_dist(word, bigram, smoothbigram, n=30):\n",
        "    d = bigram[word]\n",
        "    #print(type(d))\n",
        "    ds = smoothbigram[word]\n",
        "\n",
        "    # sort the probabilities\n",
        "    d_sort = sorted(d.items(), reverse=True, key=lambda t: t[1])[0:n]\n",
        "    ds_sort = sorted(ds.items(), reverse=True, key=lambda t: t[1])[0:n]\n",
        "\n",
        "    _, probs = zip(*d_sort)\n",
        "    smooth_ws, smooth_probs = zip(*ds_sort)\n",
        "\n",
        "    # make up for the fact that in the unsmoothed case non-0 probs is generally less than n long\n",
        "    probs = probs + (0,) * (n-len(probs))\n",
        "\n",
        "    w_data = pd.DataFrame({f\"{word}\": smooth_ws * 2,\n",
        "                           f\"P(w|{word})\": probs + smooth_probs,\n",
        "                           \"smoothing\": [\"unsmoothed\"]*n + [\"smoothed\"]*n})\n",
        "\n",
        "    fig, ax = plt.subplots(figsize=(12,5))\n",
        "    plt.xticks(rotation=90)\n",
        "    g = sns.barplot(ax=ax, x=f\"{word}\", y=f\"P(w|{word})\", hue=\"smoothing\",\n",
        "                    data=w_data, palette=\"Blues_d\")"
      ]
    },
    {
      "cell_type": "code",
      "execution_count": 16,
      "metadata": {
        "id": "rKH3i7FTvBqN"
      },
      "outputs": [
        {
          "data": {
            "text/plain": [
              "Text(0.5, 1.0, 'Smoothing effect with an infrequent word, k = 1')"
            ]
          },
          "execution_count": 16,
          "metadata": {},
          "output_type": "execute_result"
        },
        {
          "data": {
            "image/png": "[encoded data removed]",
            "text/plain": [
              "<Figure size 1200x500 with 1 Axes>"
            ]
          },
          "metadata": {},
          "output_type": "display_data"
        },
        {
          "data": {
            "image/png": "[encoded data removed]",
            "text/plain": [
              "<Figure size 1200x500 with 1 Axes>"
            ]
          },
          "metadata": {},
          "output_type": "display_data"
        }
      ],
      "source": [
        "# Use these variables\n",
        "Freq_word, Infreq_word = 'the', 'decide'\n",
        "\n",
        "## YOUR CODE HERE ##\n",
        "\n",
        "#Freq_word <- using a counter = Counter(Unigram), take the first word (becasue the first 2 are symbos) using .most_common(5)\n",
        "#Infreq_word <- look at Unigram and taken one of the last words\n",
        "\n",
        "\n",
        "plot_bigram_dist(Freq_word, Bigram, Bigram_sm, n=10)\n",
        "plt.title(\"Smoothing effect with a frequent word, k = 1\")\n",
        "plot_bigram_dist(Infreq_word, Bigram, Bigram_sm, n=10)\n",
        "plt.title(\"Smoothing effect with an infrequent word, k = 1\")"
      ]
    },
    {
      "cell_type": "code",
      "execution_count": 17,
      "metadata": {
        "id": "48XochmkvBqO"
      },
      "outputs": [
        {
          "data": {
            "text/plain": [
              "Text(0.5, 1.0, 'Smoothing effect with an infrequent word, k = 0.01')"
            ]
          },
          "execution_count": 17,
          "metadata": {},
          "output_type": "execute_result"
        },
        {
          "data": {
            "image/png": "[encoded data removed]",
            "text/plain": [
              "<Figure size 1200x500 with 1 Axes>"
            ]
          },
          "metadata": {},
          "output_type": "display_data"
        },
        {
          "data": {
            "image/png": "[encoded data removed]",
            "text/plain": [
              "<Figure size 1200x500 with 1 Axes>"
            ]
          },
          "metadata": {},
          "output_type": "display_data"
        }
      ],
      "source": [
        "# Use this K value and reuse Freq_word, Infreq_word\n",
        "Small_k = 0.01\n",
        "\n",
        "# small k smoothed bigram\n",
        "Bigram_sm_small_k, Unigram_sm_small_k = train_ngram(Data1, 2, Small_k)\n",
        "\n",
        "plot_bigram_dist(Freq_word, Bigram, Bigram_sm_small_k, n=30)\n",
        "plt.title(\"Smoothing effect with a frequent word, k = 0.01\")\n",
        "plot_bigram_dist(Infreq_word, Bigram, Bigram_sm_small_k, n=30)\n",
        "plt.title(\"Smoothing effect with an infrequent word, k = 0.01\")"
      ]
    },
    {
      "cell_type": "markdown",
      "metadata": {
        "id": "hN2uU1PxvBqN"
      },
      "source": [
        "█████ YOUR ANSWER HERE █████\n",
        "\n",
        "The k-smoothing method is used to handle any words not present in the vocabulary. In this case, instead of multiplying by a zero probability resulting in an overall probability of 0, we assign these words a very small probability, thus avoiding this issue.\n",
        "\n",
        "As can be seen from the first graph, using a value of k = 1 leads to an increase in the smoothing effect. This results in a difference between the probabilities with and without the application of smoothing.  Similarly, less frequent words show a greater difference compared to more frequent words.\n",
        "\n",
        "If k is low, as in our case k=0.01, the effect of smoothing on probabilities for frequent words is minimal and the differences between the application of smoothing and no application are negligible. However, rare words tend to have a more significant increase compared to frequent ones, as the additional value of k has a greater impact on the numerator of the probability calculation formula. This effect is noticeable in the second graph.\n",
        "\n",
        "In conclusion, the add-k smoothing method prevents the underrepresentation of rare words, making the model more robust."
      ]
    },
    {
      "cell_type": "markdown",
      "metadata": {
        "id": "-l9-iEXFvBqP"
      },
      "source": [
        "## Ex 2.4 Train sent. prob. [5pt]\n",
        "\n",
        "**Recall** that if we have a sentence $w_1,\\dots,w_n$ we can write\n",
        "\n",
        "$$P(w_1\\dots w_n) = P(w_1)P(w_2|w_1) \\cdots P(w_n|w_1 \\dots w_{n-1}) \\approx P(w_1)P(w_2|w_1)\\cdots P(w_n|w_{n-(N-1)}\\dots w_{n-1})\\prod_{i=1}^{n} P(w_i|w_{i-(N-1)}\\dots w_{i-1})$$\n",
        "\n",
        "where in the last step we make an $N$-gram approximation of the full conditionals.\n",
        "\n",
        "For example, in the case of a bigram (N=2), the above expression reduces to\n",
        "\n",
        "$$P(w_1 \\dots w_n)\\approx P(w_1)\\prod_{i=2}^{n} P(w_i| w_{i-1}).$$\n",
        "\n",
        "The following sentences are taken from the **training data**. Use your **unsmoothed unigram**, **bigram**, and **trigram** language model to estimate their **probabilities**:\n",
        "\n",
        "    1. Every day was about creating something new .\n",
        "    2. In this machine , a beam of protons and anti-protons are accelerated to near the speed of light and brought together in a collision , producing a burst of pure energy ."
      ]
    },
    {
      "cell_type": "code",
      "execution_count": 18,
      "metadata": {
        "id": "UdoNkywsvBqQ"
      },
      "outputs": [],
      "source": [
        "def sent_prob(sent, lm, N):\n",
        "    \"\"\"\n",
        "    Calculates probability of sent based on the N-gram language mode lm\n",
        "    :param sent: tokenized sentence string\n",
        "    :param lm: N-gram language model\n",
        "    :param N: N-gram size\n",
        "    :returns: probabilitity number\n",
        "    \"\"\"\n",
        "    ## YOUR CODE HERE ##\n",
        "    \n",
        "    \n",
        "    sent_list = sent.split()\n",
        "    padded_sentence = ['<s>'] * (N-1) + sent_list + ['</s>']\n",
        "    \n",
        "    prob = 1.0\n",
        "    \n",
        "    # exception for the unigram since it does not contain <s> and </s>\n",
        "    if N == 1:\n",
        "        for token in sent_list:\n",
        "            if token in lm:\n",
        "                prob *= lm[token]\n",
        "            else:\n",
        "                prob *= lm['<unk>'] # prob of unknown symbol\n",
        "    else: \n",
        "        for i in range(len(padded_sentence)-N+1):\n",
        "            # select the desired token every iteration\n",
        "            token = padded_sentence[i+N-1]\n",
        "            # create the history\n",
        "            history = ' '.join(padded_sentence[i:i+N-1])\n",
        "            # obtain the conditional probability of the n-gram model\n",
        "            prob *= lm[history][token]\n",
        "\n",
        "    return prob"
      ]
    },
    {
      "cell_type": "code",
      "execution_count": 19,
      "metadata": {
        "id": "9fIwnQCkc91V"
      },
      "outputs": [
        {
          "name": "stdout",
          "output_type": "stream",
          "text": [
            "\n",
            "Probabilities of the different models for the sentence \" Every day was about creating something new . \" are:\n",
            "Unigram:  5.712112664764572e-24\n",
            "Unigram Smoothed:  5.113906137575595e-24\n",
            "Bigram:  4.667998867880972e-17\n",
            "Bigram Smoothed:  1.3643677685951158e-26\n",
            "Trigram:  1.241092166741438e-11\n",
            "Trigram Smoothed:  1.5369890138167676e-35\n",
            "\n",
            "Probabilities of the different models for the sentence \" In this machine , a beam of protons and anti-protons are accelerated to near the speed of light and brought together in a collision , producing a burst of pure energy . \" are:\n",
            "Unigram:  5.797386631863279e-99\n",
            "Unigram Smoothed:  8.699223232742008e-99\n",
            "Bigram:  2.0159953795734388e-72\n",
            "Bigram Smoothed:  1.5557600688003233e-116\n",
            "Trigram:  3.570432747502253e-31\n",
            "Trigram Smoothed:  1.4025028993533683e-136\n"
          ]
        }
      ],
      "source": [
        "# Print all the abovemnetioned probabilities.\n",
        "# The cell output should make it clear what number stands for which probability.\n",
        "# Reuse the variables Unigram, Unigram_sm, Bigram, Bigram_sm, Trigram, and Trigram_sm.\n",
        "\n",
        "Sents_from_train = (\n",
        "    \"Every day was about creating something new .\",\n",
        "    \"In this machine , a beam of protons and anti-protons are accelerated to near the speed of light and brought together in a collision , producing a burst of pure energy .\"\n",
        ")\n",
        "\n",
        "## YOUR CODE HERE ##\n",
        "\n",
        "for sentence in Sents_from_train:\n",
        "    print('\\nProbabilities of the different models for the sentence \"', sentence, '\" are:')\n",
        "    print(\"Unigram: \", sent_prob(sentence, Unigram, 1))\n",
        "    print(\"Unigram Smoothed: \", sent_prob(sentence, Unigram_sm, 1))\n",
        "    print(\"Bigram: \", sent_prob(sentence, Bigram, 2))\n",
        "    print(\"Bigram Smoothed: \", sent_prob(sentence, Bigram_sm, 2))\n",
        "    print(\"Trigram: \", sent_prob(sentence, Trigram, 3))\n",
        "    print(\"Trigram Smoothed: \", sent_prob(sentence, Trigram_sm, 3))\n"
      ]
    },
    {
      "cell_type": "markdown",
      "metadata": {
        "id": "uMS37P4azImr"
      },
      "source": [
        "**Repeat** this with the **smoothed (add-1)** versions of the N-grams (in the same above code cell).   \n",
        "**What** is the effect of smoothing on the probabilities and **how** the effect compare across the different $N$-grams models? Provide explanations for the effect and the comparison."
      ]
    },
    {
      "cell_type": "markdown",
      "metadata": {
        "id": "qC_RnO1_vBqQ"
      },
      "source": [
        "█████ YOUR ANSWER HERE █████\n",
        "\n",
        "Probability smoothing reallocates probability mass from more frequent events to those not observed, ensuring that unseen words have non-zero probabilities. This reduces variance in estimable probabilities, improving model robustness and reducing overfitting.\n",
        "\n",
        "For unigram and smoothed unigram models, the differences are marginal due to minimal changes introduced. However, bigrams show more distinct distinctions, especially with longer sentences, influencing probabilities. This trend extends to trigrams.\n",
        "\n",
        "Model scores follow a descending order: trigram, bigram, unigram, smoothed unigram, smoothed bigram, and smoothed trigram. This hierarchy reflects the abundance of n-gram types in the training data, with trigrams being most prevalent. Despite unchanged pairs, smoothed trigrams score lowest due to probability reduction caused by smoothing.\n",
        "\n",
        "In summary, smoothing improves n-gram model robustness to unseen data, benefiting tasks like language modeling and text classification. However, selecting an appropriate smoothing parameter k is crucial, as excessive or inadequate smoothing can yield suboptimal outcomes."
      ]
    },
    {
      "cell_type": "markdown",
      "metadata": {
        "id": "6YFJJ2ThvBqR"
      },
      "source": [
        "## Ex 2.5 Test sent. prob. [3pt]\n",
        "\n",
        "The above sentences were taken from the training set, hence they will all have a probability greater than 0. The big challenge for our language model are of course with the sentences that contain unseen N-grams: if such an N-gram occurs our model immediately assigns the sentence probability zero.\n",
        "\n",
        "The following sentences are taken from the **test set** available in the file **ted-test.txt**.  \n",
        "**Print** the probabilities of the sentences based on the smoothed and unsmoothed language models.\n",
        "\n",
        "    1. Because these robots are really safe .\n",
        "    2. We have sheer nothingness on one side , and we have this vision of a reality that encompasses every conceivable world at the other extreme : the fullest possible reality , nothingness , the simplest possible reality ."
      ]
    },
    {
      "cell_type": "code",
      "execution_count": 20,
      "metadata": {
        "id": "g3_00-2qvBqR"
      },
      "outputs": [
        {
          "name": "stdout",
          "output_type": "stream",
          "text": [
            "\n",
            "Probabilities of the different models for the sentence \" Because these robots are really safe . \" are:\n",
            "Unigram:  2.2317955576407964e-21\n",
            "Unigram Smoothed:  2.0289073465874975e-21\n",
            "Bigram:  2.6913665324688018e-15\n",
            "Bigram Smoothed:  7.259723991103027e-24\n",
            "Trigram:  0.0\n",
            "Trigram Smoothed:  2.4779289184682183e-33\n",
            "\n",
            "Probabilities of the different models for the sentence \" We have sheer nothingness on one side , and we have this vision of a reality that encompasses every conceivable world at the other extreme : the fullest possible reality , nothingness , the simplest possible reality . \" are:\n",
            "Unigram:  1.0422525376891446e-116\n",
            "Unigram Smoothed:  1.0185816738215804e-116\n",
            "Bigram:  0.0\n",
            "Bigram Smoothed:  1.4204680411044673e-126\n",
            "Trigram:  0.0\n",
            "Trigram Smoothed:  0.0\n"
          ]
        }
      ],
      "source": [
        "# Print all the abovemnetioned probabilities.\n",
        "# The cell output should make it clear what number stands for which probability.\n",
        "# Reuse the variables Unigram, Unigram_sm, Bigram, Bigram_sm, Trigram, and Trigram_sm.\n",
        "\n",
        "Sents_from_test = (\n",
        "    \"Because these robots are really safe .\",\n",
        "    \"We have sheer nothingness on one side , and we have this vision of a reality that encompasses every conceivable world at the other extreme : the fullest possible reality , nothingness , the simplest possible reality .\"\n",
        ")\n",
        "### YOUR CODE HERE ###\n",
        "\n",
        "for sentence in Sents_from_test:\n",
        "    print('\\nProbabilities of the different models for the sentence \"', sentence, '\" are:')\n",
        "    print(\"Unigram: \", sent_prob(sentence, Unigram, 1))\n",
        "    print(\"Unigram Smoothed: \", sent_prob(sentence, Unigram_sm, 1))\n",
        "    print(\"Bigram: \", sent_prob(sentence, Bigram, 2))\n",
        "    print(\"Bigram Smoothed: \", sent_prob(sentence, Bigram_sm, 2))\n",
        "    print(\"Trigram: \", sent_prob(sentence, Trigram, 3))\n",
        "    print(\"Trigram Smoothed: \", sent_prob(sentence, Trigram_sm, 3))"
      ]
    },
    {
      "cell_type": "markdown",
      "metadata": {
        "id": "yXJZrc6bD3X-"
      },
      "source": [
        "**Contrast** the smoothed and unsmoothed probabilities and **explain** the drastic changes (if any) in terms of unseen tokens and sequences."
      ]
    },
    {
      "cell_type": "markdown",
      "metadata": {
        "id": "wy10zAGgvBqR"
      },
      "source": [
        "█████ YOUR ANSWER HERE \n",
        "\n",
        "In the case of unigrams, the effect is minimal. This is expected because unigrams consider only individual tokens, so introducing a new, unseen token doesn't significantly affect the rest of the tokens.\n",
        "\n",
        "However, with bigrams and trigrams, the introduction of smoothing leads to notable changes. For instance, in the first sentence, the probability sharply decreases for bigrams and trigrams once smoothing is applied. This decrease can be attributed to the fact that all token combinations were present in the training set, and smoothing lowers the probabilities for all combinations.\n",
        "\n",
        "Conversely, in the second sentence, the probability for bigrams actually increases with smoothing. This is because not all bigrams in the test set were present in the training set, and smoothing addresses this issue by adjusting the probabilities accordingly.\n",
        "\n",
        "Instead, trigrams in the second sentence show a probability of 0. This is due to the absence of an unseen history. According to the formula, when the history is unseen, the probability becomes inversely proportional to the size of the vocabulary. "
      ]
    },
    {
      "cell_type": "markdown",
      "metadata": {
        "id": "9x4nV5NVvBqS"
      },
      "source": [
        "### [Extra]\n",
        "\n",
        "**Optional** What percentage of the sentences in the test set get assigned probability 0 under your smoothed and unsmoothed language models?"
      ]
    },
    {
      "cell_type": "code",
      "execution_count": 53,
      "metadata": {
        "collapsed": true,
        "id": "RZY0PfSlvBqS"
      },
      "outputs": [],
      "source": [
        "### ANSWER HERE ###"
      ]
    },
    {
      "cell_type": "markdown",
      "metadata": {
        "id": "u7HXaUKivBqS"
      },
      "source": [
        "## Ex 2.6 Perplexity [5pt]\n",
        "\n",
        "**Perplexity** is very frequently used **metric** for evaluating probabilistic models such as language models. The perplexity (sometimes called **PP** for short) of a language model on a sentence is the **inverse probability** of the sentence, **normalized** by the number of words:\n",
        "\n",
        "$$PP(w_1 \\dots w_n) = P(w_1\\dots w_n)^{-\\frac{1}{n}}.$$\n",
        "\n",
        "Here we can again approximate $P(w_1 \\dots w_n)$ with N-gram probabilities, as above.\n",
        "\n",
        "Note: Calculation of perplexity has resemblance with the **geometric mean** $(x_1\\cdots x_n)^{-\\frac{1}{n}}$ of the numbers $x_1,\\dots,x_n$. It is like the (regular) arithmetic mean, but with **products** instead of **sums**. The geometric mean is a more natural choice in the case of *PP* because behind $P(w_1\\dots w_n)$ is a series of $n$ products ([more here](https://en.wikipedia.org/wiki/Geometric_mean)).\n",
        "\n",
        "\n",
        "\n",
        "Compute the perplexity of the sentences in the training data (from exercise 2.1) based on the smoothed bigram language model. It is recommended to use `sent_prob` from Ex2.4.\n",
        "\n",
        "What big difference between the **probabilities** of the sentences and the **perplexities** of the sentences do you notice?  \n",
        "**Provide** a strong evidence (e.g., a concrete example or a plot) and **explain** the difference."
      ]
    },
    {
      "cell_type": "code",
      "execution_count": 3,
      "metadata": {
        "id": "8kPgFt0SvBqS"
      },
      "outputs": [
        {
          "ename": "NameError",
          "evalue": "name 'read_data' is not defined",
          "output_type": "error",
          "traceback": [
            "\u001b[1;31m---------------------------------------------------------------------------\u001b[0m",
            "\u001b[1;31mNameError\u001b[0m                                 Traceback (most recent call last)",
            "Cell \u001b[1;32mIn[3], line 39\u001b[0m\n\u001b[0;32m     34\u001b[0m   perplexity \u001b[38;5;241m=\u001b[39m \u001b[38;5;28mpow\u001b[39m(prob, \u001b[38;5;241m-\u001b[39m\u001b[38;5;241m1.0\u001b[39m\u001b[38;5;241m/\u001b[39m\u001b[38;5;28mlen\u001b[39m(sent_start_end))\n\u001b[0;32m     36\u001b[0m   \u001b[38;5;28;01mreturn\u001b[39;00m perplexity\n\u001b[1;32m---> 39\u001b[0m Data_p \u001b[38;5;241m=\u001b[39m \u001b[43mread_data\u001b[49m(\u001b[38;5;124m'\u001b[39m\u001b[38;5;124mdata/ted-train.txt\u001b[39m\u001b[38;5;124m'\u001b[39m)\n\u001b[0;32m     40\u001b[0m data \u001b[38;5;241m=\u001b[39m Data_p[:\u001b[38;5;241m50\u001b[39m]\n\u001b[0;32m     42\u001b[0m perplexities \u001b[38;5;241m=\u001b[39m []\n",
            "\u001b[1;31mNameError\u001b[0m: name 'read_data' is not defined"
          ]
        }
      ],
      "source": [
        "# Feel free to reuse functions and variables form the previous exercises\n",
        "\n",
        "### YOUR CODE HERE ###\n",
        "\n",
        "def sent_perplexity(sent, lm, N):\n",
        "  \n",
        "  # Add <s> and </s> to make the sentences compatible with our model\n",
        "  sent_list = sent.split()\n",
        "  sent_start_end = ['<s>'] * (N-1) + sent_list + ['</s>']\n",
        "\n",
        "  prob = 1.0\n",
        "\n",
        "  # exception for the unigram since it does not contain <s> and </s>\n",
        "  if N == 1:\n",
        "    for token in sent_list:\n",
        "      if token in lm:\n",
        "        prob *= lm[token]\n",
        "      else:\n",
        "        prob *= lm['<unk>']\n",
        "\n",
        "  else:\n",
        "    # compute the cumulative probability of the sentence\n",
        "    for i in range(N-1, len(sent_start_end)):\n",
        "      token = sent_start_end[i]\n",
        "      history = ' '.join(sent_start_end[i-N+1:i])\n",
        "\n",
        "      # Extract and sum the probability if already in the data otherwise <unk> probability\n",
        "      if history in lm and token in lm[history]:\n",
        "        prob *= lm[history][token]\n",
        "      else:\n",
        "        prob *= lm['<unk>'][token]\n",
        "\n",
        "  # Perplexity formula\n",
        "  perplexity = pow(prob, -1.0/len(sent_start_end))\n",
        "  \n",
        "  return perplexity\n",
        "\n",
        "\n",
        "Data_p = read_data('data/ted-train.txt')\n",
        "data = Data_p[:50]\n",
        "\n",
        "perplexities = []\n",
        "probabilities = []\n",
        "for sent in data:\n",
        "    sent_str = ' '.join(sent).replace('<s> ', '').replace(' </s>', '')\n",
        "    perplexities.append(sent_perplexity(sent_str, Bigram_sm, 2))\n",
        "    probabilities.append(sent_prob(sent_str, Bigram_sm, 2))\n",
        "\n",
        "plt.bar(range(len(perplexities)), perplexities)\n",
        "\n",
        "plt.xlabel('Sentences')\n",
        "plt.ylabel('Perplexity')\n",
        "plt.title('Perplexity of first 100 sentences')\n",
        "\n",
        "plt.show()\n",
        "\n",
        "fig = plt.figure()\n",
        "ax = fig.add_subplot(2, 1, 1)\n",
        "ax.bar(range(len(probabilities)), probabilities)\n",
        "ax.set_xlabel('Sentences')\n",
        "ax.set_ylabel('Log Probability')\n",
        "ax.set_title('Log Probability of first 100 sentences')\n",
        "ax.set_yscale('log')"
      ]
    },
    {
      "cell_type": "markdown",
      "metadata": {
        "id": "2bWMxWTwvBqT"
      },
      "source": [
        "█████ YOUR ANSWER HERE █████"
      ]
    },
    {
      "cell_type": "markdown",
      "metadata": {
        "id": "_lZOzaX5vBqT"
      },
      "source": [
        "# That's it!\n",
        "\n",
        "Congratulations, you have made it to the end of the tutorial. Here we will recap the gist of this notebook.\n",
        "\n",
        "**Make sure all your cells can be executed and all your answers are there. Then, read on if you're interested!**\n",
        "\n",
        "-----\n",
        "\n",
        "By now you should have a solid feeling for the problem of **sparsity in language data**; there's just never enough data. For the task of language modelling, we saw that sparsity is a serious challenge.\n",
        "\n",
        "It would be great to be able to model $p(w_n|w_1 \\dots w_{n-1})$ for unlimited $n$: the larger $n$ the better our language model should become at capturing the long-range dependencies between words that characterize actual human sentences, and the more probability our model will assign to such sentences as opposed to sentences that are word-soup. But in the N-gram approach, increasing $n$ will quickly kill all generalizing abilities of the model: the model will start to assign probabilities only to sentences it has seen in the training data.\n",
        "\n",
        "So, where to go from here? Here are three directions that we could head in.\n",
        "\n",
        "### Smoothing\n",
        "\n",
        "We have seen one example of smoothing in this lab: add-k smoothing. This is an easy method, both conceptually and implementation-wise. But the results are not great, and the effects it has on the distributions can be extreme.\n",
        "\n",
        "A much more sophisticated method of smoothing is **Kneser-Ney smoothing**. The method is described in detail in section 4.5 of J&M (3rd edition). This is one of the best-performing N-gram smoothing methods, and up to a few years ago, a popular implementation of it called [KenLM](https://kheafield.com/code/kenlm/) gave state-of-the-art results.\n",
        "\n",
        "### From words to characters\n",
        "\n",
        "In this lab we have considered language modeling as the task of predicting a **word** $w_n$ based on a history of **words** $w_1\\cdots w_n$. What if instead we let our basic units of modelling be **characters**? The task then becomes to model $p(c_k\\mid c_{k-N-1}\\dots c_{k-1})$ where each $c_i$ is now an ASCII character instead of an entire word.\n",
        "\n",
        "Suddenly sparsity of data is no longer a problem! The set of characters to use is tiny (< 100) compared to even a small-sized vocabulary as today. Have a look at this very illustrative notebook written by Yoav Golberg to see such a method in action: [The unreasonable effectiveness of Character-level Language Models](http://nbviewer.jupyter.org/gist/yoavg/d76121dfde2618422139).\n",
        "\n",
        "(So what is the downside?)\n",
        "\n",
        "\n",
        "### Neural language models\n",
        "\n",
        "The above notebook was actually written as a response to this blog post by Andrej Karpathy: [The Unreasonable Effectiveness of Recurrent Neural Networks](http://karpathy.github.io/2015/05/21/rnn-effectiveness/). Go ahead and read it if you haven't already: it is a superb introduction to the topic of Recurrent Neural Networks.\n",
        "\n",
        "Neural language models solve the problem of data sparsity in a different manner. Instead of estimating the probabilities $p(w_k\\mid w_{k-N-1}\\dots w_{k-1})$ by counting occurrences in the data, they use a neural network $f_{\\theta}$ parametrized by parameters $\\theta$ to predict this probability. The parameters $\\theta$ are learned through optimization.\n",
        "\n",
        "The simplest approach goes like this: each word in the history $w_{k-N-1}\\dots w_{k-1}$ is embedded separately giving vectors $e_{k-N-1}\\dots e_{k-1}$ and then concatenated into one long vector $[e_{k-N-1};\\dots ;e_{k-1}]$. The network then uses this history vector to predict a probability distribution over words $w$ in the vocabulary $V$:\n",
        "\n",
        "$$p(w \\mid w_{k-N-1}\\dots w_{k-1}) = f_{\\theta}([e_{k-N-1};\\dots;e_{k-1}]).$$\n",
        "\n",
        "(In order to produce legitimate probabilities the final layer of such a network will be for example a $softmax$.)\n",
        "\n",
        "This provides a solution to the sparsity problem by having the network let the individual embeddings of the words in the history interact through its non-linear transformation. We are letting the network figure out the smoothing itself!\n",
        "\n",
        "RNNs are a clever extension of this idea, where a hidden state vector $h$ is re-used and updated at each step $k$ in order to store the information of the entire history up to step $k-1$. That is, an RNN actually does away with the N-order approximation; it tries to model the full conditional directly! That means that\n",
        "\n",
        "$$p(w \\mid w_1\\dots w_{k-1}) \\approx RNN_{\\theta}([e_{k-1};h_{k-1}])$$\n",
        "\n",
        "where the hidden state $h_{k-1}$ is a compression of the *entire history* $w_1\\dots w_{k-1}$.\n",
        "\n",
        "Another great place to learn about RNNs, their problems, and solutions to those, is on the blog of [Christopher Olah](http://colah.github.io/posts/2015-08-Understanding-LSTMs/).\n",
        "\n",
        "-----------\n",
        "(And now, it's time to read the classic essay by Eugene Wigner that gave both of the posts their title: [The Unreasonable Effectiveness of Mathematics in the Natural Sciences](http://www.dartmouth.edu/~matc/MathDrama/reading/Wigner.html))"
      ]
    },
    {
      "cell_type": "markdown",
      "metadata": {
        "id": "acBrUUTFFdHr"
      },
      "source": [
        "# Acknowledgments\n",
        "\n",
        "Most of this lab was developed in collaboration with Joost Bastings and Dan Douwe.  \n",
        "Later it was revised by a couple of people.  \n",
        "The recent updates by Lasha Abzianidze make the notebook more streamlined and foolproof from the grading and the large course perspectives."
      ]
    }
  ],
  "metadata": {
    "anaconda-cloud": {},
    "colab": {
      "collapsed_sections": [
        "9x4nV5NVvBqS"
      ],
      "provenance": [],
      "toc_visible": true
    },
    "kernelspec": {
      "display_name": "Python 3 (ipykernel)",
      "language": "python",
      "name": "python3"
    },
    "language_info": {
      "codemirror_mode": {
        "name": "ipython",
        "version": 3
      },
      "file_extension": ".py",
      "mimetype": "text/x-python",
      "name": "python",
      "nbconvert_exporter": "python",
      "pygments_lexer": "ipython3",
      "version": "3.11.7"
    },
    "toc": {
      "base_numbering": 1,
      "nav_menu": {},
      "number_sections": true,
      "sideBar": true,
      "skip_h1_title": false,
      "title_cell": "Table of Contents",
      "title_sidebar": "Contents",
      "toc_cell": false,
      "toc_position": {},
      "toc_section_display": true,
      "toc_window_display": false
    }
  },
  "nbformat": 4,
  "nbformat_minor": 0
}
